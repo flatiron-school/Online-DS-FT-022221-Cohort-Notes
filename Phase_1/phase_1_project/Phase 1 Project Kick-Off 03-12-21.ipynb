{
 "cells": [
  {
   "cell_type": "markdown",
   "metadata": {},
   "source": [
    "# Phase 1 Project  Kick Off"
   ]
  },
  {
   "cell_type": "markdown",
   "metadata": {},
   "source": [
    "- onl01-dtsc-ft-022221\n",
    "- 03/12/21"
   ]
  },
  {
   "cell_type": "markdown",
   "metadata": {},
   "source": [
    "# Portfolio Projects"
   ]
  },
  {
   "cell_type": "markdown",
   "metadata": {},
   "source": [
    "\n",
    "    \n",
    "<img src=\"../../assets/images/projects_build_portfilio.png\" width=50% >\n",
    "\n",
    "\n",
    "    \n",
    "<img src=\"../../assets/images/projects_quote_v2.png\" width=70% >\n",
    "\n",
    "- Your portfolio is extremely important when it comes time for your job hunt.\n",
    "    - This first project will NOT go in your final portfolio, but we should practice producing Professional Public-facing projects. "
   ]
  },
  {
   "cell_type": "markdown",
   "metadata": {
    "heading_collapsed": true
   },
   "source": [
    "# Phase 1 Project"
   ]
  },
  {
   "cell_type": "markdown",
   "metadata": {
    "hidden": true
   },
   "source": [
    "- [ ] [Walk through Phase Project Overview Lesson](https://learning.flatironschool.com/courses/2680/pages/phase-1-project-overview-and-deadlines)\n",
    "    - All due dates, review process details, etc. are all in the above lesson.\n",
    "\n",
    "\n",
    "\n",
    "- [ ] [Read through the project together](https://learning.flatironschool.com/courses/2680/assignments/88765?module_item_id=174810)\n",
    "\n",
    "\n",
    "- [ ] Walk through how I recommend using the template and examples repo\n",
    "\n",
    "\n",
    "- [ ] Walk through my tips on getting started"
   ]
  },
  {
   "cell_type": "markdown",
   "metadata": {
    "heading_collapsed": true
   },
   "source": [
    "# General Project Tips & Advice \n"
   ]
  },
  {
   "cell_type": "markdown",
   "metadata": {
    "hidden": true
   },
   "source": [
    "#### Put yourself in the shoes of your **stakeholders**\n",
    " * What do they want to know?\n",
    " * Is the information geared towards them (talking to non-data scientists)\n",
    " * You are providing **insights** which lead to **actionable items**\n",
    "   \n",
    "#### Do the data reflect what you are saying?\n",
    "* Are the data complete?\n",
    "* Are the differences (statistically) significant? (We'll go over this in the future)\n",
    "* Where are the potential biases? \n",
    "\n",
    "#### Emphasize your points with a narrative\n",
    "* We like stories: both technical & non-technical\n",
    "* Use visuals to emphasize your points (**explanatory visualizations**)\n",
    "* Each slide should contain a single idea (emphasizes what you say)"
   ]
  },
  {
   "cell_type": "markdown",
   "metadata": {
    "heading_collapsed": true
   },
   "source": [
    "# Blogs"
   ]
  },
  {
   "cell_type": "markdown",
   "metadata": {
    "hidden": true
   },
   "source": [
    "\n",
    "\n",
    "- [ ] [Blogging Slide Deck](https://docs.google.com/presentation/d/1oOyiQqVBFEQyPOqKjGV8OwJO4qavrRwfpEE8eLl9pyM/edit?usp=sharing)"
   ]
  },
  {
   "cell_type": "markdown",
   "metadata": {
    "heading_collapsed": true
   },
   "source": [
    "#  Study Group Schedule - Next Week"
   ]
  },
  {
   "cell_type": "markdown",
   "metadata": {
    "hidden": true
   },
   "source": [
    "| Day | Topic|\n",
    "|---|---|\n",
    "|Tuesday| **Project Office Hours + Additional Tips**|\n",
    "|Wednesday| Project Office Hours| \n",
    "|Thursday| **How to Submit Your Projects + Project Office Hours**|\n",
    "|Friday| Project Office Hours|"
   ]
  },
  {
   "cell_type": "code",
   "execution_count": null,
   "metadata": {
    "hidden": true
   },
   "outputs": [],
   "source": []
  }
 ],
 "metadata": {
  "kernelspec": {
   "display_name": "learn-env-new",
   "language": "python",
   "name": "learn-env-new"
  },
  "language_info": {
   "codemirror_mode": {
    "name": "ipython",
    "version": 3
   },
   "file_extension": ".py",
   "mimetype": "text/x-python",
   "name": "python",
   "nbconvert_exporter": "python",
   "pygments_lexer": "ipython3",
   "version": "3.8.5"
  },
  "toc": {
   "base_numbering": 1,
   "nav_menu": {},
   "number_sections": true,
   "sideBar": true,
   "skip_h1_title": false,
   "title_cell": "Table of Contents",
   "title_sidebar": "Contents",
   "toc_cell": false,
   "toc_position": {},
   "toc_section_display": true,
   "toc_window_display": true
  },
  "varInspector": {
   "cols": {
    "lenName": 16,
    "lenType": 16,
    "lenVar": 40
   },
   "kernels_config": {
    "python": {
     "delete_cmd_postfix": "",
     "delete_cmd_prefix": "del ",
     "library": "var_list.py",
     "varRefreshCmd": "print(var_dic_list())"
    },
    "r": {
     "delete_cmd_postfix": ") ",
     "delete_cmd_prefix": "rm(",
     "library": "var_list.r",
     "varRefreshCmd": "cat(var_dic_list()) "
    }
   },
   "types_to_exclude": [
    "module",
    "function",
    "builtin_function_or_method",
    "instance",
    "_Feature"
   ],
   "window_display": false
  }
 },
 "nbformat": 4,
 "nbformat_minor": 4
}
