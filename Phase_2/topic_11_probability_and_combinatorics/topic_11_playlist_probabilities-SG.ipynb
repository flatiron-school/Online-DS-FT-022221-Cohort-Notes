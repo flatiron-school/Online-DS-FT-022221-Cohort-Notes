{
 "cells": [
  {
   "cell_type": "markdown",
   "metadata": {
    "colab_type": "text",
    "id": "bTdc9YkWXZz_"
   },
   "source": [
    "# Topic 11 - Intro to Combinatorics & Probability \n"
   ]
  },
  {
   "cell_type": "markdown",
   "metadata": {},
   "source": [
    "## Learning Objectives\n"
   ]
  },
  {
   "cell_type": "markdown",
   "metadata": {},
   "source": [
    "- Briefly discuss Sets and set notation\n",
    "- Learn to recognize Permutations vs Combinations\n",
    "- Review what is probability\n",
    "- Activity: Playlist Probabilities\n",
    "- Dependent vs Independent Probability AKA when to use conditional probability"
   ]
  },
  {
   "cell_type": "markdown",
   "metadata": {},
   "source": [
    "# Sets"
   ]
  },
  {
   "cell_type": "markdown",
   "metadata": {},
   "source": [
    "Sets are collections of elements, and the language and notation used to talk about sets are used in a lot of other placs, so it's nice to go ahead and lay the groundwork here."
   ]
  },
  {
   "cell_type": "markdown",
   "metadata": {},
   "source": [
    "## Set notation\n",
    "<img src=\"images/setnotation.jpg\" alt=\"set notation, found from https://slideplayer.com/slide/10502152/\" width=800>\n",
    "\n",
    "[Image Source](https://slideplayer.com/slide/10502152/)\n",
    "\n",
    "More on Sets: https://www.mathsisfun.com/sets/sets-introduction.html"
   ]
  },
  {
   "cell_type": "code",
   "execution_count": 1,
   "metadata": {},
   "outputs": [],
   "source": [
    "# empty={1,2}\n",
    "# set()\n",
    "# type(empty)"
   ]
  },
  {
   "cell_type": "markdown",
   "metadata": {},
   "source": [
    "### But Now, in Python:"
   ]
  },
  {
   "cell_type": "markdown",
   "metadata": {
    "colab_type": "text",
    "id": "c9rKTCYMebwR"
   },
   "source": [
    " \n",
    "\n",
    "| Method        |\tEquivalent |\tResult |\n",
    "| ------                    | ------       | ------    |\n",
    "| s.issubset(t)             |\ts <= t     | test whether every element in s is in t\n",
    "| s.issuperset(t)           |\ts >= t     | test whether every element in t is in s\n",
    "| s.union(t)                |\ts $\\mid$ t | new set with elements from both s and t\n",
    "| s.intersection(t)         |\ts & t      | new set with elements common to s and t\n",
    "| s.difference(t)           |\ts - t \t   | new set with elements in s but not in t\n",
    "| s.symmetric_difference(t) |\ts ^ t      | new set with elements in either s or t but not both"
   ]
  },
  {
   "cell_type": "markdown",
   "metadata": {},
   "source": [
    "# Permutations vs. Combinations"
   ]
  },
  {
   "cell_type": "markdown",
   "metadata": {},
   "source": [
    "Now let's talk about how you can take elements from different collections and group them."
   ]
  },
  {
   "cell_type": "markdown",
   "metadata": {
    "slideshow": {
     "slide_type": "slide"
    }
   },
   "source": [
    "## What's the difference between a permutation and a combination?"
   ]
  },
  {
   "cell_type": "markdown",
   "metadata": {
    "slideshow": {
     "slide_type": "slide"
    }
   },
   "source": [
    "## Permutations"
   ]
  },
  {
   "cell_type": "markdown",
   "metadata": {
    "slideshow": {
     "slide_type": "slide"
    }
   },
   "source": [
    "- In a **permutation**, order matters.\n",
    "    - If you have a race, it matters who arrives in first, or second, or third place - there's a difference in the ordering of the group!\n",
    "\n",
    "> ***Permutation: How many ways to arrange n elements?***\n",
    "    $$\\large P(n) = n!$$\n",
    "___\n",
    "> ***Permutations with replacement: How many ways to select $j$ elements out of a pool of $n$ objects?***\n",
    "$$ \\large {P}_{j}^{n} = n^j $$\n",
    "- where $n$ = total number of elements\n",
    "- $j$ = number of positions to fill   \n",
    "\n",
    "\n",
    "___\n",
    "> ***Permutations (without replacement): How many ways to select $k$ elements out of a pool of $n$ objects? (AKA permutations of a subset)***\n",
    "$$ \\large P_{k}^{n}= \\dfrac{n!}{(n-k)!}$$ <br>this is known as the **$k$-permutation of $n$**\n",
    "    \n",
    "    \n"
   ]
  },
  {
   "cell_type": "markdown",
   "metadata": {
    "colab_type": "text",
    "id": "KBImNzwvXb_v"
   },
   "source": [
    "> ***Permutations with repetition: Permutation where there are some elements that may appear multiple times.***<br>\n",
    "The general formula can be written as:\n",
    "$$\\dfrac{n!}{n_1!n_2!\\ldots n_j!}$$\n",
    "where $n_j$ stands for identical objects of type $j$\n",
    "\n",
    "- E.G. looking at the word TENNESSEE by itself, you can swap the 3rd and the 4th letter and have the same word. So the total number is less than $9!$.\n",
    "    - The solution is to divide $9!$ by the factorials for each letter that is repeated!\n",
    "    - The answer here is then (9 letters, 4 x E, 2 x N, 2 x S)\n",
    "    - $\\dfrac{9!}{4!2!2!} = 3780$\n",
    "\n"
   ]
  },
  {
   "cell_type": "markdown",
   "metadata": {},
   "source": [
    "## Combinations"
   ]
  },
  {
   "cell_type": "markdown",
   "metadata": {
    "slideshow": {
     "slide_type": "slide"
    }
   },
   "source": [
    "- In a **combination**, you only care about which items are members of the set. \n",
    "    - For example, if you're creating groups of students to work on a project, the order in which you add their names to the group doesn't really matter - it's the group members itself, not any order, that you care about.\n",
    "    \n",
    "> ***Combination: How many ways can we create a subset $k$ out of $n$ objects, when order is not important?*** \n",
    "$$\\large C_{k}^{n} = \\displaystyle\\binom{n}{k} = \\dfrac{P_{k}^{n}}{k!}=\\dfrac{ \\dfrac{n!}{(n-k)!}}{k!} = \\dfrac{n!}{(n-k)!k!}$$\n",
    "\n",
    "\n",
    "- Simplified combination equation\n",
    "$$\\large C_{k}^{n} = \\dfrac{n!}{(n-k)!k!}$$"
   ]
  },
  {
   "cell_type": "markdown",
   "metadata": {},
   "source": [
    "## Practice Questions"
   ]
  },
  {
   "cell_type": "code",
   "execution_count": 2,
   "metadata": {},
   "outputs": [],
   "source": [
    "import itertools\n",
    "from math import factorial"
   ]
  },
  {
   "cell_type": "markdown",
   "metadata": {
    "slideshow": {
     "slide_type": "slide"
    }
   },
   "source": [
    "### Q1: How many possible codes are there for a standard padlock?\n",
    "\n",
    "> Hint: (there are 40 numbers on a padlock and use 3 numbers.)\n",
    "\n",
    "This is an example of... \n",
    "\n",
    " - Permutation or Combination ?"
   ]
  },
  {
   "cell_type": "code",
   "execution_count": 3,
   "metadata": {},
   "outputs": [
    {
     "data": {
      "text/plain": [
       "64000"
      ]
     },
     "execution_count": 3,
     "metadata": {},
     "output_type": "execute_result"
    }
   ],
   "source": [
    "## A:\n",
    "40**3"
   ]
  },
  {
   "cell_type": "markdown",
   "metadata": {},
   "source": [
    "#### A1:"
   ]
  },
  {
   "cell_type": "markdown",
   "metadata": {},
   "source": [
    "For the first number: 40 choices. For the second number, still 40 choices: $40\\cdot40=40^2$. Again, for 3rd number, still 40 choices: $40\\cdot40\\cdot40=40^3$\n",
    "\n",
    "This is an example of... \n",
    "\n",
    " - **Permutation** or Combination ?"
   ]
  },
  {
   "cell_type": "code",
   "execution_count": 4,
   "metadata": {},
   "outputs": [
    {
     "data": {
      "text/plain": [
       "64000"
      ]
     },
     "execution_count": 4,
     "metadata": {},
     "output_type": "execute_result"
    }
   ],
   "source": [
    "# A:\n",
    "40**3"
   ]
  },
  {
   "cell_type": "markdown",
   "metadata": {
    "slideshow": {
     "slide_type": "slide"
    }
   },
   "source": [
    "### Q2: How many unique 3 topping pizzas can you make from the following ingredients:\n",
    "\n",
    "- Mushrooms\n",
    "- Pepperoni\n",
    "- Onion\n",
    "- Peppers\n",
    "- Ham\n",
    "- Pineapple\n",
    "- Sausage\n",
    "- Olives\n",
    "    \n",
    "> Side note: which is the worst?"
   ]
  },
  {
   "cell_type": "markdown",
   "metadata": {},
   "source": [
    "This is an example of... \n",
    "\n",
    " - Permutation or Combination?"
   ]
  },
  {
   "cell_type": "markdown",
   "metadata": {},
   "source": [
    "$$\\large C_{k}^{n} = \\dfrac{n!}{(n-k)!k!}$$"
   ]
  },
  {
   "cell_type": "code",
   "execution_count": 5,
   "metadata": {
    "slideshow": {
     "slide_type": "notes"
    }
   },
   "outputs": [
    {
     "data": {
      "text/plain": [
       "56.0"
      ]
     },
     "execution_count": 5,
     "metadata": {},
     "output_type": "execute_result"
    }
   ],
   "source": [
    "## A:\n",
    "factorial(8)/(factorial(8-3)*factorial(3))"
   ]
  },
  {
   "cell_type": "markdown",
   "metadata": {},
   "source": [
    "#### A: Q2"
   ]
  },
  {
   "cell_type": "markdown",
   "metadata": {},
   "source": [
    "This is an example of... \n",
    "\n",
    " - Permutation or **Combination**?"
   ]
  },
  {
   "cell_type": "code",
   "execution_count": 6,
   "metadata": {},
   "outputs": [
    {
     "data": {
      "text/plain": [
       "56.0"
      ]
     },
     "execution_count": 6,
     "metadata": {},
     "output_type": "execute_result"
    }
   ],
   "source": [
    "## Equation Answer:\n",
    "factorial(8)/ (factorial(5)*factorial(3))"
   ]
  },
  {
   "cell_type": "code",
   "execution_count": 7,
   "metadata": {},
   "outputs": [
    {
     "data": {
      "text/plain": [
       "[('Mushrooms', 'Pepperoni', 'Onion'),\n",
       " ('Mushrooms', 'Pepperoni', 'Peppers'),\n",
       " ('Mushrooms', 'Pepperoni', 'Ham'),\n",
       " ('Mushrooms', 'Pepperoni', 'Pineapple'),\n",
       " ('Mushrooms', 'Pepperoni', 'Sausage'),\n",
       " ('Mushrooms', 'Pepperoni', 'Olives'),\n",
       " ('Mushrooms', 'Onion', 'Peppers'),\n",
       " ('Mushrooms', 'Onion', 'Ham'),\n",
       " ('Mushrooms', 'Onion', 'Pineapple'),\n",
       " ('Mushrooms', 'Onion', 'Sausage'),\n",
       " ('Mushrooms', 'Onion', 'Olives'),\n",
       " ('Mushrooms', 'Peppers', 'Ham'),\n",
       " ('Mushrooms', 'Peppers', 'Pineapple'),\n",
       " ('Mushrooms', 'Peppers', 'Sausage'),\n",
       " ('Mushrooms', 'Peppers', 'Olives'),\n",
       " ('Mushrooms', 'Ham', 'Pineapple'),\n",
       " ('Mushrooms', 'Ham', 'Sausage'),\n",
       " ('Mushrooms', 'Ham', 'Olives'),\n",
       " ('Mushrooms', 'Pineapple', 'Sausage'),\n",
       " ('Mushrooms', 'Pineapple', 'Olives'),\n",
       " ('Mushrooms', 'Sausage', 'Olives'),\n",
       " ('Pepperoni', 'Onion', 'Peppers'),\n",
       " ('Pepperoni', 'Onion', 'Ham'),\n",
       " ('Pepperoni', 'Onion', 'Pineapple'),\n",
       " ('Pepperoni', 'Onion', 'Sausage'),\n",
       " ('Pepperoni', 'Onion', 'Olives'),\n",
       " ('Pepperoni', 'Peppers', 'Ham'),\n",
       " ('Pepperoni', 'Peppers', 'Pineapple'),\n",
       " ('Pepperoni', 'Peppers', 'Sausage'),\n",
       " ('Pepperoni', 'Peppers', 'Olives'),\n",
       " ('Pepperoni', 'Ham', 'Pineapple'),\n",
       " ('Pepperoni', 'Ham', 'Sausage'),\n",
       " ('Pepperoni', 'Ham', 'Olives'),\n",
       " ('Pepperoni', 'Pineapple', 'Sausage'),\n",
       " ('Pepperoni', 'Pineapple', 'Olives'),\n",
       " ('Pepperoni', 'Sausage', 'Olives'),\n",
       " ('Onion', 'Peppers', 'Ham'),\n",
       " ('Onion', 'Peppers', 'Pineapple'),\n",
       " ('Onion', 'Peppers', 'Sausage'),\n",
       " ('Onion', 'Peppers', 'Olives'),\n",
       " ('Onion', 'Ham', 'Pineapple'),\n",
       " ('Onion', 'Ham', 'Sausage'),\n",
       " ('Onion', 'Ham', 'Olives'),\n",
       " ('Onion', 'Pineapple', 'Sausage'),\n",
       " ('Onion', 'Pineapple', 'Olives'),\n",
       " ('Onion', 'Sausage', 'Olives'),\n",
       " ('Peppers', 'Ham', 'Pineapple'),\n",
       " ('Peppers', 'Ham', 'Sausage'),\n",
       " ('Peppers', 'Ham', 'Olives'),\n",
       " ('Peppers', 'Pineapple', 'Sausage'),\n",
       " ('Peppers', 'Pineapple', 'Olives'),\n",
       " ('Peppers', 'Sausage', 'Olives'),\n",
       " ('Ham', 'Pineapple', 'Sausage'),\n",
       " ('Ham', 'Pineapple', 'Olives'),\n",
       " ('Ham', 'Sausage', 'Olives'),\n",
       " ('Pineapple', 'Sausage', 'Olives')]"
      ]
     },
     "execution_count": 7,
     "metadata": {},
     "output_type": "execute_result"
    }
   ],
   "source": [
    "## Code answer\n",
    "toppings = [\"Mushrooms\",\"Pepperoni\",\"Onion\",\n",
    "            \"Peppers\",\"Ham\",\"Pineapple\",\"Sausage\",\"Olives\"]\n",
    "three_topping_pizzas = list(itertools.combinations(toppings, 3))\n",
    "three_topping_pizzas"
   ]
  },
  {
   "cell_type": "markdown",
   "metadata": {},
   "source": [
    "## What is probability?"
   ]
  },
  {
   "cell_type": "markdown",
   "metadata": {
    "colab_type": "text",
    "id": "hHKVcR-FYNqf"
   },
   "source": [
    "> **Probability is the likelihood of a specific outcome/event occuring out of all possible outcomes, expressed as a fraction between 0 and 1.**\n",
    "\n",
    "Perhaps more importantly:\n",
    "\n",
    "> **\"Probabilities do not tell us what will happen for sure; they tell us what is _likely to happen_ and what is _less likely to happen_.\"**\n",
    ">\n",
    "> -- _Naked Statistics_, by Charles Wheelan, p. 72\n",
    "\n",
    "<!---\n",
    "Example Probability Qs:\n",
    "- How likely is it to end up with heads when flipping a coin once? (the answer here is 50% - not very surprising)\n",
    "\n",
    "- How likely is it to end up with exactly 2 x heads and 3 x tails when flipping a coin 5 times?\n",
    "\n",
    "- How likely is it to throw tails first, then heads, then tails, then heads, then tails when flipping a coin 5 times?\n",
    "\n",
    "- If you throw 5 dice, what is the probability of throwing a [\"full house\"](http://grail.sourceforge.net/demo/yahtzee/rules.html)?\n",
    "\n",
    "- What is the probability of drawing 2 consecutive aces from a standard deck of cards?\n",
    "\n",
    "> But how do we calculate it? ..._to be continued_...\n",
    "\n",
    "--->"
   ]
  },
  {
   "cell_type": "markdown",
   "metadata": {},
   "source": [
    "In general, you can think of dividing the outcome you're exploring by all possible outcomes:\n",
    "\n",
    "$$ P(Event) = \\frac{|Event|}{|Sample\\ Space|} $$"
   ]
  },
  {
   "cell_type": "markdown",
   "metadata": {
    "colab_type": "text",
    "id": "5yI4j_L6XcBp"
   },
   "source": [
    "##### Sample space:"
   ]
  },
  {
   "cell_type": "markdown",
   "metadata": {
    "colab_type": "text",
    "id": "5yI4j_L6XcBp"
   },
   "source": [
    "$$S = \\{ 1,2,3,4,5,6\\}$$ \n",
    "being the possible outcomes when throwing a dice.\n",
    "- Sample space =  $\\Omega$ "
   ]
  },
  {
   "cell_type": "markdown",
   "metadata": {
    "colab_type": "text",
    "id": "5yI4j_L6XcBp"
   },
   "source": [
    "##### Event space:"
   ]
  },
  {
   "cell_type": "markdown",
   "metadata": {
    "colab_type": "text",
    "id": "5yI4j_L6XcBp"
   },
   "source": [
    "-   The **event space** is a subset of the sample space. It is the **desired outcome** of the experiment.\n",
    "$$E \\subseteq S$$\n",
    "-   Example:\n",
    "    -   Throwing an odd number would lead to an event space $$E = \\{ 1,3,5\\}$$."
   ]
  },
  {
   "cell_type": "markdown",
   "metadata": {},
   "source": [
    "### Probability of an Event"
   ]
  },
  {
   "cell_type": "markdown",
   "metadata": {},
   "source": [
    "$$ P(E) = \\frac{|E|}{|S|} $$\n",
    "probability is the number of possible preferred outcomes over the sample space / all outcomes"
   ]
  },
  {
   "cell_type": "markdown",
   "metadata": {
    "colab_type": "text",
    "id": "5yI4j_L6XcBp"
   },
   "source": [
    "### Probability axioms"
   ]
  },
  {
   "cell_type": "markdown",
   "metadata": {
    "colab_type": "text",
    "id": "5yI4j_L6XcBp"
   },
   "source": [
    "1.  Positivity : \n",
    "    - Prob is always $0 <= P(E) <=1$\n",
    "\n",
    "\n",
    "2.  Probability of a certain/guaranteed event:\n",
    "    - $P(S)=1$\n",
    "\n",
    "\n",
    "3.  Additivity Union of 2 exclusive sets = sum prob of individual events happening\n",
    "  \n",
    "    - If $A\\cap B = \\emptyset $, then $P(A\\cup B) = P(A) + P(B)$"
   ]
  },
  {
   "cell_type": "markdown",
   "metadata": {
    "colab_type": "text",
    "id": "5yI4j_L6XcBp"
   },
   "source": [
    "#### Addition law of probability \n",
    "\n",
    "-   Prob of union of A and B is individual P minus intersection\n",
    "\n",
    "$$ \\large P(A\\cup B) = P(A) + P(B) - P(A \\cap B)$$"
   ]
  },
  {
   "cell_type": "markdown",
   "metadata": {
    "ExecuteTime": {
     "end_time": "2020-01-06T22:53:10.213591Z",
     "start_time": "2020-01-06T22:53:10.211467Z"
    }
   },
   "source": [
    "# 🕹 Activity: Dinner Party Playlist Permutations & Probabilities"
   ]
  },
  {
   "cell_type": "markdown",
   "metadata": {},
   "source": [
    "- We are constructing a Spotify playlist for a dinner party that we are planning. \n",
    "\n",
    "- We asked our attendees to each provide a handful of songs they would like to be played at the dinner party.\n",
    "\n",
    "- Each guest has provided their requests in a csv.\n",
    "\n",
    "> - Load in and join the csvs into one df, keeping track of who requested what. "
   ]
  },
  {
   "cell_type": "code",
   "execution_count": 8,
   "metadata": {
    "ExecuteTime": {
     "end_time": "2020-08-04T17:00:22.359098Z",
     "start_time": "2020-08-04T17:00:21.630811Z"
    },
    "colab": {},
    "colab_type": "code",
    "id": "HhbtNsyeXQIm",
    "scrolled": true
   },
   "outputs": [
    {
     "data": {
      "text/plain": [
       "['playlist_requests/joe_recs.csv',\n",
       " 'playlist_requests/james_recs.csv',\n",
       " 'playlist_requests/anne_recs.csv',\n",
       " 'playlist_requests/carla_recs.csv',\n",
       " 'playlist_requests/john_recs.csv',\n",
       " 'playlist_requests/samantha_recs.csv']"
      ]
     },
     "execution_count": 8,
     "metadata": {},
     "output_type": "execute_result"
    }
   ],
   "source": [
    "import pandas as pd\n",
    "import numpy as np\n",
    "from math import factorial\n",
    "import os,glob\n",
    "\n",
    "## Our Guests requests\n",
    "datafolder = \"playlist_requests/\"\n",
    "request_files = glob.glob(datafolder+\"*.csv\")\n",
    "request_files"
   ]
  },
  {
   "cell_type": "code",
   "execution_count": 9,
   "metadata": {
    "ExecuteTime": {
     "end_time": "2020-08-04T17:00:22.380661Z",
     "start_time": "2020-08-04T17:00:22.360283Z"
    }
   },
   "outputs": [
    {
     "data": {
      "text/plain": [
       "dict_keys(['joe', 'james', 'anne', 'carla', 'john', 'samantha'])"
      ]
     },
     "execution_count": 9,
     "metadata": {},
     "output_type": "execute_result"
    }
   ],
   "source": [
    "## Make a playlist dictionary\n",
    "playlists = {}\n",
    "\n",
    "for file in request_files:\n",
    "    ## Slice out the requester's name\n",
    "    name = file.split('/')[-1].replace('_recs.csv','')\n",
    "    \n",
    "    ## load the csv file \n",
    "    temp_df = pd.read_csv(file)\n",
    "    \n",
    "    ## save the person's name in a new \"Requested By\" column\n",
    "    temp_df['Requested By'] = name.title()\n",
    "    \n",
    "    ## save the csv as a df to the dict, using name as the key\n",
    "    playlists[name] = temp_df\n",
    "    del temp_df\n",
    "\n",
    "    \n",
    "playlists.keys()"
   ]
  },
  {
   "cell_type": "code",
   "execution_count": 10,
   "metadata": {
    "ExecuteTime": {
     "end_time": "2020-08-04T17:00:23.739307Z",
     "start_time": "2020-08-04T17:00:23.165257Z"
    }
   },
   "outputs": [
    {
     "data": {
      "text/html": [
       "<style  type=\"text/css\" >\n",
       "</style><table id=\"T_442180e0_8cce_11eb_bf99_a683e748ff0e\" ><caption>Joe's Requests:</caption><thead>    <tr>        <th class=\"blank level0\" ></th>        <th class=\"col_heading level0 col0\" >artist</th>        <th class=\"col_heading level0 col1\" >track</th>        <th class=\"col_heading level0 col2\" >Requested By</th>    </tr></thead><tbody>\n",
       "                <tr>\n",
       "                        <th id=\"T_442180e0_8cce_11eb_bf99_a683e748ff0elevel0_row0\" class=\"row_heading level0 row0\" >0</th>\n",
       "                        <td id=\"T_442180e0_8cce_11eb_bf99_a683e748ff0erow0_col0\" class=\"data row0 col0\" >Green Day</td>\n",
       "                        <td id=\"T_442180e0_8cce_11eb_bf99_a683e748ff0erow0_col1\" class=\"data row0 col1\" >Time of your Life</td>\n",
       "                        <td id=\"T_442180e0_8cce_11eb_bf99_a683e748ff0erow0_col2\" class=\"data row0 col2\" >Joe</td>\n",
       "            </tr>\n",
       "            <tr>\n",
       "                        <th id=\"T_442180e0_8cce_11eb_bf99_a683e748ff0elevel0_row1\" class=\"row_heading level0 row1\" >1</th>\n",
       "                        <td id=\"T_442180e0_8cce_11eb_bf99_a683e748ff0erow1_col0\" class=\"data row1 col0\" >B-52s</td>\n",
       "                        <td id=\"T_442180e0_8cce_11eb_bf99_a683e748ff0erow1_col1\" class=\"data row1 col1\" >Rock Lobster</td>\n",
       "                        <td id=\"T_442180e0_8cce_11eb_bf99_a683e748ff0erow1_col2\" class=\"data row1 col2\" >Joe</td>\n",
       "            </tr>\n",
       "            <tr>\n",
       "                        <th id=\"T_442180e0_8cce_11eb_bf99_a683e748ff0elevel0_row2\" class=\"row_heading level0 row2\" >2</th>\n",
       "                        <td id=\"T_442180e0_8cce_11eb_bf99_a683e748ff0erow2_col0\" class=\"data row2 col0\" >Lady GaGa</td>\n",
       "                        <td id=\"T_442180e0_8cce_11eb_bf99_a683e748ff0erow2_col1\" class=\"data row2 col1\" >Poker Face</td>\n",
       "                        <td id=\"T_442180e0_8cce_11eb_bf99_a683e748ff0erow2_col2\" class=\"data row2 col2\" >Joe</td>\n",
       "            </tr>\n",
       "            <tr>\n",
       "                        <th id=\"T_442180e0_8cce_11eb_bf99_a683e748ff0elevel0_row3\" class=\"row_heading level0 row3\" >3</th>\n",
       "                        <td id=\"T_442180e0_8cce_11eb_bf99_a683e748ff0erow3_col0\" class=\"data row3 col0\" >John Lennon</td>\n",
       "                        <td id=\"T_442180e0_8cce_11eb_bf99_a683e748ff0erow3_col1\" class=\"data row3 col1\" >Imagine</td>\n",
       "                        <td id=\"T_442180e0_8cce_11eb_bf99_a683e748ff0erow3_col2\" class=\"data row3 col2\" >Joe</td>\n",
       "            </tr>\n",
       "    </tbody></table>"
      ],
      "text/plain": [
       "<pandas.io.formats.style.Styler at 0x7fded12a5d00>"
      ]
     },
     "metadata": {},
     "output_type": "display_data"
    },
    {
     "data": {
      "text/html": [
       "<style  type=\"text/css\" >\n",
       "</style><table id=\"T_442204b6_8cce_11eb_bf99_a683e748ff0e\" ><caption>James's Requests:</caption><thead>    <tr>        <th class=\"blank level0\" ></th>        <th class=\"col_heading level0 col0\" >artist</th>        <th class=\"col_heading level0 col1\" >track</th>        <th class=\"col_heading level0 col2\" >Requested By</th>    </tr></thead><tbody>\n",
       "                <tr>\n",
       "                        <th id=\"T_442204b6_8cce_11eb_bf99_a683e748ff0elevel0_row0\" class=\"row_heading level0 row0\" >0</th>\n",
       "                        <td id=\"T_442204b6_8cce_11eb_bf99_a683e748ff0erow0_col0\" class=\"data row0 col0\" >Eve 6</td>\n",
       "                        <td id=\"T_442204b6_8cce_11eb_bf99_a683e748ff0erow0_col1\" class=\"data row0 col1\" >Here's to the Night</td>\n",
       "                        <td id=\"T_442204b6_8cce_11eb_bf99_a683e748ff0erow0_col2\" class=\"data row0 col2\" >James</td>\n",
       "            </tr>\n",
       "            <tr>\n",
       "                        <th id=\"T_442204b6_8cce_11eb_bf99_a683e748ff0elevel0_row1\" class=\"row_heading level0 row1\" >1</th>\n",
       "                        <td id=\"T_442204b6_8cce_11eb_bf99_a683e748ff0erow1_col0\" class=\"data row1 col0\" >Neutral Milk Hotel</td>\n",
       "                        <td id=\"T_442204b6_8cce_11eb_bf99_a683e748ff0erow1_col1\" class=\"data row1 col1\" >Into the Aeroplane Over the Sea</td>\n",
       "                        <td id=\"T_442204b6_8cce_11eb_bf99_a683e748ff0erow1_col2\" class=\"data row1 col2\" >James</td>\n",
       "            </tr>\n",
       "            <tr>\n",
       "                        <th id=\"T_442204b6_8cce_11eb_bf99_a683e748ff0elevel0_row2\" class=\"row_heading level0 row2\" >2</th>\n",
       "                        <td id=\"T_442204b6_8cce_11eb_bf99_a683e748ff0erow2_col0\" class=\"data row2 col0\" >Rilo Kiley</td>\n",
       "                        <td id=\"T_442204b6_8cce_11eb_bf99_a683e748ff0erow2_col1\" class=\"data row2 col1\" >With Arms Outstretched</td>\n",
       "                        <td id=\"T_442204b6_8cce_11eb_bf99_a683e748ff0erow2_col2\" class=\"data row2 col2\" >James</td>\n",
       "            </tr>\n",
       "            <tr>\n",
       "                        <th id=\"T_442204b6_8cce_11eb_bf99_a683e748ff0elevel0_row3\" class=\"row_heading level0 row3\" >3</th>\n",
       "                        <td id=\"T_442204b6_8cce_11eb_bf99_a683e748ff0erow3_col0\" class=\"data row3 col0\" >Red Hot Chili Peppers</td>\n",
       "                        <td id=\"T_442204b6_8cce_11eb_bf99_a683e748ff0erow3_col1\" class=\"data row3 col1\" >Otherside</td>\n",
       "                        <td id=\"T_442204b6_8cce_11eb_bf99_a683e748ff0erow3_col2\" class=\"data row3 col2\" >James</td>\n",
       "            </tr>\n",
       "    </tbody></table>"
      ],
      "text/plain": [
       "<pandas.io.formats.style.Styler at 0x7fded12a5f70>"
      ]
     },
     "metadata": {},
     "output_type": "display_data"
    },
    {
     "data": {
      "text/html": [
       "<style  type=\"text/css\" >\n",
       "</style><table id=\"T_442285bc_8cce_11eb_bf99_a683e748ff0e\" ><caption>Anne's Requests:</caption><thead>    <tr>        <th class=\"blank level0\" ></th>        <th class=\"col_heading level0 col0\" >artist</th>        <th class=\"col_heading level0 col1\" >track</th>        <th class=\"col_heading level0 col2\" >Requested By</th>    </tr></thead><tbody>\n",
       "                <tr>\n",
       "                        <th id=\"T_442285bc_8cce_11eb_bf99_a683e748ff0elevel0_row0\" class=\"row_heading level0 row0\" >0</th>\n",
       "                        <td id=\"T_442285bc_8cce_11eb_bf99_a683e748ff0erow0_col0\" class=\"data row0 col0\" >Smashing Pumpkins</td>\n",
       "                        <td id=\"T_442285bc_8cce_11eb_bf99_a683e748ff0erow0_col1\" class=\"data row0 col1\" >Tonight, Tonight</td>\n",
       "                        <td id=\"T_442285bc_8cce_11eb_bf99_a683e748ff0erow0_col2\" class=\"data row0 col2\" >Anne</td>\n",
       "            </tr>\n",
       "            <tr>\n",
       "                        <th id=\"T_442285bc_8cce_11eb_bf99_a683e748ff0elevel0_row1\" class=\"row_heading level0 row1\" >1</th>\n",
       "                        <td id=\"T_442285bc_8cce_11eb_bf99_a683e748ff0erow1_col0\" class=\"data row1 col0\" >Black Eyed Peas</td>\n",
       "                        <td id=\"T_442285bc_8cce_11eb_bf99_a683e748ff0erow1_col1\" class=\"data row1 col1\" >Let's Get it Started</td>\n",
       "                        <td id=\"T_442285bc_8cce_11eb_bf99_a683e748ff0erow1_col2\" class=\"data row1 col2\" >Anne</td>\n",
       "            </tr>\n",
       "            <tr>\n",
       "                        <th id=\"T_442285bc_8cce_11eb_bf99_a683e748ff0elevel0_row2\" class=\"row_heading level0 row2\" >2</th>\n",
       "                        <td id=\"T_442285bc_8cce_11eb_bf99_a683e748ff0erow2_col0\" class=\"data row2 col0\" >Green Day</td>\n",
       "                        <td id=\"T_442285bc_8cce_11eb_bf99_a683e748ff0erow2_col1\" class=\"data row2 col1\" >Time of your Life</td>\n",
       "                        <td id=\"T_442285bc_8cce_11eb_bf99_a683e748ff0erow2_col2\" class=\"data row2 col2\" >Anne</td>\n",
       "            </tr>\n",
       "    </tbody></table>"
      ],
      "text/plain": [
       "<pandas.io.formats.style.Styler at 0x7fded31f6f40>"
      ]
     },
     "metadata": {},
     "output_type": "display_data"
    },
    {
     "data": {
      "text/html": [
       "<style  type=\"text/css\" >\n",
       "</style><table id=\"T_44231874_8cce_11eb_bf99_a683e748ff0e\" ><caption>Carla's Requests:</caption><thead>    <tr>        <th class=\"blank level0\" ></th>        <th class=\"col_heading level0 col0\" >artist</th>        <th class=\"col_heading level0 col1\" >track</th>        <th class=\"col_heading level0 col2\" >Requested By</th>    </tr></thead><tbody>\n",
       "                <tr>\n",
       "                        <th id=\"T_44231874_8cce_11eb_bf99_a683e748ff0elevel0_row0\" class=\"row_heading level0 row0\" >0</th>\n",
       "                        <td id=\"T_44231874_8cce_11eb_bf99_a683e748ff0erow0_col0\" class=\"data row0 col0\" >Cartman (South Park)</td>\n",
       "                        <td id=\"T_44231874_8cce_11eb_bf99_a683e748ff0erow0_col1\" class=\"data row0 col1\" >Poker Face</td>\n",
       "                        <td id=\"T_44231874_8cce_11eb_bf99_a683e748ff0erow0_col2\" class=\"data row0 col2\" >Carla</td>\n",
       "            </tr>\n",
       "            <tr>\n",
       "                        <th id=\"T_44231874_8cce_11eb_bf99_a683e748ff0elevel0_row1\" class=\"row_heading level0 row1\" >1</th>\n",
       "                        <td id=\"T_44231874_8cce_11eb_bf99_a683e748ff0erow1_col0\" class=\"data row1 col0\" >Nicki Minaj</td>\n",
       "                        <td id=\"T_44231874_8cce_11eb_bf99_a683e748ff0erow1_col1\" class=\"data row1 col1\" >Right By My Side</td>\n",
       "                        <td id=\"T_44231874_8cce_11eb_bf99_a683e748ff0erow1_col2\" class=\"data row1 col2\" >Carla</td>\n",
       "            </tr>\n",
       "            <tr>\n",
       "                        <th id=\"T_44231874_8cce_11eb_bf99_a683e748ff0elevel0_row2\" class=\"row_heading level0 row2\" >2</th>\n",
       "                        <td id=\"T_44231874_8cce_11eb_bf99_a683e748ff0erow2_col0\" class=\"data row2 col0\" >Kelly Clarkson</td>\n",
       "                        <td id=\"T_44231874_8cce_11eb_bf99_a683e748ff0erow2_col1\" class=\"data row2 col1\" >Since You've Been Gone</td>\n",
       "                        <td id=\"T_44231874_8cce_11eb_bf99_a683e748ff0erow2_col2\" class=\"data row2 col2\" >Carla</td>\n",
       "            </tr>\n",
       "            <tr>\n",
       "                        <th id=\"T_44231874_8cce_11eb_bf99_a683e748ff0elevel0_row3\" class=\"row_heading level0 row3\" >3</th>\n",
       "                        <td id=\"T_44231874_8cce_11eb_bf99_a683e748ff0erow3_col0\" class=\"data row3 col0\" >Nicki Minaj</td>\n",
       "                        <td id=\"T_44231874_8cce_11eb_bf99_a683e748ff0erow3_col1\" class=\"data row3 col1\" >Marilyn Monroe</td>\n",
       "                        <td id=\"T_44231874_8cce_11eb_bf99_a683e748ff0erow3_col2\" class=\"data row3 col2\" >Carla</td>\n",
       "            </tr>\n",
       "            <tr>\n",
       "                        <th id=\"T_44231874_8cce_11eb_bf99_a683e748ff0elevel0_row4\" class=\"row_heading level0 row4\" >4</th>\n",
       "                        <td id=\"T_44231874_8cce_11eb_bf99_a683e748ff0erow4_col0\" class=\"data row4 col0\" >Kelly Clarkson</td>\n",
       "                        <td id=\"T_44231874_8cce_11eb_bf99_a683e748ff0erow4_col1\" class=\"data row4 col1\" >Never Again</td>\n",
       "                        <td id=\"T_44231874_8cce_11eb_bf99_a683e748ff0erow4_col2\" class=\"data row4 col2\" >Carla</td>\n",
       "            </tr>\n",
       "            <tr>\n",
       "                        <th id=\"T_44231874_8cce_11eb_bf99_a683e748ff0elevel0_row5\" class=\"row_heading level0 row5\" >5</th>\n",
       "                        <td id=\"T_44231874_8cce_11eb_bf99_a683e748ff0erow5_col0\" class=\"data row5 col0\" >Green Day</td>\n",
       "                        <td id=\"T_44231874_8cce_11eb_bf99_a683e748ff0erow5_col1\" class=\"data row5 col1\" >Minority</td>\n",
       "                        <td id=\"T_44231874_8cce_11eb_bf99_a683e748ff0erow5_col2\" class=\"data row5 col2\" >Carla</td>\n",
       "            </tr>\n",
       "    </tbody></table>"
      ],
      "text/plain": [
       "<pandas.io.formats.style.Styler at 0x7fded31f6970>"
      ]
     },
     "metadata": {},
     "output_type": "display_data"
    },
    {
     "data": {
      "text/html": [
       "<style  type=\"text/css\" >\n",
       "</style><table id=\"T_4423a212_8cce_11eb_bf99_a683e748ff0e\" ><caption>John's Requests:</caption><thead>    <tr>        <th class=\"blank level0\" ></th>        <th class=\"col_heading level0 col0\" >artist</th>        <th class=\"col_heading level0 col1\" >track</th>        <th class=\"col_heading level0 col2\" >Requested By</th>    </tr></thead><tbody>\n",
       "                <tr>\n",
       "                        <th id=\"T_4423a212_8cce_11eb_bf99_a683e748ff0elevel0_row0\" class=\"row_heading level0 row0\" >0</th>\n",
       "                        <td id=\"T_4423a212_8cce_11eb_bf99_a683e748ff0erow0_col0\" class=\"data row0 col0\" >Black Eyed Peas</td>\n",
       "                        <td id=\"T_4423a212_8cce_11eb_bf99_a683e748ff0erow0_col1\" class=\"data row0 col1\" >Let's Get it Started</td>\n",
       "                        <td id=\"T_4423a212_8cce_11eb_bf99_a683e748ff0erow0_col2\" class=\"data row0 col2\" >John</td>\n",
       "            </tr>\n",
       "            <tr>\n",
       "                        <th id=\"T_4423a212_8cce_11eb_bf99_a683e748ff0elevel0_row1\" class=\"row_heading level0 row1\" >1</th>\n",
       "                        <td id=\"T_4423a212_8cce_11eb_bf99_a683e748ff0erow1_col0\" class=\"data row1 col0\" >Lady GaGa</td>\n",
       "                        <td id=\"T_4423a212_8cce_11eb_bf99_a683e748ff0erow1_col1\" class=\"data row1 col1\" >Poker Face</td>\n",
       "                        <td id=\"T_4423a212_8cce_11eb_bf99_a683e748ff0erow1_col2\" class=\"data row1 col2\" >John</td>\n",
       "            </tr>\n",
       "            <tr>\n",
       "                        <th id=\"T_4423a212_8cce_11eb_bf99_a683e748ff0elevel0_row2\" class=\"row_heading level0 row2\" >2</th>\n",
       "                        <td id=\"T_4423a212_8cce_11eb_bf99_a683e748ff0erow2_col0\" class=\"data row2 col0\" >Lady GaGa</td>\n",
       "                        <td id=\"T_4423a212_8cce_11eb_bf99_a683e748ff0erow2_col1\" class=\"data row2 col1\" >Bad Romance</td>\n",
       "                        <td id=\"T_4423a212_8cce_11eb_bf99_a683e748ff0erow2_col2\" class=\"data row2 col2\" >John</td>\n",
       "            </tr>\n",
       "            <tr>\n",
       "                        <th id=\"T_4423a212_8cce_11eb_bf99_a683e748ff0elevel0_row3\" class=\"row_heading level0 row3\" >3</th>\n",
       "                        <td id=\"T_4423a212_8cce_11eb_bf99_a683e748ff0erow3_col0\" class=\"data row3 col0\" >Lady GaGa</td>\n",
       "                        <td id=\"T_4423a212_8cce_11eb_bf99_a683e748ff0erow3_col1\" class=\"data row3 col1\" >Just Dance</td>\n",
       "                        <td id=\"T_4423a212_8cce_11eb_bf99_a683e748ff0erow3_col2\" class=\"data row3 col2\" >John</td>\n",
       "            </tr>\n",
       "    </tbody></table>"
      ],
      "text/plain": [
       "<pandas.io.formats.style.Styler at 0x7fded32030d0>"
      ]
     },
     "metadata": {},
     "output_type": "display_data"
    },
    {
     "data": {
      "text/html": [
       "<style  type=\"text/css\" >\n",
       "</style><table id=\"T_44243894_8cce_11eb_bf99_a683e748ff0e\" ><caption>Samantha's Requests:</caption><thead>    <tr>        <th class=\"blank level0\" ></th>        <th class=\"col_heading level0 col0\" >artist</th>        <th class=\"col_heading level0 col1\" >track</th>        <th class=\"col_heading level0 col2\" >Requested By</th>    </tr></thead><tbody>\n",
       "                <tr>\n",
       "                        <th id=\"T_44243894_8cce_11eb_bf99_a683e748ff0elevel0_row0\" class=\"row_heading level0 row0\" >0</th>\n",
       "                        <td id=\"T_44243894_8cce_11eb_bf99_a683e748ff0erow0_col0\" class=\"data row0 col0\" >Black Eyed Peas</td>\n",
       "                        <td id=\"T_44243894_8cce_11eb_bf99_a683e748ff0erow0_col1\" class=\"data row0 col1\" >Let's Get it Started</td>\n",
       "                        <td id=\"T_44243894_8cce_11eb_bf99_a683e748ff0erow0_col2\" class=\"data row0 col2\" >Samantha</td>\n",
       "            </tr>\n",
       "            <tr>\n",
       "                        <th id=\"T_44243894_8cce_11eb_bf99_a683e748ff0elevel0_row1\" class=\"row_heading level0 row1\" >1</th>\n",
       "                        <td id=\"T_44243894_8cce_11eb_bf99_a683e748ff0erow1_col0\" class=\"data row1 col0\" >Panic at the Disco</td>\n",
       "                        <td id=\"T_44243894_8cce_11eb_bf99_a683e748ff0erow1_col1\" class=\"data row1 col1\" >Hallelujah</td>\n",
       "                        <td id=\"T_44243894_8cce_11eb_bf99_a683e748ff0erow1_col2\" class=\"data row1 col2\" >Samantha</td>\n",
       "            </tr>\n",
       "            <tr>\n",
       "                        <th id=\"T_44243894_8cce_11eb_bf99_a683e748ff0elevel0_row2\" class=\"row_heading level0 row2\" >2</th>\n",
       "                        <td id=\"T_44243894_8cce_11eb_bf99_a683e748ff0erow2_col0\" class=\"data row2 col0\" >Adele</td>\n",
       "                        <td id=\"T_44243894_8cce_11eb_bf99_a683e748ff0erow2_col1\" class=\"data row2 col1\" >Set Fire to the Rain</td>\n",
       "                        <td id=\"T_44243894_8cce_11eb_bf99_a683e748ff0erow2_col2\" class=\"data row2 col2\" >Samantha</td>\n",
       "            </tr>\n",
       "    </tbody></table>"
      ],
      "text/plain": [
       "<pandas.io.formats.style.Styler at 0x7fded3626dc0>"
      ]
     },
     "metadata": {},
     "output_type": "display_data"
    }
   ],
   "source": [
    "## Loop through the dict and display the requester's name and their df\n",
    "for name,playlist in playlists.items():\n",
    "    \n",
    "    ## Can use .style.set_caption(name) or just print name before display(df)\n",
    "    display(playlist.style.set_caption(f\"{name.title()}'s Requests:\"))"
   ]
  },
  {
   "cell_type": "markdown",
   "metadata": {},
   "source": [
    "> - We want to make sure the soundscape at our party is representative of the group, so let's take everyones' recommendations (even if the same song has been recommended by someone else). \n"
   ]
  },
  {
   "cell_type": "code",
   "execution_count": 11,
   "metadata": {
    "ExecuteTime": {
     "end_time": "2020-08-04T16:25:16.121926Z",
     "start_time": "2020-08-04T16:25:16.100710Z"
    },
    "scrolled": false
   },
   "outputs": [
    {
     "data": {
      "text/html": [
       "<div>\n",
       "<style scoped>\n",
       "    .dataframe tbody tr th:only-of-type {\n",
       "        vertical-align: middle;\n",
       "    }\n",
       "\n",
       "    .dataframe tbody tr th {\n",
       "        vertical-align: top;\n",
       "    }\n",
       "\n",
       "    .dataframe thead th {\n",
       "        text-align: right;\n",
       "    }\n",
       "</style>\n",
       "<table border=\"1\" class=\"dataframe\">\n",
       "  <thead>\n",
       "    <tr style=\"text-align: right;\">\n",
       "      <th></th>\n",
       "      <th>artist</th>\n",
       "      <th>track</th>\n",
       "      <th>Requested By</th>\n",
       "    </tr>\n",
       "  </thead>\n",
       "  <tbody>\n",
       "    <tr>\n",
       "      <th>0</th>\n",
       "      <td>Green Day</td>\n",
       "      <td>Time of your Life</td>\n",
       "      <td>Joe</td>\n",
       "    </tr>\n",
       "    <tr>\n",
       "      <th>1</th>\n",
       "      <td>B-52s</td>\n",
       "      <td>Rock Lobster</td>\n",
       "      <td>Joe</td>\n",
       "    </tr>\n",
       "    <tr>\n",
       "      <th>2</th>\n",
       "      <td>Lady GaGa</td>\n",
       "      <td>Poker Face</td>\n",
       "      <td>Joe</td>\n",
       "    </tr>\n",
       "    <tr>\n",
       "      <th>3</th>\n",
       "      <td>John Lennon</td>\n",
       "      <td>Imagine</td>\n",
       "      <td>Joe</td>\n",
       "    </tr>\n",
       "    <tr>\n",
       "      <th>4</th>\n",
       "      <td>Eve 6</td>\n",
       "      <td>Here's to the Night</td>\n",
       "      <td>James</td>\n",
       "    </tr>\n",
       "    <tr>\n",
       "      <th>5</th>\n",
       "      <td>Neutral Milk Hotel</td>\n",
       "      <td>Into the Aeroplane Over the Sea</td>\n",
       "      <td>James</td>\n",
       "    </tr>\n",
       "    <tr>\n",
       "      <th>6</th>\n",
       "      <td>Rilo Kiley</td>\n",
       "      <td>With Arms Outstretched</td>\n",
       "      <td>James</td>\n",
       "    </tr>\n",
       "    <tr>\n",
       "      <th>7</th>\n",
       "      <td>Red Hot Chili Peppers</td>\n",
       "      <td>Otherside</td>\n",
       "      <td>James</td>\n",
       "    </tr>\n",
       "    <tr>\n",
       "      <th>8</th>\n",
       "      <td>Smashing Pumpkins</td>\n",
       "      <td>Tonight, Tonight</td>\n",
       "      <td>Anne</td>\n",
       "    </tr>\n",
       "    <tr>\n",
       "      <th>9</th>\n",
       "      <td>Black Eyed Peas</td>\n",
       "      <td>Let's Get it Started</td>\n",
       "      <td>Anne</td>\n",
       "    </tr>\n",
       "    <tr>\n",
       "      <th>10</th>\n",
       "      <td>Green Day</td>\n",
       "      <td>Time of your Life</td>\n",
       "      <td>Anne</td>\n",
       "    </tr>\n",
       "    <tr>\n",
       "      <th>11</th>\n",
       "      <td>Cartman (South Park)</td>\n",
       "      <td>Poker Face</td>\n",
       "      <td>Carla</td>\n",
       "    </tr>\n",
       "    <tr>\n",
       "      <th>12</th>\n",
       "      <td>Nicki Minaj</td>\n",
       "      <td>Right By My Side</td>\n",
       "      <td>Carla</td>\n",
       "    </tr>\n",
       "    <tr>\n",
       "      <th>13</th>\n",
       "      <td>Kelly Clarkson</td>\n",
       "      <td>Since You've Been Gone</td>\n",
       "      <td>Carla</td>\n",
       "    </tr>\n",
       "    <tr>\n",
       "      <th>14</th>\n",
       "      <td>Nicki Minaj</td>\n",
       "      <td>Marilyn Monroe</td>\n",
       "      <td>Carla</td>\n",
       "    </tr>\n",
       "    <tr>\n",
       "      <th>15</th>\n",
       "      <td>Kelly Clarkson</td>\n",
       "      <td>Never Again</td>\n",
       "      <td>Carla</td>\n",
       "    </tr>\n",
       "    <tr>\n",
       "      <th>16</th>\n",
       "      <td>Green Day</td>\n",
       "      <td>Minority</td>\n",
       "      <td>Carla</td>\n",
       "    </tr>\n",
       "    <tr>\n",
       "      <th>17</th>\n",
       "      <td>Black Eyed Peas</td>\n",
       "      <td>Let's Get it Started</td>\n",
       "      <td>John</td>\n",
       "    </tr>\n",
       "    <tr>\n",
       "      <th>18</th>\n",
       "      <td>Lady GaGa</td>\n",
       "      <td>Poker Face</td>\n",
       "      <td>John</td>\n",
       "    </tr>\n",
       "    <tr>\n",
       "      <th>19</th>\n",
       "      <td>Lady GaGa</td>\n",
       "      <td>Bad Romance</td>\n",
       "      <td>John</td>\n",
       "    </tr>\n",
       "    <tr>\n",
       "      <th>20</th>\n",
       "      <td>Lady GaGa</td>\n",
       "      <td>Just Dance</td>\n",
       "      <td>John</td>\n",
       "    </tr>\n",
       "    <tr>\n",
       "      <th>21</th>\n",
       "      <td>Black Eyed Peas</td>\n",
       "      <td>Let's Get it Started</td>\n",
       "      <td>Samantha</td>\n",
       "    </tr>\n",
       "    <tr>\n",
       "      <th>22</th>\n",
       "      <td>Panic at the Disco</td>\n",
       "      <td>Hallelujah</td>\n",
       "      <td>Samantha</td>\n",
       "    </tr>\n",
       "    <tr>\n",
       "      <th>23</th>\n",
       "      <td>Adele</td>\n",
       "      <td>Set Fire to the Rain</td>\n",
       "      <td>Samantha</td>\n",
       "    </tr>\n",
       "  </tbody>\n",
       "</table>\n",
       "</div>"
      ],
      "text/plain": [
       "                   artist                            track Requested By\n",
       "0               Green Day                Time of your Life          Joe\n",
       "1                   B-52s                     Rock Lobster          Joe\n",
       "2               Lady GaGa                       Poker Face          Joe\n",
       "3             John Lennon                          Imagine          Joe\n",
       "4                   Eve 6              Here's to the Night        James\n",
       "5      Neutral Milk Hotel  Into the Aeroplane Over the Sea        James\n",
       "6              Rilo Kiley           With Arms Outstretched        James\n",
       "7   Red Hot Chili Peppers                        Otherside        James\n",
       "8       Smashing Pumpkins                 Tonight, Tonight         Anne\n",
       "9         Black Eyed Peas             Let's Get it Started         Anne\n",
       "10              Green Day                Time of your Life         Anne\n",
       "11   Cartman (South Park)                       Poker Face        Carla\n",
       "12            Nicki Minaj                 Right By My Side        Carla\n",
       "13         Kelly Clarkson           Since You've Been Gone        Carla\n",
       "14            Nicki Minaj                   Marilyn Monroe        Carla\n",
       "15         Kelly Clarkson                      Never Again        Carla\n",
       "16              Green Day                         Minority        Carla\n",
       "17        Black Eyed Peas             Let's Get it Started         John\n",
       "18              Lady GaGa                       Poker Face         John\n",
       "19              Lady GaGa                      Bad Romance         John\n",
       "20              Lady GaGa                       Just Dance         John\n",
       "21        Black Eyed Peas             Let's Get it Started     Samantha\n",
       "22     Panic at the Disco                       Hallelujah     Samantha\n",
       "23                  Adele             Set Fire to the Rain     Samantha"
      ]
     },
     "execution_count": 11,
     "metadata": {},
     "output_type": "execute_result"
    }
   ],
   "source": [
    "## Create 1 df for all rescs (and reset index)\n",
    "df = pd.concat(playlists).reset_index(drop=True)\n",
    "df"
   ]
  },
  {
   "cell_type": "markdown",
   "metadata": {},
   "source": [
    "## For the following questions:\n",
    "> **Assume we just accept everyone's suggestions allowing duplicate songs and play on shuffle, with repeat set to None/False**"
   ]
  },
  {
   "cell_type": "markdown",
   "metadata": {},
   "source": [
    "### Q1: What is the probability of the next song being by Lady GaGa?"
   ]
  },
  {
   "cell_type": "markdown",
   "metadata": {},
   "source": [
    "$$ P(E) = \\frac{|E|}{|S|} $$\n"
   ]
  },
  {
   "cell_type": "code",
   "execution_count": 12,
   "metadata": {
    "ExecuteTime": {
     "end_time": "2020-08-04T16:28:52.982358Z",
     "start_time": "2020-08-04T16:28:52.973645Z"
    }
   },
   "outputs": [
    {
     "data": {
      "text/plain": [
       "Lady GaGa                4\n",
       "Green Day                3\n",
       "Black Eyed Peas          3\n",
       "Kelly Clarkson           2\n",
       "Nicki Minaj              2\n",
       "Adele                    1\n",
       "Eve 6                    1\n",
       "B-52s                    1\n",
       "Cartman (South Park)     1\n",
       "Smashing Pumpkins        1\n",
       "John Lennon              1\n",
       "Red Hot Chili Peppers    1\n",
       "Rilo Kiley               1\n",
       "Panic at the Disco       1\n",
       "Neutral Milk Hotel       1\n",
       "Name: artist, dtype: int64"
      ]
     },
     "execution_count": 12,
     "metadata": {},
     "output_type": "execute_result"
    }
   ],
   "source": [
    "## Use value_counts to make Sample Spaces for Tracks and artists\n",
    "sample_space = df['artist'].value_counts()\n",
    "sample_space"
   ]
  },
  {
   "cell_type": "code",
   "execution_count": 15,
   "metadata": {
    "ExecuteTime": {
     "end_time": "2020-08-04T16:27:40.240991Z",
     "start_time": "2020-08-04T16:27:40.236626Z"
    }
   },
   "outputs": [
    {
     "data": {
      "text/plain": [
       "4"
      ]
     },
     "execution_count": 15,
     "metadata": {},
     "output_type": "execute_result"
    }
   ],
   "source": [
    "## What would be the number of events that meet our criterion? |E|\n",
    "E = sample_space.loc['Lady GaGa']\n",
    "E"
   ]
  },
  {
   "cell_type": "code",
   "execution_count": 16,
   "metadata": {
    "ExecuteTime": {
     "end_time": "2020-08-04T16:27:48.766931Z",
     "start_time": "2020-08-04T16:27:48.761272Z"
    }
   },
   "outputs": [
    {
     "data": {
      "text/plain": [
       "0.16666666666666666"
      ]
     },
     "execution_count": 16,
     "metadata": {},
     "output_type": "execute_result"
    }
   ],
   "source": [
    "## P_lady_gaga \n",
    "P_lady_gaga = E/len(df)\n",
    "P_lady_gaga"
   ]
  },
  {
   "cell_type": "markdown",
   "metadata": {
    "ExecuteTime": {
     "end_time": "2020-06-10T21:50:53.506424Z",
     "start_time": "2020-06-10T21:50:53.490074Z"
    }
   },
   "source": [
    "### Q2: What is the probability of the next song being \"Time of Your Life\"?"
   ]
  },
  {
   "cell_type": "code",
   "execution_count": 17,
   "metadata": {
    "ExecuteTime": {
     "end_time": "2020-08-04T16:29:33.261467Z",
     "start_time": "2020-08-04T16:29:33.256072Z"
    }
   },
   "outputs": [
    {
     "data": {
      "text/plain": [
       "Poker Face                         3\n",
       "Let's Get it Started               3\n",
       "Time of your Life                  2\n",
       "Bad Romance                        1\n",
       "Here's to the Night                1\n",
       "Hallelujah                         1\n",
       "Tonight, Tonight                   1\n",
       "Marilyn Monroe                     1\n",
       "With Arms Outstretched             1\n",
       "Rock Lobster                       1\n",
       "Never Again                        1\n",
       "Into the Aeroplane Over the Sea    1\n",
       "Since You've Been Gone             1\n",
       "Just Dance                         1\n",
       "Right By My Side                   1\n",
       "Otherside                          1\n",
       "Imagine                            1\n",
       "Minority                           1\n",
       "Set Fire to the Rain               1\n",
       "Name: track, dtype: int64"
      ]
     },
     "metadata": {},
     "output_type": "display_data"
    }
   ],
   "source": [
    "## Making Sample Spaces for Tracks and artists\n",
    "sample_space = df['track'].value_counts()\n",
    "display(sample_space)"
   ]
  },
  {
   "cell_type": "code",
   "execution_count": 19,
   "metadata": {
    "ExecuteTime": {
     "end_time": "2020-08-04T16:30:36.756185Z",
     "start_time": "2020-08-04T16:30:36.752319Z"
    }
   },
   "outputs": [
    {
     "data": {
      "text/plain": [
       "2"
      ]
     },
     "execution_count": 19,
     "metadata": {},
     "output_type": "execute_result"
    }
   ],
   "source": [
    "## What is the event space?\n",
    "E = sample_space.loc['Time of your Life']\n",
    "E"
   ]
  },
  {
   "cell_type": "code",
   "execution_count": null,
   "metadata": {
    "ExecuteTime": {
     "end_time": "2020-08-04T16:30:38.452229Z",
     "start_time": "2020-08-04T16:30:38.448019Z"
    }
   },
   "outputs": [],
   "source": [
    "## What about the sample_space?\n",
    "# S = None\n",
    "# S"
   ]
  },
  {
   "cell_type": "code",
   "execution_count": 20,
   "metadata": {
    "ExecuteTime": {
     "end_time": "2020-08-04T16:30:42.909714Z",
     "start_time": "2020-08-04T16:30:42.906200Z"
    }
   },
   "outputs": [
    {
     "data": {
      "text/plain": [
       "0.08333333333333333"
      ]
     },
     "execution_count": 20,
     "metadata": {},
     "output_type": "execute_result"
    }
   ],
   "source": [
    "P_time_of_your_life = E/sample_space.sum()\n",
    "P_time_of_your_life"
   ]
  },
  {
   "cell_type": "markdown",
   "metadata": {},
   "source": [
    "### Q3: what is the probability of hearing a song by Lady GaGa or Green Day?\n"
   ]
  },
  {
   "cell_type": "code",
   "execution_count": 21,
   "metadata": {
    "ExecuteTime": {
     "end_time": "2020-08-04T16:31:23.759449Z",
     "start_time": "2020-08-04T16:31:23.753964Z"
    }
   },
   "outputs": [
    {
     "data": {
      "text/plain": [
       "Lady GaGa                4\n",
       "Green Day                3\n",
       "Black Eyed Peas          3\n",
       "Kelly Clarkson           2\n",
       "Nicki Minaj              2\n",
       "Adele                    1\n",
       "Eve 6                    1\n",
       "B-52s                    1\n",
       "Cartman (South Park)     1\n",
       "Smashing Pumpkins        1\n",
       "John Lennon              1\n",
       "Red Hot Chili Peppers    1\n",
       "Rilo Kiley               1\n",
       "Panic at the Disco       1\n",
       "Neutral Milk Hotel       1\n",
       "Name: artist, dtype: int64"
      ]
     },
     "execution_count": 21,
     "metadata": {},
     "output_type": "execute_result"
    }
   ],
   "source": [
    "## Get the event space\n",
    "sample_space = df['artist'].value_counts()\n",
    "sample_space"
   ]
  },
  {
   "cell_type": "code",
   "execution_count": 23,
   "metadata": {
    "ExecuteTime": {
     "end_time": "2020-08-04T16:33:52.634715Z",
     "start_time": "2020-08-04T16:33:52.630465Z"
    }
   },
   "outputs": [
    {
     "data": {
      "text/plain": [
       "7"
      ]
     },
     "execution_count": 23,
     "metadata": {},
     "output_type": "execute_result"
    }
   ],
   "source": [
    "## Get the Event Space\n",
    "E = sample_space.loc['Green Day']  + sample_space.loc['Lady GaGa']\n",
    "E"
   ]
  },
  {
   "cell_type": "code",
   "execution_count": 24,
   "metadata": {
    "ExecuteTime": {
     "end_time": "2020-08-04T16:34:27.284475Z",
     "start_time": "2020-08-04T16:34:27.280903Z"
    }
   },
   "outputs": [
    {
     "data": {
      "text/plain": [
       "24"
      ]
     },
     "execution_count": 24,
     "metadata": {},
     "output_type": "execute_result"
    }
   ],
   "source": [
    "## Get the sample sapce\n",
    "S = sample_space.sum()\n",
    "S"
   ]
  },
  {
   "cell_type": "code",
   "execution_count": 25,
   "metadata": {
    "ExecuteTime": {
     "end_time": "2020-08-04T16:34:30.390305Z",
     "start_time": "2020-08-04T16:34:30.386639Z"
    },
    "scrolled": true
   },
   "outputs": [
    {
     "data": {
      "text/plain": [
       "0.2916666666666667"
      ]
     },
     "execution_count": 25,
     "metadata": {},
     "output_type": "execute_result"
    }
   ],
   "source": [
    "P_lady_gaga_or_greenday = E/S\n",
    "P_lady_gaga_or_greenday"
   ]
  },
  {
   "cell_type": "markdown",
   "metadata": {},
   "source": [
    "### Q1: How many different ways could we build a playlist using everyone's recommendations (without shuffle, no looping)?"
   ]
  },
  {
   "cell_type": "markdown",
   "metadata": {
    "ExecuteTime": {
     "end_time": "2020-01-07T22:40:05.942473Z",
     "start_time": "2020-01-07T22:40:05.940474Z"
    }
   },
   "source": [
    "- Q: Combination or permutation? Which formula?\n",
    "    - A:\n",
    "   "
   ]
  },
  {
   "cell_type": "code",
   "execution_count": 30,
   "metadata": {},
   "outputs": [
    {
     "data": {
      "text/plain": [
       "Poker Face              3\n",
       "Let's Get it Started    3\n",
       "Time of your Life       2\n",
       "Name: track, dtype: int64"
      ]
     },
     "execution_count": 30,
     "metadata": {},
     "output_type": "execute_result"
    }
   ],
   "source": [
    "tracks = df['track'].value_counts()\n",
    "tracks[tracks>1]"
   ]
  },
  {
   "cell_type": "code",
   "execution_count": 38,
   "metadata": {
    "ExecuteTime": {
     "end_time": "2020-08-04T16:46:55.497733Z",
     "start_time": "2020-08-04T16:46:55.493936Z"
    }
   },
   "outputs": [
    {
     "data": {
      "text/plain": [
       "24"
      ]
     },
     "execution_count": 38,
     "metadata": {},
     "output_type": "execute_result"
    }
   ],
   "source": [
    "from math import factorial\n",
    "ans = factorial(len(df))\n",
    "\n",
    "f\"{ans:,}\"\n",
    "len(str(ans))"
   ]
  },
  {
   "cell_type": "code",
   "execution_count": 35,
   "metadata": {},
   "outputs": [
    {
     "data": {
      "text/plain": [
       "'8.617338912961659e+21'"
      ]
     },
     "execution_count": 35,
     "metadata": {},
     "output_type": "execute_result"
    }
   ],
   "source": [
    "ans = factorial(len(df))/(factorial(3)*factorial(3)*factorial(2))\n",
    "f\"{ans:,}\""
   ]
  },
  {
   "cell_type": "markdown",
   "metadata": {
    "ExecuteTime": {
     "end_time": "2020-01-07T22:40:05.942473Z",
     "start_time": "2020-01-07T22:40:05.940474Z"
    }
   },
   "source": [
    "#### A:"
   ]
  },
  {
   "cell_type": "markdown",
   "metadata": {
    "ExecuteTime": {
     "end_time": "2020-01-07T22:40:05.942473Z",
     "start_time": "2020-01-07T22:40:05.940474Z"
    }
   },
   "source": [
    "What formula would we use?\n",
    "    - A:   $$\\large P(n) = n!$$"
   ]
  },
  {
   "cell_type": "markdown",
   "metadata": {},
   "source": [
    "### Q2: What if we limit the playlist to only 10 songs, without replacement? How many possible playlists?"
   ]
  },
  {
   "cell_type": "markdown",
   "metadata": {
    "ExecuteTime": {
     "end_time": "2020-01-07T22:40:05.942473Z",
     "start_time": "2020-01-07T22:40:05.940474Z"
    }
   },
   "source": [
    "- Q: Combination or permutation? Which formula?\n",
    "    - A:"
   ]
  },
  {
   "cell_type": "code",
   "execution_count": 39,
   "metadata": {},
   "outputs": [
    {
     "data": {
      "text/plain": [
       "1.709789466857472e+17"
      ]
     },
     "execution_count": 39,
     "metadata": {},
     "output_type": "execute_result"
    }
   ],
   "source": [
    "ans/factorial(10)"
   ]
  },
  {
   "cell_type": "markdown",
   "metadata": {
    "ExecuteTime": {
     "end_time": "2020-06-12T22:32:55.762060Z",
     "start_time": "2020-06-12T22:32:55.758545Z"
    }
   },
   "source": [
    "#### A:"
   ]
  },
  {
   "cell_type": "markdown",
   "metadata": {
    "ExecuteTime": {
     "end_time": "2020-06-12T22:32:55.762060Z",
     "start_time": "2020-06-12T22:32:55.758545Z"
    }
   },
   "source": [
    "$$ \\large P_{k}^{n}= \\dfrac{n!}{(n-k)!}$$ "
   ]
  },
  {
   "cell_type": "code",
   "execution_count": 41,
   "metadata": {},
   "outputs": [
    {
     "data": {
      "text/plain": [
       "array(['Time of your Life', 'Rock Lobster', 'Poker Face', 'Imagine',\n",
       "       \"Here's to the Night\", 'Into the Aeroplane Over the Sea',\n",
       "       'With Arms Outstretched', 'Otherside', 'Tonight, Tonight',\n",
       "       \"Let's Get it Started\", 'Right By My Side',\n",
       "       \"Since You've Been Gone\", 'Marilyn Monroe', 'Never Again',\n",
       "       'Minority', 'Bad Romance', 'Just Dance', 'Hallelujah',\n",
       "       'Set Fire to the Rain'], dtype=object)"
      ]
     },
     "execution_count": 41,
     "metadata": {},
     "output_type": "execute_result"
    }
   ],
   "source": [
    "df['track'].unique()"
   ]
  },
  {
   "cell_type": "code",
   "execution_count": 48,
   "metadata": {
    "ExecuteTime": {
     "end_time": "2020-08-04T16:47:47.509369Z",
     "start_time": "2020-08-04T16:47:47.503272Z"
    }
   },
   "outputs": [
    {
     "data": {
      "text/plain": [
       "(24, 10)"
      ]
     },
     "execution_count": 48,
     "metadata": {},
     "output_type": "execute_result"
    }
   ],
   "source": [
    "n = len(df)\n",
    "k =  10\n",
    "\n",
    "n,k"
   ]
  },
  {
   "cell_type": "code",
   "execution_count": 49,
   "metadata": {
    "ExecuteTime": {
     "end_time": "2020-08-04T16:47:53.462045Z",
     "start_time": "2020-08-04T16:47:53.457905Z"
    }
   },
   "outputs": [
    {
     "data": {
      "text/plain": [
       "'98,847,302,400.0'"
      ]
     },
     "execution_count": 49,
     "metadata": {},
     "output_type": "execute_result"
    }
   ],
   "source": [
    "\"{:,}\".format((factorial(n)/factorial(n-k))/(factorial(3)*factorial(3)*factorial(2)))"
   ]
  },
  {
   "cell_type": "markdown",
   "metadata": {},
   "source": [
    "### Q3: what if we limit the playlist to 10 songs, WITH replacement?"
   ]
  },
  {
   "cell_type": "markdown",
   "metadata": {
    "ExecuteTime": {
     "end_time": "2020-01-07T22:40:05.942473Z",
     "start_time": "2020-01-07T22:40:05.940474Z"
    }
   },
   "source": [
    "- Q: Combination or permutation? Which formula?"
   ]
  },
  {
   "cell_type": "markdown",
   "metadata": {
    "ExecuteTime": {
     "end_time": "2020-01-07T22:40:05.942473Z",
     "start_time": "2020-01-07T22:40:05.940474Z"
    }
   },
   "source": [
    "#### A:"
   ]
  },
  {
   "cell_type": "markdown",
   "metadata": {
    "ExecuteTime": {
     "end_time": "2020-01-07T22:40:05.942473Z",
     "start_time": "2020-01-07T22:40:05.940474Z"
    }
   },
   "source": [
    "$$ \\large {P}_{j}^{n} = n^j $$"
   ]
  },
  {
   "cell_type": "code",
   "execution_count": null,
   "metadata": {
    "ExecuteTime": {
     "end_time": "2020-08-04T16:48:48.019652Z",
     "start_time": "2020-08-04T16:48:48.015965Z"
    }
   },
   "outputs": [],
   "source": []
  },
  {
   "cell_type": "markdown",
   "metadata": {},
   "source": [
    "### Q4: what if we select 10 songs out of the total number of suggestions and allow for repitition?"
   ]
  },
  {
   "cell_type": "markdown",
   "metadata": {
    "ExecuteTime": {
     "end_time": "2020-01-07T22:40:05.942473Z",
     "start_time": "2020-01-07T22:40:05.940474Z"
    }
   },
   "source": [
    "- Q: Combination or permutation? Which formula?"
   ]
  },
  {
   "cell_type": "markdown",
   "metadata": {
    "ExecuteTime": {
     "end_time": "2020-01-07T22:40:05.942473Z",
     "start_time": "2020-01-07T22:40:05.940474Z"
    },
    "heading_collapsed": true
   },
   "source": [
    "#### A:"
   ]
  },
  {
   "cell_type": "markdown",
   "metadata": {
    "ExecuteTime": {
     "end_time": "2020-01-07T22:40:05.942473Z",
     "start_time": "2020-01-07T22:40:05.940474Z"
    },
    "hidden": true
   },
   "source": [
    "$$\\large C_{k}^{n} = \\displaystyle\\binom{n}{k} = \\dfrac{P_{k}^{n}}{k!}=\\dfrac{ \\dfrac{n!}{(n-k)!}}{k!} = \\dfrac{n!}{(n-k)!k!}$$"
   ]
  },
  {
   "cell_type": "code",
   "execution_count": null,
   "metadata": {
    "ExecuteTime": {
     "end_time": "2020-08-04T16:49:43.419326Z",
     "start_time": "2020-08-04T16:49:43.414983Z"
    },
    "hidden": true
   },
   "outputs": [],
   "source": []
  },
  {
   "cell_type": "markdown",
   "metadata": {},
   "source": [
    "## So....  We realize we need to relax and not worry about the song-order. That's what Shuffle is for, right? 😅"
   ]
  },
  {
   "cell_type": "markdown",
   "metadata": {},
   "source": [
    "### Q5: How many playlists can we produce for an 8-track playlist from the unique suggested songs (10)?"
   ]
  },
  {
   "cell_type": "markdown",
   "metadata": {
    "ExecuteTime": {
     "end_time": "2020-01-07T22:40:05.942473Z",
     "start_time": "2020-01-07T22:40:05.940474Z"
    }
   },
   "source": [
    "- Q: Combination or permutation? Which fomrula?\n",
    "    - A:"
   ]
  },
  {
   "cell_type": "markdown",
   "metadata": {
    "ExecuteTime": {
     "end_time": "2020-01-07T22:40:05.942473Z",
     "start_time": "2020-01-07T22:40:05.940474Z"
    }
   },
   "source": [
    "#### A:"
   ]
  },
  {
   "cell_type": "markdown",
   "metadata": {
    "ExecuteTime": {
     "end_time": "2020-01-07T22:40:05.942473Z",
     "start_time": "2020-01-07T22:40:05.940474Z"
    }
   },
   "source": [
    "$$\\large C_{k}^{n} = \\displaystyle\\binom{n}{k} = \\dfrac{P_{k}^{n}}{k!}=\\dfrac{ \\dfrac{n!}{(n-k)!}}{k!} = \\dfrac{n!}{(n-k)!k!}$$"
   ]
  },
  {
   "cell_type": "code",
   "execution_count": 50,
   "metadata": {
    "ExecuteTime": {
     "end_time": "2020-08-04T15:53:32.457090Z",
     "start_time": "2020-08-04T15:53:32.453234Z"
    }
   },
   "outputs": [
    {
     "data": {
      "text/plain": [
       "45.0"
      ]
     },
     "execution_count": 50,
     "metadata": {},
     "output_type": "execute_result"
    }
   ],
   "source": [
    "n = 10\n",
    "k = 8\n",
    "factorial(n)/(factorial(n-k)*factorial(k))"
   ]
  },
  {
   "cell_type": "markdown",
   "metadata": {},
   "source": [
    "# CONDITIONAL PROBABILITY"
   ]
  },
  {
   "cell_type": "markdown",
   "metadata": {},
   "source": [
    "**Conditional probability emerges when the outcome a trial may influence the results of the upcoming trials (when we have dependent events)**\n",
    "\n",
    "\n",
    "<img src=\"https://raw.githubusercontent.com/jirvingphd/dsc-conditional-probability-online-ds-ft-100719/master/images/Image_71_TreeDiag.png\" width = 500>\n",
    "\n",
    "$$ P (A \\mid B) = \\dfrac{P(A \\cap B)}{P(B)}$$\n",
    "\n",
    "$P(A|B)$, is the probability A **given** that $B$ has just happened. "
   ]
  },
  {
   "cell_type": "markdown",
   "metadata": {},
   "source": [
    "## Types of Events"
   ]
  },
  {
   "cell_type": "markdown",
   "metadata": {},
   "source": [
    "#### Indepdent Events\n",
    "\n",
    "**Events $A$ and $B$ are independent when the occurrence of $A$ has no effect on whether $B$ will occur (or not).**\n",
    "<!-- \n",
    "- A and B are independent if:\n",
    "    - $P(A \\cap B) = P(A)\\cdot P(B)$\n",
    "\n",
    " <img src=\"https://raw.githubusercontent.com/jirvingphd/dsc-conditional-probability-online-ds-ft-100719/master/images/Image_67_independent.png\" width=30%>\n",
    "\n",
    "- Probability of A or B occurring:\n",
    "    - $P (A \\cup B) = P(A) + P(B) - P(A \\cap B)$\n",
    "\n",
    " -->\n"
   ]
  },
  {
   "cell_type": "markdown",
   "metadata": {},
   "source": [
    "#### Disjoint Events\n",
    "\n",
    "\n",
    "\n",
    "\n",
    "**Events $A$ and $B$ are disjoint if $A$ occurring means that $B$ cannot occur.**\n",
    "\n",
    "Disjoint events are **mutually exclusive**. $P (A \\cap B)$ is **empty**.\n",
    "<!-- \n",
    "<img src=\"https://raw.githubusercontent.com/jirvingphd/dsc-conditional-probability-online-ds-ft-100719/master/images/Image_68Disjoint.png\" width=30%>\n",
    "\n",
    " -->"
   ]
  },
  {
   "cell_type": "markdown",
   "metadata": {},
   "source": [
    "#### Dependent Events\n",
    "\n",
    "**Events $A$ and $B$ are dependent when the occurrence of $A$ somehow has an effect on whether $B$ will occur (or not).**\n",
    "\n",
    "<img src=\"https://raw.githubusercontent.com/learn-co-students/dsc-conditional-probability-onl01-dtsc-ft-070620/master/images/Image_69_Marb.png\" width=50%>\n",
    "\n"
   ]
  },
  {
   "cell_type": "markdown",
   "metadata": {},
   "source": [
    "\n",
    "# 🕹 Activity Part 2: Dinner Party Playlist - Conditional Probabilities"
   ]
  },
  {
   "cell_type": "code",
   "execution_count": 51,
   "metadata": {
    "ExecuteTime": {
     "end_time": "2020-08-06T15:29:46.225990Z",
     "start_time": "2020-08-06T15:29:44.589055Z"
    },
    "colab": {},
    "colab_type": "code",
    "id": "HhbtNsyeXQIm",
    "scrolled": true
   },
   "outputs": [],
   "source": [
    "from math import factorial"
   ]
  },
  {
   "cell_type": "markdown",
   "metadata": {},
   "source": [
    "### Q: What is the probability of hearing \"Poker Face\"?"
   ]
  },
  {
   "cell_type": "code",
   "execution_count": 52,
   "metadata": {
    "ExecuteTime": {
     "end_time": "2020-08-06T16:22:27.018502Z",
     "start_time": "2020-08-06T16:22:27.011590Z"
    }
   },
   "outputs": [
    {
     "data": {
      "text/plain": [
       "Poker Face                         3\n",
       "Let's Get it Started               3\n",
       "Time of your Life                  2\n",
       "Bad Romance                        1\n",
       "Here's to the Night                1\n",
       "Hallelujah                         1\n",
       "Tonight, Tonight                   1\n",
       "Marilyn Monroe                     1\n",
       "With Arms Outstretched             1\n",
       "Rock Lobster                       1\n",
       "Never Again                        1\n",
       "Into the Aeroplane Over the Sea    1\n",
       "Since You've Been Gone             1\n",
       "Just Dance                         1\n",
       "Right By My Side                   1\n",
       "Otherside                          1\n",
       "Imagine                            1\n",
       "Minority                           1\n",
       "Set Fire to the Rain               1\n",
       "Name: track, dtype: int64"
      ]
     },
     "execution_count": 52,
     "metadata": {},
     "output_type": "execute_result"
    }
   ],
   "source": [
    "## Get sample space\n",
    "sample_space = df['track'].value_counts()\n",
    "sample_space"
   ]
  },
  {
   "cell_type": "code",
   "execution_count": 55,
   "metadata": {
    "ExecuteTime": {
     "end_time": "2020-08-06T16:22:55.517417Z",
     "start_time": "2020-08-06T16:22:55.513604Z"
    }
   },
   "outputs": [
    {
     "data": {
      "text/plain": [
       "3"
      ]
     },
     "execution_count": 55,
     "metadata": {},
     "output_type": "execute_result"
    }
   ],
   "source": [
    "## Get event space\n",
    "E = sample_space.loc[\"Poker Face\"]\n",
    "E"
   ]
  },
  {
   "cell_type": "code",
   "execution_count": null,
   "metadata": {
    "ExecuteTime": {
     "end_time": "2020-08-06T16:23:10.740262Z",
     "start_time": "2020-08-06T16:23:10.736545Z"
    }
   },
   "outputs": [],
   "source": []
  },
  {
   "cell_type": "code",
   "execution_count": 56,
   "metadata": {
    "ExecuteTime": {
     "end_time": "2020-08-06T16:23:11.549673Z",
     "start_time": "2020-08-06T16:23:11.545546Z"
    }
   },
   "outputs": [
    {
     "data": {
      "text/plain": [
       "0.125"
      ]
     },
     "execution_count": 56,
     "metadata": {},
     "output_type": "execute_result"
    }
   ],
   "source": [
    "## Get Event Space\n",
    "P_lets_get_it = E/sample_space.sum()\n",
    "P_lets_get_it"
   ]
  },
  {
   "cell_type": "markdown",
   "metadata": {},
   "source": [
    "### Q: what is the probability that the song playing is \"Poker Face\", given that the song is by Lady GaGa?"
   ]
  },
  {
   "cell_type": "markdown",
   "metadata": {},
   "source": [
    "- **What would be the formula to calculate $P(\\text{PokerFace}|\\text{LadyGaga})$  ?**"
   ]
  },
  {
   "cell_type": "markdown",
   "metadata": {},
   "source": [
    "A:\n"
   ]
  },
  {
   "cell_type": "code",
   "execution_count": 60,
   "metadata": {},
   "outputs": [
    {
     "data": {
      "text/plain": [
       "Poker Face     2\n",
       "Bad Romance    1\n",
       "Just Dance     1\n",
       "Name: track, dtype: int64"
      ]
     },
     "execution_count": 60,
     "metadata": {},
     "output_type": "execute_result"
    }
   ],
   "source": [
    "sample_space = df.groupby('artist').get_group('Lady GaGa')['track'].value_counts()\n",
    "sample_space"
   ]
  },
  {
   "cell_type": "code",
   "execution_count": null,
   "metadata": {
    "ExecuteTime": {
     "end_time": "2020-08-06T16:26:01.241457Z",
     "start_time": "2020-08-06T16:26:01.237714Z"
    }
   },
   "outputs": [],
   "source": [
    "E =  None\n",
    "E"
   ]
  },
  {
   "cell_type": "code",
   "execution_count": null,
   "metadata": {
    "ExecuteTime": {
     "end_time": "2020-08-06T16:26:05.323064Z",
     "start_time": "2020-08-06T16:26:05.317939Z"
    }
   },
   "outputs": [],
   "source": [
    "S = None\n",
    "S"
   ]
  },
  {
   "cell_type": "code",
   "execution_count": null,
   "metadata": {
    "ExecuteTime": {
     "end_time": "2020-08-06T16:26:06.130583Z",
     "start_time": "2020-08-06T16:26:06.126882Z"
    }
   },
   "outputs": [],
   "source": [
    "# E/S"
   ]
  },
  {
   "cell_type": "markdown",
   "metadata": {},
   "source": [
    "### Q: What is the  probability that the song playing is by Lady GaGa, given that it is titled \"Poker Face\"?\n"
   ]
  },
  {
   "cell_type": "code",
   "execution_count": null,
   "metadata": {
    "ExecuteTime": {
     "end_time": "2020-08-06T16:27:09.021327Z",
     "start_time": "2020-08-06T16:27:09.014203Z"
    }
   },
   "outputs": [],
   "source": [
    "poker_face_space = None\n",
    "sample_space = None\n",
    "sample_space"
   ]
  },
  {
   "cell_type": "code",
   "execution_count": null,
   "metadata": {
    "ExecuteTime": {
     "end_time": "2020-08-06T16:27:27.163782Z",
     "start_time": "2020-08-06T16:27:27.159363Z"
    }
   },
   "outputs": [],
   "source": [
    "E = None\n",
    "S = None"
   ]
  },
  {
   "cell_type": "code",
   "execution_count": null,
   "metadata": {},
   "outputs": [],
   "source": [
    "# E/S"
   ]
  },
  {
   "cell_type": "markdown",
   "metadata": {
    "heading_collapsed": true
   },
   "source": [
    "# The Law of Total Probability"
   ]
  },
  {
   "cell_type": "markdown",
   "metadata": {
    "hidden": true
   },
   "source": [
    "\n",
    "<img src=\"https://raw.githubusercontent.com/jirvingphd/dsc-law-of-total-probability-online-ds-ft-100719/master/images/Image_55_TotProb.png\" width=50%>\n",
    "\n",
    "$$\\large P(B)= \\sum_i P(B \\cap A_i)= \\sum_i P(B \\mid A_i)P(A_i)$$\n",
    "\n",
    "\n",
    "- This law allows us to calculate $P(B)$ from partial/conditional probabilitie of subsets ($A_n$).\n",
    "- Requires that the different $A$'s that make up sample space $S$ be disjointed events.\n",
    "\n",
    "\n",
    "S $A_1, A_2, \\dots, A_n$ partition sample space $S$ into disjoint regions that sum up to $S$.\n",
    "\n",
    "\n",
    "\n",
    "\n",
    "<img src=\"https://raw.githubusercontent.com/learn-co-students/dsc-law-of-total-probability-onl01-dtsc-ft-070620/master/images/Image_56_vent.png\" width=50%>\n",
    "\n",
    "\n",
    "\n"
   ]
  },
  {
   "cell_type": "markdown",
   "metadata": {
    "ExecuteTime": {
     "end_time": "2020-01-09T21:50:32.639351Z",
     "start_time": "2020-01-09T21:50:32.637220Z"
    },
    "hidden": true
   },
   "source": [
    "## 🕹 Activity Pt 4: Law of Total House Party Playlists"
   ]
  },
  {
   "cell_type": "markdown",
   "metadata": {
    "ExecuteTime": {
     "end_time": "2020-01-09T21:51:53.081763Z",
     "start_time": "2020-01-09T21:51:53.077870Z"
    },
    "hidden": true
   },
   "source": [
    "- We've decided to be a little more adventurous and turn our dinner party into a larger house party.\n",
    "    - The House party spread across 4 rooms that we assume people will spread their time evenly across the various rooms:\n",
    "        - living room\n",
    "        - basement\n",
    "        - back patio\n",
    "        - kitchen\n",
    "        \n",
    "- We have separate play lists playing at each location that were constructed with our dinner party recommendations.\n"
   ]
  },
  {
   "cell_type": "markdown",
   "metadata": {
    "hidden": true
   },
   "source": [
    "#### OUR HOUSE PARTY & LAW OF TOTAL PROB\n",
    "- Our House Party = space $S$\n",
    "- The 4 rooms in the house are A1,A2,A3,A4\n",
    "- B represents the probability of hearing a specific song or artist as you wander the house.\n",
    "\n",
    "<img src=\"https://raw.githubusercontent.com/jirvingphd/dsc-law-of-total-probability-online-ds-ft-100719/master/images/Image_55_TotProb.png\" width=50%>\n",
    "\n",
    "$$P(B)= \\sum_i P(B \\cap A_i)= \\sum_i P(B \\mid A_i)P(A_i)$$\n",
    "\n",
    "\n"
   ]
  },
  {
   "cell_type": "code",
   "execution_count": null,
   "metadata": {
    "ExecuteTime": {
     "end_time": "2020-08-06T16:29:16.983555Z",
     "start_time": "2020-08-06T16:29:16.946268Z"
    },
    "hidden": true
   },
   "outputs": [],
   "source": [
    "import os\n",
    "folder = \"playlist_requests/house_party/\"\n",
    "os.makedirs(folder,exist_ok=True)\n",
    "\n",
    "house_party = dict(living_room = df.sample(12,random_state=12).reset_index(drop=True).copy(),\n",
    "                   basement = df.sample(10,random_state=321).reset_index(drop=True).copy(), \n",
    "                   back_patio = df.sample(9,random_state=42).reset_index(drop=True).copy(),\n",
    "                  kitchen=df.sample(8,random_state=3210).reset_index(drop=True).copy())\n",
    "\n",
    "## Save for later\n",
    "\n",
    "for room,room_df in house_party.items():\n",
    "    room_df.to_csv(f\"{folder}/{room}.csv\",index=False)\n",
    "    \n",
    "## Preview\n",
    "for k,df_ in house_party.items():\n",
    "    df_['Room'] = k \n",
    "    display(df_.style.set_caption(f\"Playlist for {k}\"))\n",
    "    "
   ]
  },
  {
   "cell_type": "markdown",
   "metadata": {
    "hidden": true
   },
   "source": [
    "### Q1: What is the probability of hearing a Green Day song at the house party at any given moment?"
   ]
  },
  {
   "cell_type": "markdown",
   "metadata": {
    "hidden": true
   },
   "source": [
    "####  To Calculate $P(GD)$ for a Room\n",
    "\n",
    "$$ P(\\text{Green Day})=\\sum_i P(\\text{Green Day} \\mid \\text{Room}_i)P(\\text{Room}_i)$$\n",
    "\n",
    "- Q: **With our 4 rooms, what would our equation look like?**\n",
    "    - What is the probability of being in each room?"
   ]
  },
  {
   "cell_type": "markdown",
   "metadata": {
    "hidden": true
   },
   "source": [
    "##### A:"
   ]
  },
  {
   "cell_type": "markdown",
   "metadata": {
    "hidden": true
   },
   "source": [
    "$$P(\\text{Green Day})= P(GD|Room1)\\times \\frac{1}{4} + P(GD|Room2)\\times \\frac{1}{4} + P(GD|Room3)\\times \\frac{1}{4} + P(GD|Room4)\\times \\frac{1}{4} $$"
   ]
  },
  {
   "cell_type": "code",
   "execution_count": null,
   "metadata": {
    "ExecuteTime": {
     "end_time": "2020-08-06T16:30:45.156770Z",
     "start_time": "2020-08-06T16:30:45.153005Z"
    },
    "hidden": true
   },
   "outputs": [],
   "source": [
    "## Make a dictionary of prob of being in each room\n",
    "room_probs = {'living_room':0.25, \n",
    "              'basement':0.25,\n",
    "              'back_patio':0.25,\n",
    "              'kitchen':0.25}#]\n",
    "room_probs"
   ]
  },
  {
   "cell_type": "code",
   "execution_count": null,
   "metadata": {
    "ExecuteTime": {
     "end_time": "2020-08-06T16:38:15.170029Z",
     "start_time": "2020-08-06T16:38:15.163554Z"
    },
    "hidden": true
   },
   "outputs": [],
   "source": [
    "## Lets do 1 example room - living room\n",
    "\n",
    "\n",
    "## Get room sample space\n",
    "\n",
    "## Get P_gd_given_room\n",
    "\n",
    "## Multiply cond prob by prob being in the room\n"
   ]
  },
  {
   "cell_type": "markdown",
   "metadata": {
    "ExecuteTime": {
     "end_time": "2020-08-06T16:31:15.606842Z",
     "start_time": "2020-08-06T16:31:15.597128Z"
    },
    "hidden": true
   },
   "source": [
    "#### Let's turn that process into a function"
   ]
  },
  {
   "cell_type": "code",
   "execution_count": null,
   "metadata": {
    "ExecuteTime": {
     "end_time": "2020-08-06T16:45:43.114108Z",
     "start_time": "2020-08-06T16:45:43.109387Z"
    },
    "hidden": true
   },
   "outputs": [],
   "source": [
    "def prob_event_given_room():\n",
    "    pass\n",
    "    \n",
    "    #### Pull out current room_df from dict\n",
    "\n",
    "\n",
    "    ## Get room sample space\n",
    "\n",
    "\n",
    "    \n",
    "    ## Get P_gd_given_room\n",
    "    \n",
    "        \n",
    "    ## Set prob=0 if event does not exist.\n",
    "    #  P = P * room_probs[room] \n",
    "    ## Print the Prob event given room (if verbose==True)\n",
    "   \n",
    "    ## Return the Prob \n",
    "    \n"
   ]
  },
  {
   "cell_type": "code",
   "execution_count": null,
   "metadata": {
    "ExecuteTime": {
     "end_time": "2020-08-06T16:45:43.530401Z",
     "start_time": "2020-08-06T16:45:43.525262Z"
    },
    "hidden": true
   },
   "outputs": [],
   "source": [
    "## Test function\n"
   ]
  },
  {
   "cell_type": "code",
   "execution_count": null,
   "metadata": {
    "ExecuteTime": {
     "end_time": "2020-08-06T16:45:43.878339Z",
     "start_time": "2020-08-06T16:45:43.873240Z"
    },
    "hidden": true
   },
   "outputs": [],
   "source": [
    "## Let's try out the function for Green Day on the back patio\n",
    "\n"
   ]
  },
  {
   "cell_type": "code",
   "execution_count": null,
   "metadata": {
    "ExecuteTime": {
     "end_time": "2020-08-06T16:45:44.300633Z",
     "start_time": "2020-08-06T16:45:44.296717Z"
    },
    "hidden": true
   },
   "outputs": [],
   "source": []
  },
  {
   "cell_type": "code",
   "execution_count": null,
   "metadata": {
    "ExecuteTime": {
     "end_time": "2020-08-06T16:45:44.633574Z",
     "start_time": "2020-08-06T16:45:44.624604Z"
    },
    "hidden": true
   },
   "outputs": [],
   "source": []
  },
  {
   "cell_type": "code",
   "execution_count": null,
   "metadata": {
    "ExecuteTime": {
     "end_time": "2020-08-06T16:45:45.146700Z",
     "start_time": "2020-08-06T16:45:45.137295Z"
    },
    "hidden": true
   },
   "outputs": [],
   "source": [
    "## Calculate Total Probability using a for loop\n",
    "\n",
    "## Get rooms from house_party\n",
    "    \n",
    "    ## Get conditional prob for room\n",
    "\n",
    "    \n",
    "    ## Get the prob of being in that room\n",
    "\n",
    "    \n",
    "    ## Append p_gd_given_room * p_room\n",
    "\n"
   ]
  },
  {
   "cell_type": "code",
   "execution_count": null,
   "metadata": {
    "ExecuteTime": {
     "end_time": "2020-08-06T16:46:10.260225Z",
     "start_time": "2020-08-06T16:46:10.247541Z"
    },
    "hidden": true
   },
   "outputs": [],
   "source": [
    "## Checking against actual values\n"
   ]
  },
  {
   "cell_type": "markdown",
   "metadata": {
    "hidden": true
   },
   "source": [
    "### Q1B: But wait...what if we have unequal probabilties for being in each room?\n",
    "\n"
   ]
  },
  {
   "cell_type": "markdown",
   "metadata": {
    "hidden": true
   },
   "source": [
    "- The True prob of people being in each room is determined by what is going on in that room.\n",
    "    - The snacks are in the kitchen (prob=0.4)\n",
    "    - The drinks/bar is on the back patio (prob=0.3).\n",
    "    - The living room and basement have no special amenities. (prob=0.15 each)"
   ]
  },
  {
   "cell_type": "code",
   "execution_count": null,
   "metadata": {
    "ExecuteTime": {
     "end_time": "2020-08-06T16:47:00.282789Z",
     "start_time": "2020-08-06T16:47:00.277635Z"
    },
    "hidden": true
   },
   "outputs": [],
   "source": [
    "## Update house_party_room_odds\n",
    "room_probs['kitchen'] = 0.4\n",
    "room_probs['back_patio'] = 0.3\n",
    "room_probs['living_room'] =0.15\n",
    "room_probs['basement'] =0.15\n",
    "room_probs"
   ]
  },
  {
   "cell_type": "markdown",
   "metadata": {
    "hidden": true
   },
   "source": [
    "### Q2: What is the probability of hearing a Lady GaGa song at the house party at any given moment with the new room probabilities?"
   ]
  },
  {
   "cell_type": "markdown",
   "metadata": {
    "hidden": true
   },
   "source": [
    "> The **easiest way** to do this would be to copy the for loop above and paste it below, then modify all of the variables to match the new question...\n",
    "\n",
    "> So INSTEAD of that, **let's do it a better more programmatic way**: take the code we produced above to calculate TOTAL_PROB and lets turn it into a function."
   ]
  },
  {
   "cell_type": "code",
   "execution_count": null,
   "metadata": {
    "ExecuteTime": {
     "end_time": "2020-08-05T17:14:59.832126Z",
     "start_time": "2020-08-05T17:14:59.823701Z"
    },
    "hidden": true
   },
   "outputs": [],
   "source": [
    "## Paste your loop from Green Day question below for reference\n"
   ]
  },
  {
   "cell_type": "code",
   "execution_count": null,
   "metadata": {
    "ExecuteTime": {
     "end_time": "2020-08-06T16:49:37.416242Z",
     "start_time": "2020-08-06T16:49:37.411688Z"
    },
    "hidden": true
   },
   "outputs": [],
   "source": [
    "## Now how can we make that process flexible?\n",
    "def law_of_total_probability():\n",
    "    pass"
   ]
  },
  {
   "cell_type": "code",
   "execution_count": null,
   "metadata": {
    "ExecuteTime": {
     "end_time": "2020-08-06T16:49:37.865311Z",
     "start_time": "2020-08-06T16:49:37.855788Z"
    },
    "hidden": true
   },
   "outputs": [],
   "source": [
    "## test fucnction\n"
   ]
  },
  {
   "cell_type": "markdown",
   "metadata": {
    "hidden": true
   },
   "source": [
    "### Q: what is the probability of hearing a song recommend by Anne?"
   ]
  },
  {
   "cell_type": "markdown",
   "metadata": {
    "hidden": true
   },
   "source": [
    "$$ P(AnneRec)=\\sum_i P(AnneRec \\mid Room_i)P(Room_i)$$\n",
    "- Since we made our function flexible, we can easily calculate this. \n"
   ]
  },
  {
   "cell_type": "code",
   "execution_count": null,
   "metadata": {
    "ExecuteTime": {
     "end_time": "2020-08-06T16:51:14.281408Z",
     "start_time": "2020-08-06T16:51:14.272376Z"
    },
    "hidden": true
   },
   "outputs": [],
   "source": []
  },
  {
   "cell_type": "code",
   "execution_count": null,
   "metadata": {
    "ExecuteTime": {
     "end_time": "2020-08-06T16:51:18.052086Z",
     "start_time": "2020-08-06T16:51:18.044104Z"
    },
    "hidden": true,
    "scrolled": true
   },
   "outputs": [],
   "source": [
    "## Compare that to getting val counts from whole df\n"
   ]
  },
  {
   "cell_type": "markdown",
   "metadata": {
    "heading_collapsed": true
   },
   "source": [
    "# APPENDIX"
   ]
  },
  {
   "cell_type": "markdown",
   "metadata": {
    "hidden": true
   },
   "source": [
    "### Factorials\n"
   ]
  },
  {
   "cell_type": "markdown",
   "metadata": {
    "hidden": true
   },
   "source": [
    "The factorial of $n$ is calculated by multiplying every number below $n$ together.\n",
    "\n",
    "$$n! = n  \\times (n-1) \\times (n-2)\\times...\\times1$$\n",
    "\n",
    "\n",
    "\n",
    "**Factorial Rules/Operations:**\n",
    "- Negative numbers do not have a factorial.\n",
    "- $0! = 1$\n",
    "- $n! = (n-1)! \\cdot n$\n",
    "- $(n+1)! = n! \\cdot (n+1)$ \n",
    "\n",
    "- $ (n+k)! = n! \\cdot (n+1) \\cdot (n+2) \\cdot... (n+k) $\n",
    "\n",
    "- $ (n-k)! = \\frac{n!}{(n-k+1)\\cdot(n-k+2) \\cdot ... (n-k+k) }$\n",
    "- When $n>k$:\n",
    "    - $\\frac{n!}{k!} = (k+1)\\cdot(k+2)\\cdot...n $"
   ]
  },
  {
   "cell_type": "markdown",
   "metadata": {
    "hidden": true
   },
   "source": [
    "## Laws & Theorems Based on Conditional Probability\n"
   ]
  },
  {
   "cell_type": "markdown",
   "metadata": {
    "hidden": true
   },
   "source": [
    "#### Theorem 1: Product Rule\n",
    "\n",
    "The intersection of events $A$ and $B$ can be given by\n",
    "\n",
    "\\begin{align}\n",
    "    \\large P(A \\cap B) = P(B) P(A \\mid B) = P(A) P(B \\mid A)\n",
    "\\end{align}\n",
    "\n",
    "\n"
   ]
  },
  {
   "cell_type": "markdown",
   "metadata": {
    "hidden": true
   },
   "source": [
    "#### Theorem 2: Chain Rule AKA \"General Product Rule\"\n",
    "\n",
    "- Allows calculation of any member of the joint distribution of a set of random variables using _only_ conditional probabilities.\n",
    "\n",
    "- Builds upon the product rule: \n",
    "$$P(A \\cap B) = P(A \\mid B) P(B)$$\n",
    "\n",
    "- When applied to 3 variables, becomes:\n",
    "\n",
    "\n",
    "$$P(A\\cap B \\cap C) = P(A\\cap( B \\cap C))$$\n",
    "$$ = P(A\\mid B \\cap C) P(B \\cap C)$$\n",
    "$$ = P(A \\mid B \\cap C) P(B \\mid C) P(C)$$\n",
    "\n",
    "And you can keep extending this to $n$ variables.\n",
    "\n"
   ]
  },
  {
   "cell_type": "markdown",
   "metadata": {
    "hidden": true
   },
   "source": [
    "#### Theorem 3 - Bayes Theorem"
   ]
  },
  {
   "cell_type": "markdown",
   "metadata": {
    "hidden": true
   },
   "source": [
    "\n",
    "\n",
    "The **Bayes theorem**, which is the outcome of this section. Below is the formula that we will dig deeper into in upcoming lessons.\n",
    "\n",
    "$$ P(A|B) = \\frac{P(B|A)P(A)}{P(B)} $$\n",
    "\n",
    "- It uses that $P(A \\cap B) = P(B) P(A \\mid B) = P(A) P(B \\mid A)$. \n",
    "- Note that, using Bayes theorem, you **can compute conditional probabilities without explicitly needing to know $P(A \\cap B)$!** "
   ]
  },
  {
   "cell_type": "markdown",
   "metadata": {
    "hidden": true
   },
   "source": [
    "\n",
    "#### Additional note: the complement of an event\n",
    "- Basic complements:\n",
    "$$P(A) + P(A') = 1$$\n",
    "with A' being the complement of A.\n",
    "\n",
    "- Conditional Probability Complements\n",
    "\n",
    "$$P(A|B) + P(A'|B) = 1$$"
   ]
  },
  {
   "cell_type": "code",
   "execution_count": null,
   "metadata": {
    "hidden": true
   },
   "outputs": [],
   "source": []
  }
 ],
 "metadata": {
  "colab": {
   "collapsed_sections": [],
   "name": "sect_17_prob_&_comb.ipynb",
   "provenance": []
  },
  "kernelspec": {
   "display_name": "learn-env-new",
   "language": "python",
   "name": "learn-env-new"
  },
  "language_info": {
   "codemirror_mode": {
    "name": "ipython",
    "version": 3
   },
   "file_extension": ".py",
   "mimetype": "text/x-python",
   "name": "python",
   "nbconvert_exporter": "python",
   "pygments_lexer": "ipython3",
   "version": "3.8.5"
  },
  "toc": {
   "base_numbering": 1,
   "nav_menu": {},
   "number_sections": true,
   "sideBar": true,
   "skip_h1_title": false,
   "title_cell": "Table of Contents",
   "title_sidebar": "Contents",
   "toc_cell": false,
   "toc_position": {
    "height": "508px",
    "left": "54px",
    "top": "110px",
    "width": "256px"
   },
   "toc_section_display": true,
   "toc_window_display": true
  },
  "varInspector": {
   "cols": {
    "lenName": 16,
    "lenType": 16,
    "lenVar": 40
   },
   "kernels_config": {
    "python": {
     "delete_cmd_postfix": "",
     "delete_cmd_prefix": "del ",
     "library": "var_list.py",
     "varRefreshCmd": "print(var_dic_list())"
    },
    "r": {
     "delete_cmd_postfix": ") ",
     "delete_cmd_prefix": "rm(",
     "library": "var_list.r",
     "varRefreshCmd": "cat(var_dic_list()) "
    }
   },
   "types_to_exclude": [
    "module",
    "function",
    "builtin_function_or_method",
    "instance",
    "_Feature"
   ],
   "window_display": false
  }
 },
 "nbformat": 4,
 "nbformat_minor": 1
}
