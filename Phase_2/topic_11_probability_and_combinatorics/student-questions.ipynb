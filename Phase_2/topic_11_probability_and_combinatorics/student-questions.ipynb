{
 "cells": [
  {
   "cell_type": "markdown",
   "metadata": {},
   "source": [
    "# Questions from Topic 11"
   ]
  },
  {
   "cell_type": "markdown",
   "metadata": {},
   "source": [
    "#### [In Intro to Probability Lab](https://learning.flatironschool.com/courses/2681/assignments/88871?module_item_id=175022):\n",
    "- Specifically, question 2. I think I might be misunderstanding the question. It says,  \n",
    "“Calculate the probability that after 4 appointment slots, all the female students have had an appointment”\n",
    "    - The way I’m reading it is that there are 3 females and 3 males, so how could all of the first four slots be female?\n",
    "    \n",
    "    "
   ]
  },
  {
   "cell_type": "markdown",
   "metadata": {},
   "source": [
    "#### [Permutations and Factorials Lab](https://learning.flatironschool.com/courses/2681/assignments/88907?module_item_id=175025)\n",
    "- I think the [solution for one of the labs](https://github.com/learn-co-curriculum/dsc-permutations-and-factorials-lab-v2-1/tree/solution) is incorrect.  they calculate ways_to_throw_given_fh with factorial(5) but then down below in the explanation it says that this is supposed to be factorial(6)\n",
    "    - factorial(6) makes sense to me but maybe i'm wrong\n",
    "\n",
    "\n",
    "- In solving for denom_phone_smudge_2 why do we multiply by 3?"
   ]
  },
  {
   "cell_type": "markdown",
   "metadata": {},
   "source": [
    "#### [Conditional Probability Lab](https://learning.flatironschool.com/courses/2681/assignments/88839?module_item_id=175029):\n",
    "-  Exercise 6:\n",
    "    - I’m most confused with the handling of the first die being given as 5 or 6 while also having a probability of being 5 or 6 that is not 1.\n",
    "Event A is given as happened but P(Event A) ≠ 1, right? I’m having trouble understanding why this is the case."
   ]
  },
  {
   "cell_type": "markdown",
   "metadata": {},
   "source": [
    "#### [Law of Total Probability Lesson](https://learning.flatironschool.com/courses/2681/pages/partitioning-and-the-law-of-total-probability?module_item_id=175030):\n",
    "- Can we walk through Example 2 in this lesson?:\n",
    "    - I don't understand how knowing the suit of the ace changes the probability of drawing two aces\n",
    "    \n",
    "#### [Law of Total Probability Lab](https://learning.flatironschool.com/courses/2681/assignments/88941?module_item_id=175032)\n",
    "- Can we walk through question 4 in this lab?:\n",
    "    - I thought for sure P(A U B U C) would be one of the answers but it wasn't… what would P(A U B U C) represent in words in the context of this question?"
   ]
  },
  {
   "cell_type": "code",
   "execution_count": null,
   "metadata": {},
   "outputs": [],
   "source": []
  }
 ],
 "metadata": {
  "kernelspec": {
   "display_name": "learn-env-new",
   "language": "python",
   "name": "learn-env-new"
  },
  "language_info": {
   "codemirror_mode": {
    "name": "ipython",
    "version": 3
   },
   "file_extension": ".py",
   "mimetype": "text/x-python",
   "name": "python",
   "nbconvert_exporter": "python",
   "pygments_lexer": "ipython3",
   "version": "3.8.5"
  },
  "toc": {
   "base_numbering": 1,
   "nav_menu": {},
   "number_sections": true,
   "sideBar": true,
   "skip_h1_title": false,
   "title_cell": "Table of Contents",
   "title_sidebar": "Contents",
   "toc_cell": false,
   "toc_position": {},
   "toc_section_display": true,
   "toc_window_display": false
  },
  "varInspector": {
   "cols": {
    "lenName": 16,
    "lenType": 16,
    "lenVar": 40
   },
   "kernels_config": {
    "python": {
     "delete_cmd_postfix": "",
     "delete_cmd_prefix": "del ",
     "library": "var_list.py",
     "varRefreshCmd": "print(var_dic_list())"
    },
    "r": {
     "delete_cmd_postfix": ") ",
     "delete_cmd_prefix": "rm(",
     "library": "var_list.r",
     "varRefreshCmd": "cat(var_dic_list()) "
    }
   },
   "types_to_exclude": [
    "module",
    "function",
    "builtin_function_or_method",
    "instance",
    "_Feature"
   ],
   "window_display": false
  }
 },
 "nbformat": 4,
 "nbformat_minor": 4
}
