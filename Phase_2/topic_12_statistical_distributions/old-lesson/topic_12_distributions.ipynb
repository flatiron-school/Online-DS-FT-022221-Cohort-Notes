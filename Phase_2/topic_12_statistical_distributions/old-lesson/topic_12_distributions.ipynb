{
 "cells": [
  {
   "cell_type": "markdown",
   "metadata": {
    "colab_type": "text",
    "id": "PC2iFgJs_72o"
   },
   "source": [
    "# Topic 12: Statistical Distributions\n"
   ]
  },
  {
   "cell_type": "markdown",
   "metadata": {},
   "source": [
    "- onl01-dtsc-ft-022221\n",
    "- "
   ]
  },
  {
   "cell_type": "markdown",
   "metadata": {},
   "source": [
    "# Learning Objectives"
   ]
  },
  {
   "cell_type": "markdown",
   "metadata": {},
   "source": [
    "- Learn about probability functions and their relation to distributions:\n",
    "    - PMF / PDF / CDF\n",
    "- Discuss the different types of distributions and their use cases\n",
    "    - Use interactive mini-dashboards to visualize some distributions (binomial, normal)\n",
    "\n",
    "- Practice turning math equations into functions\n",
    "\n",
    "- Normal Distribution -> Standardized Normal Distribution\n",
    "<!-- \n",
    "<img src=\"https://raw.githubusercontent.com/jirvingphd/dsc-stat-distributions-use-cases-online-ds-ft-100719/master/images/dists.png\" width=500> -->"
   ]
  },
  {
   "cell_type": "markdown",
   "metadata": {},
   "source": [
    "## Questions:\n"
   ]
  },
  {
   "cell_type": "markdown",
   "metadata": {},
   "source": [
    "-\n"
   ]
  },
  {
   "cell_type": "markdown",
   "metadata": {},
   "source": [
    "# Discrete vs Continuous Variables"
   ]
  },
  {
   "cell_type": "markdown",
   "metadata": {},
   "source": [
    "### Discrete vs. Continuous Variables and their Distributions"
   ]
  },
  {
   "cell_type": "markdown",
   "metadata": {},
   "source": [
    "A fundamental distinction among kinds of distributions is the distinction between discrete and continuous distributions. \n",
    "\n",
    "A **discrete distribution** (or variable) takes on countable values, like integers, where every outcome has a positive probability.\n",
    "\n",
    "A **continuous distribution** takes on a continuum of values, like real numbers. It assigns probabilities to ranges of values (not any one single value)\n",
    "\n",
    "![](https://miro.medium.com/max/1022/1*7DwXV_h_t7_-TkLAImKBaQ.png)\n",
    "\n",
    "[More Explanation](https://mathbitsnotebook.com/Algebra1/FunctionGraphs/FNGContinuousDiscrete.html)"
   ]
  },
  {
   "cell_type": "markdown",
   "metadata": {},
   "source": [
    "### Center, Spread and Shape"
   ]
  },
  {
   "cell_type": "markdown",
   "metadata": {},
   "source": [
    "You can then start to think about how to describe distributions.\n",
    "\n",
    "More specifically, the **center** refers loosely to the middle-values of a distribution, and is measured more precisely by notions like the mean, the median, and the mode.\n",
    "\n",
    "The **spread** refers loosely to how far away the more extreme values are from the center, and is measured by some value showing variation - more precisely by the standard deviation, which is effectively a measure of the average distance away from the mean.\n",
    "\n",
    "![different spread representations](images/examplesOfSpread.jpg)\n",
    "\n",
    "The **shape** refers loosely how the data shows up when visualized, more specifically capturing details like symmetry or skew, as well as the number of peaks in the distribution.\n",
    "\n",
    "![different distribution shapes](images/shapesOfDistributions.jpg)\n",
    "\n",
    "Note that sometimes the center of your distribution is harder to capture precisely, if the shape is skewed:\n",
    "\n",
    "![examples of skewed distributions](images/order_of_mean_median_mode.png)\n",
    "\n",
    "[Image Source for the images in this cell](http://mathcenter.oxford.emory.edu/site/math117/shapeCenterAndSpread/)"
   ]
  },
  {
   "cell_type": "markdown",
   "metadata": {},
   "source": [
    "## Probability Distribution Functions"
   ]
  },
  {
   "cell_type": "markdown",
   "metadata": {},
   "source": [
    "### Probability Mass Functions (PMF) / Probability Density Functions (PDF) & Cumulative Density Functions (CDF)\n",
    "\n",
    "(I know, \"Probability Distribution Functions\" and \"Probability Density Functions\" have the same acronym. PDF normally stands for the latter - the former is a more catch-all term for all three of these)"
   ]
  },
  {
   "cell_type": "markdown",
   "metadata": {},
   "source": [
    "![example graphs of a continuous cdf with corresponding pdf and discrete cdf with corresponding pmf](images/pmf-pdf-cdf.png)\n",
    "\n",
    "[Image Source](https://stats.stackexchange.com/questions/107563/do-the-pdf-and-the-pmf-and-the-cdf-contain-the-same-information)"
   ]
  },
  {
   "cell_type": "markdown",
   "metadata": {
    "colab_type": "text",
    "id": "g32tGx6D7LrQ"
   },
   "source": [
    "# Probability Functions: PMF vs PDF vs CDF"
   ]
  },
  {
   "cell_type": "code",
   "execution_count": 1,
   "metadata": {
    "ExecuteTime": {
     "end_time": "2020-08-07T16:07:44.798219Z",
     "start_time": "2020-08-07T16:07:44.732874Z"
    }
   },
   "outputs": [],
   "source": [
    "import matplotlib.pyplot as plt\n",
    "import pandas as pd\n",
    "import seaborn as sns\n",
    "import numpy as np\n",
    "plt.style.use('fivethirtyeight')"
   ]
  },
  {
   "cell_type": "code",
   "execution_count": 2,
   "metadata": {},
   "outputs": [
    {
     "name": "stdout",
     "output_type": "stream",
     "text": [
      "fsds v0.2.30 loaded.  Read the docs: https://fs-ds.readthedocs.io/en/latest/ \n"
     ]
    },
    {
     "data": {
      "text/html": [
       "<style  type=\"text/css\" >\n",
       "</style><table id=\"T_09ca3024_8d80_11eb_80cc_a683e748ff0e\" ><caption>Loaded Packages and Handles</caption><thead>    <tr>        <th class=\"col_heading level0 col0\" >Handle</th>        <th class=\"col_heading level0 col1\" >Package</th>        <th class=\"col_heading level0 col2\" >Description</th>    </tr></thead><tbody>\n",
       "                <tr>\n",
       "                                <td id=\"T_09ca3024_8d80_11eb_80cc_a683e748ff0erow0_col0\" class=\"data row0 col0\" >dp</td>\n",
       "                        <td id=\"T_09ca3024_8d80_11eb_80cc_a683e748ff0erow0_col1\" class=\"data row0 col1\" >IPython.display</td>\n",
       "                        <td id=\"T_09ca3024_8d80_11eb_80cc_a683e748ff0erow0_col2\" class=\"data row0 col2\" >Display modules with helpful display and clearing commands.</td>\n",
       "            </tr>\n",
       "            <tr>\n",
       "                                <td id=\"T_09ca3024_8d80_11eb_80cc_a683e748ff0erow1_col0\" class=\"data row1 col0\" >fs</td>\n",
       "                        <td id=\"T_09ca3024_8d80_11eb_80cc_a683e748ff0erow1_col1\" class=\"data row1 col1\" >fsds</td>\n",
       "                        <td id=\"T_09ca3024_8d80_11eb_80cc_a683e748ff0erow1_col2\" class=\"data row1 col2\" >Custom data science bootcamp student package</td>\n",
       "            </tr>\n",
       "            <tr>\n",
       "                                <td id=\"T_09ca3024_8d80_11eb_80cc_a683e748ff0erow2_col0\" class=\"data row2 col0\" >mpl</td>\n",
       "                        <td id=\"T_09ca3024_8d80_11eb_80cc_a683e748ff0erow2_col1\" class=\"data row2 col1\" >matplotlib</td>\n",
       "                        <td id=\"T_09ca3024_8d80_11eb_80cc_a683e748ff0erow2_col2\" class=\"data row2 col2\" >Matplotlib's base OOP module with formatting artists</td>\n",
       "            </tr>\n",
       "            <tr>\n",
       "                                <td id=\"T_09ca3024_8d80_11eb_80cc_a683e748ff0erow3_col0\" class=\"data row3 col0\" >plt</td>\n",
       "                        <td id=\"T_09ca3024_8d80_11eb_80cc_a683e748ff0erow3_col1\" class=\"data row3 col1\" >matplotlib.pyplot</td>\n",
       "                        <td id=\"T_09ca3024_8d80_11eb_80cc_a683e748ff0erow3_col2\" class=\"data row3 col2\" >Matplotlib's matlab-like plotting module</td>\n",
       "            </tr>\n",
       "            <tr>\n",
       "                                <td id=\"T_09ca3024_8d80_11eb_80cc_a683e748ff0erow4_col0\" class=\"data row4 col0\" >np</td>\n",
       "                        <td id=\"T_09ca3024_8d80_11eb_80cc_a683e748ff0erow4_col1\" class=\"data row4 col1\" >numpy</td>\n",
       "                        <td id=\"T_09ca3024_8d80_11eb_80cc_a683e748ff0erow4_col2\" class=\"data row4 col2\" >scientific computing with Python</td>\n",
       "            </tr>\n",
       "            <tr>\n",
       "                                <td id=\"T_09ca3024_8d80_11eb_80cc_a683e748ff0erow5_col0\" class=\"data row5 col0\" >pd</td>\n",
       "                        <td id=\"T_09ca3024_8d80_11eb_80cc_a683e748ff0erow5_col1\" class=\"data row5 col1\" >pandas</td>\n",
       "                        <td id=\"T_09ca3024_8d80_11eb_80cc_a683e748ff0erow5_col2\" class=\"data row5 col2\" >High performance data structures and tools</td>\n",
       "            </tr>\n",
       "            <tr>\n",
       "                                <td id=\"T_09ca3024_8d80_11eb_80cc_a683e748ff0erow6_col0\" class=\"data row6 col0\" >sns</td>\n",
       "                        <td id=\"T_09ca3024_8d80_11eb_80cc_a683e748ff0erow6_col1\" class=\"data row6 col1\" >seaborn</td>\n",
       "                        <td id=\"T_09ca3024_8d80_11eb_80cc_a683e748ff0erow6_col2\" class=\"data row6 col2\" >High-level data visualization library based on matplotlib</td>\n",
       "            </tr>\n",
       "    </tbody></table>"
      ],
      "text/plain": [
       "<pandas.io.formats.style.Styler at 0x7fcd64702550>"
      ]
     },
     "metadata": {},
     "output_type": "display_data"
    },
    {
     "data": {
      "text/html": [
       "        <script type=\"text/javascript\">\n",
       "        window.PlotlyConfig = {MathJaxConfig: 'local'};\n",
       "        if (window.MathJax) {MathJax.Hub.Config({SVG: {font: \"STIX-Web\"}});}\n",
       "        if (typeof require !== 'undefined') {\n",
       "        require.undef(\"plotly\");\n",
       "        requirejs.config({\n",
       "            paths: {\n",
       "                'plotly': ['https://cdn.plot.ly/plotly-latest.min']\n",
       "            }\n",
       "        });\n",
       "        require(['plotly'], function(Plotly) {\n",
       "            window._Plotly = Plotly;\n",
       "        });\n",
       "        }\n",
       "        </script>\n",
       "        "
      ]
     },
     "metadata": {},
     "output_type": "display_data"
    },
    {
     "data": {
      "text/html": [
       "        <script type=\"text/javascript\">\n",
       "        window.PlotlyConfig = {MathJaxConfig: 'local'};\n",
       "        if (window.MathJax) {MathJax.Hub.Config({SVG: {font: \"STIX-Web\"}});}\n",
       "        if (typeof require !== 'undefined') {\n",
       "        require.undef(\"plotly\");\n",
       "        requirejs.config({\n",
       "            paths: {\n",
       "                'plotly': ['https://cdn.plot.ly/plotly-latest.min']\n",
       "            }\n",
       "        });\n",
       "        require(['plotly'], function(Plotly) {\n",
       "            window._Plotly = Plotly;\n",
       "        });\n",
       "        }\n",
       "        </script>\n",
       "        "
      ]
     },
     "metadata": {},
     "output_type": "display_data"
    },
    {
     "name": "stdout",
     "output_type": "stream",
     "text": [
      "[i] Pandas .iplot() method activated.\n"
     ]
    }
   ],
   "source": [
    "# !pip install -U fsds\n",
    "from fsds.imports import *"
   ]
  },
  {
   "cell_type": "code",
   "execution_count": 3,
   "metadata": {
    "ExecuteTime": {
     "end_time": "2020-08-07T16:07:44.798219Z",
     "start_time": "2020-08-07T16:07:44.732874Z"
    }
   },
   "outputs": [],
   "source": [
    "import coin_toss as ct\n",
    "%load_ext autoreload\n",
    "%autoreload 2"
   ]
  },
  {
   "cell_type": "markdown",
   "metadata": {
    "colab_type": "text",
    "id": "vOIxvNd6E6t-"
   },
   "source": [
    "## Probability Mass Function\n"
   ]
  },
  {
   "cell_type": "markdown",
   "metadata": {},
   "source": [
    "<img src=\"https://raw.githubusercontent.com/jirvingphd/fsds_100719_cohort_notes/master/Flashcards/Probability_Mass_Function_web.png\" width=50%>"
   ]
  },
  {
   "cell_type": "code",
   "execution_count": 4,
   "metadata": {
    "ExecuteTime": {
     "end_time": "2020-08-07T16:07:45.982968Z",
     "start_time": "2020-08-07T16:07:45.648868Z"
    }
   },
   "outputs": [
    {
     "data": {
      "image/png": "[encoded data removed]",
      "text/plain": [
       "<Figure size 576x288 with 2 Axes>"
      ]
     },
     "metadata": {},
     "output_type": "display_data"
    }
   ],
   "source": [
    "## Histogram vs PMF For Coin Flip\n",
    "results = ct.coin_toss(67,verbose=False)\n",
    "fig,ax = ct.compare_results(results)"
   ]
  },
  {
   "cell_type": "markdown",
   "metadata": {
    "colab_type": "text",
    "id": "R4xed8CZw3Ic"
   },
   "source": [
    "\n",
    "- Converts counts to probability of a **discrete** function by normalizing so that the sum of all outcomes == 1.\n",
    "\n",
    "- Can test what is the probability that $x$ takes on a particular value $k$\n",
    "    - $P(X=k)$\n",
    "\n",
    "> \"If we have x outcomes, what is the probability of getting k (our value of interest) from x?\"\n",
    "\n"
   ]
  },
  {
   "cell_type": "markdown",
   "metadata": {
    "colab_type": "text",
    "id": "fjcHq9Vl9YEh"
   },
   "source": [
    "### Expected Value and Variance of PMFs\n",
    "\n",
    "- We can use PMFs to calculate the expected values/outcomes/probability\n",
    "\n",
    "\n",
    "- **the expected value of your discrete random value X is given by:**\n",
    "\n",
    "$$ E(X) = \\mu = \\sum_i p(x_i)x_i$$\n",
    "\n",
    "- **The variance is given by:**\n",
    "\n",
    "$$ E((X-\\mu)^2) = \\sigma^2 = \\sum_i p(x_i)(x_i-\\mu)^2$$"
   ]
  },
  {
   "cell_type": "markdown",
   "metadata": {
    "colab_type": "text",
    "id": "XyB5meQK94jJ"
   },
   "source": [
    "## Probability Density Function"
   ]
  },
  {
   "cell_type": "markdown",
   "metadata": {},
   "source": [
    "<img src=\"https://raw.githubusercontent.com/jirvingphd/fsds_100719_cohort_notes/master/Flashcards/Probability_Density_Function_web.png\">"
   ]
  },
  {
   "cell_type": "code",
   "execution_count": 5,
   "metadata": {
    "ExecuteTime": {
     "end_time": "2020-08-07T16:16:39.732746Z",
     "start_time": "2020-08-07T16:16:39.289484Z"
    }
   },
   "outputs": [
    {
     "data": {
      "text/html": [
       "<div>\n",
       "<style scoped>\n",
       "    .dataframe tbody tr th:only-of-type {\n",
       "        vertical-align: middle;\n",
       "    }\n",
       "\n",
       "    .dataframe tbody tr th {\n",
       "        vertical-align: top;\n",
       "    }\n",
       "\n",
       "    .dataframe thead th {\n",
       "        text-align: right;\n",
       "    }\n",
       "</style>\n",
       "<table border=\"1\" class=\"dataframe\">\n",
       "  <thead>\n",
       "    <tr style=\"text-align: right;\">\n",
       "      <th></th>\n",
       "      <th>Gender</th>\n",
       "      <th>Height</th>\n",
       "      <th>Weight</th>\n",
       "    </tr>\n",
       "  </thead>\n",
       "  <tbody>\n",
       "    <tr>\n",
       "      <th>0</th>\n",
       "      <td>Male</td>\n",
       "      <td>73.847017</td>\n",
       "      <td>241.893563</td>\n",
       "    </tr>\n",
       "    <tr>\n",
       "      <th>1</th>\n",
       "      <td>Male</td>\n",
       "      <td>68.781904</td>\n",
       "      <td>162.310473</td>\n",
       "    </tr>\n",
       "    <tr>\n",
       "      <th>2</th>\n",
       "      <td>Male</td>\n",
       "      <td>74.110105</td>\n",
       "      <td>212.740856</td>\n",
       "    </tr>\n",
       "    <tr>\n",
       "      <th>3</th>\n",
       "      <td>Male</td>\n",
       "      <td>71.730978</td>\n",
       "      <td>220.042470</td>\n",
       "    </tr>\n",
       "    <tr>\n",
       "      <th>4</th>\n",
       "      <td>Male</td>\n",
       "      <td>69.881796</td>\n",
       "      <td>206.349801</td>\n",
       "    </tr>\n",
       "  </tbody>\n",
       "</table>\n",
       "</div>"
      ],
      "text/plain": [
       "  Gender     Height      Weight\n",
       "0   Male  73.847017  241.893563\n",
       "1   Male  68.781904  162.310473\n",
       "2   Male  74.110105  212.740856\n",
       "3   Male  71.730978  220.042470\n",
       "4   Male  69.881796  206.349801"
      ]
     },
     "execution_count": 5,
     "metadata": {},
     "output_type": "execute_result"
    }
   ],
   "source": [
    "df = fs.datasets.load_height_weight()#pd.read_csv('weight-height.csv')\n",
    "df.head()"
   ]
  },
  {
   "cell_type": "code",
   "execution_count": 6,
   "metadata": {
    "ExecuteTime": {
     "end_time": "2020-08-07T16:19:58.402617Z",
     "start_time": "2020-08-07T16:19:58.016971Z"
    }
   },
   "outputs": [
    {
     "name": "stderr",
     "output_type": "stream",
     "text": [
      "/opt/anaconda3/envs/learn-env/lib/python3.6/site-packages/seaborn/distributions.py:2551: FutureWarning:\n",
      "\n",
      "`distplot` is a deprecated function and will be removed in a future version. Please adapt your code to use either `displot` (a figure-level function with similar flexibility) or `kdeplot` (an axes-level function for kernel density plots).\n",
      "\n"
     ]
    },
    {
     "data": {
      "image/png": "[encoded data removed]",
      "text/plain": [
       "<Figure size 648x360 with 2 Axes>"
      ]
     },
     "metadata": {},
     "output_type": "display_data"
    }
   ],
   "source": [
    "fig, ax = plt.subplots(ncols=2,figsize=(9,5))\n",
    "\n",
    "df['Height'].hist(ax=ax[0])\n",
    "ax[0].set(ylabel='Counts',xlabel='Height',title='Histogram')\n",
    "\n",
    "sns.distplot(df['Height'],hist=False,ax=ax[1])\n",
    "ax[1].set(ylabel='Probability Density',title='PDF')\n",
    "\n",
    "plt.tight_layout()"
   ]
  },
  {
   "cell_type": "markdown",
   "metadata": {
    "colab_type": "text",
    "id": "Z6Ebr98eAGXw"
   },
   "source": [
    "#### Expected Value and Variance of PDFs\n",
    "\n",
    "$$ E(X) = \\mu = \\int_{- \\infty}^{+ \\infty} p(x)x dx$$\n",
    "$$ E((X-\\mu)^2) = \\sigma^2  = \\int_{- \\infty}^{+ \\infty} p(x)(x-\\mu)^2 dx$$\n",
    "\n"
   ]
  },
  {
   "cell_type": "markdown",
   "metadata": {
    "colab_type": "text",
    "id": "51QeB3wYAYDz"
   },
   "source": [
    " The main takeaway here is that you simply can't use the same summation expression because $P(X=x_i) = 0$ for any $x_i$.\n",
    "\n",
    "<img src=\"https://raw.githubusercontent.com/jirvingphd/dsc-probability-density-function-online-ds-ft-100719/master/images/pdf2.jpg\">\n",
    "\n",
    "The formal mathematical representation for calculating an area under the curve is given by:\n",
    "\n",
    "$$ \\large P(a \\leq x \\leq b) = \\int_a^b f(x) dx \\geq 0 $$\n",
    "\n",
    "> To obtain a probability of observing a value in an interval $[a,b]$, you can use an integral (which gives you the area under the curve) from a to b using your PDF $f(x)$ \n",
    "\n"
   ]
  },
  {
   "cell_type": "code",
   "execution_count": 24,
   "metadata": {
    "ExecuteTime": {
     "end_time": "2020-08-07T16:23:33.809035Z",
     "start_time": "2020-08-07T16:23:33.248132Z"
    }
   },
   "outputs": [
    {
     "name": "stderr",
     "output_type": "stream",
     "text": [
      "No handles with labels found to put in legend.\n"
     ]
    },
    {
     "data": {
      "text/plain": [
       "<matplotlib.legend.Legend at 0x7fcd6721c2e8>"
      ]
     },
     "execution_count": 24,
     "metadata": {},
     "output_type": "execute_result"
    },
    {
     "data": {
      "image/png": "[encoded data removed]",
      "text/plain": [
       "<Figure size 461.15x360 with 1 Axes>"
      ]
     },
     "metadata": {},
     "output_type": "display_data"
    }
   ],
   "source": [
    "sns.displot(data=df,x='Height',hue='Gender')\n",
    "plt.legend()"
   ]
  },
  {
   "cell_type": "markdown",
   "metadata": {
    "colab_type": "text",
    "id": "20tlfEqLETLM"
   },
   "source": [
    "\n",
    "#### Kernel Density Estimation \n",
    "- Non-parametric estimation to plot a curve at every individual data point (kernels)\n",
    "- Added together to plot smooth density estimation ( most common kernel is Gaussian)\n",
    "- Below example histogram and kde are from the same data\n",
    "<img src=\"https://www.dropbox.com/s/vrgcphxmry5148l/Comparison_of_1D_histogram_and_KDE.png?raw=1\" width=400>"
   ]
  },
  {
   "cell_type": "markdown",
   "metadata": {
    "colab_type": "text",
    "id": "1-0lPCdrplF4"
   },
   "source": [
    "\n",
    "#### Density Estimation and Plotting\n",
    "\n",
    "\n",
    "**Kernel density estimation** or KDE is a common non-parametric estimation technique to plot a curve (the kernel) at every individual data point."
   ]
  },
  {
   "cell_type": "markdown",
   "metadata": {
    "colab_type": "text",
    "id": "vVeQeIwmAsxc"
   },
   "source": [
    "### Cumulative Distribution Function"
   ]
  },
  {
   "cell_type": "markdown",
   "metadata": {
    "colab_type": "text",
    "id": "XXVrBQX4AYBg"
   },
   "source": [
    "<img src=\"https://raw.githubusercontent.com/jirvingphd/fsds_100719_cohort_notes/master/Flashcards/Cumulative_Distribution_Function_web.png\">\n",
    "\n",
    "$$\\large F(x) = P(X \\leq x)$$"
   ]
  },
  {
   "cell_type": "markdown",
   "metadata": {
    "colab_type": "text",
    "id": "XXVrBQX4AYBg"
   },
   "source": [
    " To calculate the $CDF(x)$ for any value of $x$, we compute the proportion of values in the distribution less than or equal to $x$ as follows:\n",
    "\n",
    "\n",
    "> The Cumulative Distribution Function, CDF, gives the probability that the variable $X$ is less than or equal to a certain possible value $x$. \n",
    "\n",
    "<img src=\"https://raw.githubusercontent.com/jirvingphd/dsc-cumulative-distribution-function-online-ds-ft-100719/master/images/cdfs_dice_nyc_2.png\">"
   ]
  },
  {
   "cell_type": "markdown",
   "metadata": {},
   "source": [
    "# Types of Distributions"
   ]
  },
  {
   "cell_type": "markdown",
   "metadata": {},
   "source": [
    "<img src=\"https://raw.githubusercontent.com/jirvingphd/dsc-stat-distributions-use-cases-online-ds-ft-100719/master/images/dists.png\" width=700>"
   ]
  },
  {
   "cell_type": "markdown",
   "metadata": {
    "colab_type": "text",
    "id": "t4afuY15w3Ia"
   },
   "source": [
    "\n",
    "\n",
    "## Distributions: Discrete vs Continuous \n"
   ]
  },
  {
   "cell_type": "markdown",
   "metadata": {
    "colab_type": "text",
    "id": "LbEnK7DMw3Ib"
   },
   "source": [
    "- **Continuous vs Discrete Distributions & their probability functions**\n",
    "<img src=\"https://www.dropbox.com/s/7qooiy76s3jvcr1/pmf_pdf.png?raw=1\" width=400>\n",
    "<img src=\"https://www.dropbox.com/s/ovrzewnefk2qc97/exp-var.png?raw=1\" width=400>\n",
    "\n",
    "- Discrete:\n",
    "    - Binomial\n",
    "    - Geometric\n",
    "    - Poisson\n",
    "- Continuous:\n",
    "    - Uniform\n",
    "    - Normal"
   ]
  },
  {
   "cell_type": "markdown",
   "metadata": {},
   "source": [
    "## Distribution descriptions  in words\n",
    "**_Binomial Distribution_**: \"I flip a fair coin 5 times. What are the chances that I get heads 0 times? 1 time? 2 times? Etc...\"\n",
    "\n",
    "<!---\n",
    "**_Negative Binomial Distribution_**: I flip a fair coin 5 times. What are the chances it takes me two flips to get heads twice? How about 3 flips to get heads twice? 4 Flips? Etc...--->\n",
    "\n",
    "The **_Exponential Distribution_** describes the probability distribution of the amount of time it may take before an event occurs.  In a way, it solves the inverse of the problem solves by the Poisson Distribution.\n",
    "\n",
    "The **_Poisson Distribution_** lets us ask how likely any given number of events are over a set interval of time.  \n",
    "<!---\n",
    "The **_Exponential Distribution_** lets us ask how likely the _length of an interval of time_ is before an event occurs exactly once. \n",
    "\n",
    "Another way to think of the Exponential Distribution is as the continuous analogue of the **_Geometric Distribution_**\n",
    "--->"
   ]
  },
  {
   "cell_type": "markdown",
   "metadata": {},
   "source": [
    "## Experiment  Vocab\n",
    "- Experiments\n",
    "- Trials: repeated event \n",
    "- Outcomes: whats happens each trial"
   ]
  },
  {
   "cell_type": "markdown",
   "metadata": {
    "colab_type": "text",
    "id": "7JhKVAus5M0j"
   },
   "source": [
    "## Discrete Distributions\n"
   ]
  },
  {
   "cell_type": "markdown",
   "metadata": {},
   "source": [
    "### Bernoulli Trials and Binomial Distribution"
   ]
  },
  {
   "cell_type": "markdown",
   "metadata": {
    "colab_type": "text",
    "id": "LBdDjOWJw3Ic"
   },
   "source": [
    "#### Bernoulli Distribution/Trials\n",
    "- Probability of $x$ successes in $n$ trials for Bernoulli/binomial variable (binary outcome)\n",
    "    - Described by only one parameter $p$\n",
    "\n",
    "\n",
    "- For binomial *trial*: \n",
    "$$Y = Bernoulli(p)$$ and $p=P(Y=1)=0.8$"
   ]
  },
  {
   "cell_type": "markdown",
   "metadata": {
    "colab_type": "text",
    "id": "LBdDjOWJw3Ic"
   },
   "source": [
    "### Binomial Distributions\n",
    "\n",
    "**_Binomial Distribution_**: \"I flip a fair coin 5 times. What are the chances that I get heads 0 times? 1 time? 2 times? Etc...\"\n",
    "\n",
    "- For binomial *distribution*, events are independent. \n",
    "$$ P(Y=k)= \\binom{n}{k} p^k(1-p)^{(n-k)}$$ "
   ]
  },
  {
   "cell_type": "code",
   "execution_count": 17,
   "metadata": {
    "ExecuteTime": {
     "end_time": "2020-08-07T16:42:27.881980Z",
     "start_time": "2020-08-07T16:42:27.825697Z"
    }
   },
   "outputs": [],
   "source": [
    "from math import factorial\n",
    "def combination(n,k):\n",
    "    combin = factorial(n)/(factorial(n-k)*factorial(k))\n",
    "    return combin\n",
    "\n",
    "def permutation(n,k):\n",
    "    permut = factorial(n)/factorial(n-k)\n",
    "    return permut\n",
    "\n",
    "\n",
    "def binomial_P_k_success(n,k,p):\n",
    "    \"\"\"\n",
    "    Calculates P(x=k) for a binomial distrubtions.\n",
    "    \n",
    "    Args:\n",
    "        n (int): number total options\n",
    "        k (int): number to select\n",
    "        p (int): prob of success for binary outcome\n",
    "    \n",
    "    Returns:\n",
    "        pk(float): prob that x=k\n",
    "    \"\"\"\n",
    "    combs = combination(n,k)\n",
    "    pk = combs*(p**k)*((1-p)**(n-k))\n",
    "    return pk"
   ]
  },
  {
   "cell_type": "code",
   "execution_count": 18,
   "metadata": {
    "ExecuteTime": {
     "end_time": "2020-08-07T16:42:40.157859Z",
     "start_time": "2020-08-07T16:42:40.102880Z"
    }
   },
   "outputs": [
    {
     "data": {
      "text/plain": [
       "0.2734375"
      ]
     },
     "execution_count": 18,
     "metadata": {},
     "output_type": "execute_result"
    }
   ],
   "source": [
    "# Flip a coin 10 times, what the chacnce of getting 7 heads?\n",
    "binomial_P_k_success(7,4,0.5)"
   ]
  },
  {
   "cell_type": "markdown",
   "metadata": {},
   "source": [
    "> **HOP OVER TO `distributions_notebook_app.ipynb`**"
   ]
  },
  {
   "cell_type": "markdown",
   "metadata": {
    "colab_type": "text",
    "id": "LBdDjOWJw3Ic"
   },
   "source": [
    "___\n",
    "\n",
    "<!---### Geometric Distribution\n",
    "- Geometric = Repeated trials, but examines the probability that the first success will occur on trial n.--->"
   ]
  },
  {
   "cell_type": "markdown",
   "metadata": {
    "colab_type": "text",
    "id": "LBdDjOWJw3Ic"
   },
   "source": [
    "### Poisson"
   ]
  },
  {
   "cell_type": "markdown",
   "metadata": {
    "colab_type": "text",
    "id": "LBdDjOWJw3Ic"
   },
   "source": [
    "- Represents the probability of $n$ events in a given time period when the rate of occurrence is constant\n",
    "\n",
    "\n",
    "#### Poisson Probability Distribution: $$p(x) = \\frac{\\lambda^xe^{-\\lambda}}{x!}$$\n",
    "\n",
    "Also note that lambda $\\lambda$ is the now the average number of successes that we anticipate in a given interval: the probability $p$ of success, times the number of intervals $n$."
   ]
  },
  {
   "cell_type": "code",
   "execution_count": 19,
   "metadata": {
    "ExecuteTime": {
     "end_time": "2020-08-07T16:44:53.829405Z",
     "start_time": "2020-08-07T16:44:53.774614Z"
    }
   },
   "outputs": [],
   "source": [
    "def poisson_probability(lambd,x):\n",
    "    res = (lambd**x)*(np.exp(-lambd)) / factorial(x)\n",
    "    return res"
   ]
  },
  {
   "cell_type": "markdown",
   "metadata": {},
   "source": [
    "Question 1\n",
    "A fireman fights, on average, 4 fires per month. What is the probability that a fireman is called to two different fires this week?\n"
   ]
  },
  {
   "cell_type": "code",
   "execution_count": 20,
   "metadata": {
    "ExecuteTime": {
     "end_time": "2020-08-07T16:44:55.299518Z",
     "start_time": "2020-08-07T16:44:55.242579Z"
    }
   },
   "outputs": [
    {
     "data": {
      "text/plain": [
       "0.024337524470981402"
      ]
     },
     "execution_count": 20,
     "metadata": {},
     "output_type": "execute_result"
    }
   ],
   "source": [
    "lambd = 1/4\n",
    "\n",
    "poisson_probability(lambd,2 )"
   ]
  },
  {
   "cell_type": "markdown",
   "metadata": {
    "colab_type": "text",
    "id": "LBdDjOWJw3Ic"
   },
   "source": [
    "#### Uniform\n",
    "- All outcomes are equally likely. \n",
    "- BOTH continuous AND discrete"
   ]
  },
  {
   "cell_type": "markdown",
   "metadata": {},
   "source": [
    "## Exponential Distribution"
   ]
  },
  {
   "cell_type": "markdown",
   "metadata": {},
   "source": [
    "The **_Exponential Distribution_** describes the probability distribution of the amount of time it may take before an event occurs.  In a way, it solves the inverse of the problem solves by the Poisson Distribution.\n",
    "\n",
    "\n",
    "$$\\lambda = \\frac{1}{\\mu}$$\n",
    "\n",
    "Once we know the decay rate, we can use the **Probability Density Function** to tell us the exact point probability for any length $x$.\n",
    "\n",
    "$$PDF(x) = \\lambda e^{-\\lambda x}$$\n",
    "\n",
    "The **Probability Density Function** allows us to answer questions such as \"What is the probability that it takes _exactly_ 4 minutes to ring up this customer?\""
   ]
  },
  {
   "cell_type": "markdown",
   "metadata": {},
   "source": [
    "Since we are talking about a continuously-valued function, we'll also often want to make use of the **Cumulative Distribution Function**.  This allows us to answer questions such as \"what is the probability that it will take less than 4 minutes to ring up this customer?\"\n"
   ]
  },
  {
   "cell_type": "markdown",
   "metadata": {},
   "source": [
    "$$CDF(x) = 1 - e^{-\\lambda x}$$\n"
   ]
  },
  {
   "cell_type": "code",
   "execution_count": 21,
   "metadata": {
    "ExecuteTime": {
     "end_time": "2020-08-07T16:46:53.633035Z",
     "start_time": "2020-08-07T16:46:53.575069Z"
    }
   },
   "outputs": [],
   "source": [
    "import numpy as np\n",
    "\n",
    "def exp_pdf(mu,x):\n",
    "    decay_rate = 1/mu\n",
    "    pdf= decay_rate*np.exp(-decay_rate*x)\n",
    "    return pdf\n",
    "    \n",
    "    \n",
    "def exp_cdf(mu,x):\n",
    "    decay_rate = 1/mu\n",
    "    return 1- np.exp(-decay_rate*x)"
   ]
  },
  {
   "cell_type": "markdown",
   "metadata": {},
   "source": [
    "Steven is picking up a friend at the airport and their plane is late. The late flight is 22 minutes behind schedule. What is the probability that Steven will wait 30 minutes or less for his friend's flight to land?"
   ]
  },
  {
   "cell_type": "code",
   "execution_count": 22,
   "metadata": {
    "ExecuteTime": {
     "end_time": "2020-08-07T16:46:55.301751Z",
     "start_time": "2020-08-07T16:46:55.247574Z"
    }
   },
   "outputs": [
    {
     "data": {
      "text/plain": [
       "0.7442708400868994"
      ]
     },
     "execution_count": 22,
     "metadata": {},
     "output_type": "execute_result"
    }
   ],
   "source": [
    "exp_cdf(22,30)"
   ]
  },
  {
   "cell_type": "markdown",
   "metadata": {},
   "source": [
    "\n",
    "___"
   ]
  },
  {
   "cell_type": "markdown",
   "metadata": {
    "colab_type": "text",
    "id": "dT1toD0noc3A"
   },
   "source": [
    "# Normal Distribution"
   ]
  },
  {
   "cell_type": "markdown",
   "metadata": {},
   "source": [
    "> **The Normal Distribution is symmetrical and its mean, median and mode are equal.** \n",
    "* area under curve is equal to 1.0\n",
    "* denser in the center and less dense in the tails\n",
    "* defined by two parameters, the mean ($\\mu$) and the standard deviation ($\\sigma$).\n",
    "    \n",
    "\n",
    "<center><img src=\"https://raw.githubusercontent.com/jirvingphd/dsc-normal-distribution-online-ds-ft-100719/master/images/normal_sd_new.png\" width=600></center>\n"
   ]
  },
  {
   "cell_type": "code",
   "execution_count": 25,
   "metadata": {
    "ExecuteTime": {
     "end_time": "2020-08-07T16:50:53.818125Z",
     "start_time": "2020-08-07T16:50:53.428488Z"
    }
   },
   "outputs": [
    {
     "data": {
      "text/plain": [
       "<seaborn.axisgrid.FacetGrid at 0x7fcd48a0b240>"
      ]
     },
     "execution_count": 25,
     "metadata": {},
     "output_type": "execute_result"
    },
    {
     "data": {
      "image/png": "[encoded data removed]",
      "text/plain": [
       "<Figure size 360x360 with 1 Axes>"
      ]
     },
     "metadata": {},
     "output_type": "display_data"
    }
   ],
   "source": [
    "male_df = df.groupby('Gender').get_group('Male')\n",
    "female_df = df.groupby('Gender').get_group('Female')\n",
    "sns.displot(male_df['Height'])"
   ]
  },
  {
   "cell_type": "code",
   "execution_count": 26,
   "metadata": {
    "ExecuteTime": {
     "end_time": "2020-08-07T16:52:17.607159Z",
     "start_time": "2020-08-07T16:52:17.263811Z"
    }
   },
   "outputs": [
    {
     "data": {
      "text/plain": [
       "<seaborn.axisgrid.FacetGrid at 0x7fcd48aeedd8>"
      ]
     },
     "execution_count": 26,
     "metadata": {},
     "output_type": "execute_result"
    },
    {
     "data": {
      "image/png": "[encoded data removed]",
      "text/plain": [
       "<Figure size 360x360 with 1 Axes>"
      ]
     },
     "metadata": {},
     "output_type": "display_data"
    }
   ],
   "source": [
    "import scipy.stats as stats\n",
    "y = stats.zscore(male_df['Height'])\n",
    "sns.displot(y)"
   ]
  },
  {
   "cell_type": "code",
   "execution_count": 28,
   "metadata": {
    "ExecuteTime": {
     "end_time": "2020-08-07T16:50:22.624587Z",
     "start_time": "2020-08-07T16:50:22.281608Z"
    }
   },
   "outputs": [
    {
     "data": {
      "text/plain": [
       "[<matplotlib.lines.Line2D at 0x7fcd6711d5c0>]"
      ]
     },
     "execution_count": 28,
     "metadata": {},
     "output_type": "execute_result"
    },
    {
     "data": {
      "image/png": "[encoded data removed]",
      "text/plain": [
       "<Figure size 720x432 with 1 Axes>"
      ]
     },
     "metadata": {},
     "output_type": "display_data"
    }
   ],
   "source": [
    "import scipy.stats as stats\n",
    "x = np.arange(-4,4,.01)\n",
    "y = stats.norm.pdf(x)\n",
    "\n",
    "fig,ax = plt.subplots(figsize=(10,6),nrows=1)\n",
    "\n",
    "ax.plot(x,y,zorder=-1,lw=3)"
   ]
  },
  {
   "cell_type": "code",
   "execution_count": 29,
   "metadata": {
    "ExecuteTime": {
     "end_time": "2020-08-07T16:50:24.564935Z",
     "start_time": "2020-08-07T16:50:24.178938Z"
    }
   },
   "outputs": [
    {
     "data": {
      "image/png": "[encoded data removed]",
      "text/plain": [
       "<Figure size 576x576 with 2 Axes>"
      ]
     },
     "metadata": {},
     "output_type": "display_data"
    }
   ],
   "source": [
    "\n",
    "fig,axes = plt.subplots(figsize=(8,8),nrows=2)\n",
    "\n",
    "ax =axes[0]\n",
    "ax.plot(x,y,zorder=-1,lw=3)\n",
    "# stats.norm.cdf(4)\n",
    "ax.axvline(0)\n",
    "ax.set(title='PDF')\n",
    "ax.axvline(-1,ls='--',c='green')\n",
    "ax.axvline(1,ls='--',c='green')\n",
    "\n",
    "ax.axvline(-2,ls=':',c='orange')\n",
    "ax.axvline(2,ls=':',c='orange')\n",
    "\n",
    "\n",
    "ax=axes[1]\n",
    "ax.plot(x, stats.norm.cdf(x))\n",
    "ax.set(title='CDF')\n",
    "\n",
    "ax.set(ylim=0,xlim=(x[0],x[-1]))\n",
    "fig.tight_layout()"
   ]
  },
  {
   "cell_type": "code",
   "execution_count": 30,
   "metadata": {
    "ExecuteTime": {
     "end_time": "2020-08-07T16:28:41.795805Z",
     "start_time": "2020-08-07T16:28:41.738034Z"
    }
   },
   "outputs": [
    {
     "name": "stdout",
     "output_type": "stream",
     "text": [
      "0.683\n"
     ]
    },
    {
     "data": {
      "text/plain": [
       "0.954"
      ]
     },
     "execution_count": 30,
     "metadata": {},
     "output_type": "execute_result"
    }
   ],
   "source": [
    "## Prove percentage rules - \n",
    "print(round(stats.norm.cdf(1) - stats.norm.cdf(-1),3))\n",
    "round(stats.norm.cdf(2) - stats.norm.cdf(-2),3)"
   ]
  },
  {
   "cell_type": "code",
   "execution_count": 31,
   "metadata": {
    "ExecuteTime": {
     "end_time": "2020-08-07T16:54:16.387598Z",
     "start_time": "2020-08-07T16:54:16.287433Z"
    }
   },
   "outputs": [
    {
     "data": {
      "text/plain": [
       "array([0.84134475, 0.97724987])"
      ]
     },
     "execution_count": 31,
     "metadata": {},
     "output_type": "execute_result"
    }
   ],
   "source": [
    "stats.norm.cdf([1,2])"
   ]
  },
  {
   "cell_type": "markdown",
   "metadata": {},
   "source": [
    "## Standardized Normal Distribution"
   ]
  },
  {
   "cell_type": "markdown",
   "metadata": {},
   "source": [
    "- Special case of the normal distribution where $\\mu=0$ and $\\sigma=1$"
   ]
  },
  {
   "cell_type": "code",
   "execution_count": 32,
   "metadata": {
    "ExecuteTime": {
     "end_time": "2020-08-07T16:54:17.523537Z",
     "start_time": "2020-08-07T16:54:17.133993Z"
    }
   },
   "outputs": [
    {
     "data": {
      "text/html": [
       "<div>\n",
       "<style scoped>\n",
       "    .dataframe tbody tr th:only-of-type {\n",
       "        vertical-align: middle;\n",
       "    }\n",
       "\n",
       "    .dataframe tbody tr th {\n",
       "        vertical-align: top;\n",
       "    }\n",
       "\n",
       "    .dataframe thead th {\n",
       "        text-align: right;\n",
       "    }\n",
       "</style>\n",
       "<table border=\"1\" class=\"dataframe\">\n",
       "  <thead>\n",
       "    <tr style=\"text-align: right;\">\n",
       "      <th></th>\n",
       "      <th>Gender</th>\n",
       "      <th>Height</th>\n",
       "      <th>Weight</th>\n",
       "    </tr>\n",
       "  </thead>\n",
       "  <tbody>\n",
       "    <tr>\n",
       "      <th>0</th>\n",
       "      <td>Male</td>\n",
       "      <td>73.847017</td>\n",
       "      <td>241.893563</td>\n",
       "    </tr>\n",
       "    <tr>\n",
       "      <th>1</th>\n",
       "      <td>Male</td>\n",
       "      <td>68.781904</td>\n",
       "      <td>162.310473</td>\n",
       "    </tr>\n",
       "    <tr>\n",
       "      <th>2</th>\n",
       "      <td>Male</td>\n",
       "      <td>74.110105</td>\n",
       "      <td>212.740856</td>\n",
       "    </tr>\n",
       "    <tr>\n",
       "      <th>3</th>\n",
       "      <td>Male</td>\n",
       "      <td>71.730978</td>\n",
       "      <td>220.042470</td>\n",
       "    </tr>\n",
       "    <tr>\n",
       "      <th>4</th>\n",
       "      <td>Male</td>\n",
       "      <td>69.881796</td>\n",
       "      <td>206.349801</td>\n",
       "    </tr>\n",
       "  </tbody>\n",
       "</table>\n",
       "</div>"
      ],
      "text/plain": [
       "  Gender     Height      Weight\n",
       "0   Male  73.847017  241.893563\n",
       "1   Male  68.781904  162.310473\n",
       "2   Male  74.110105  212.740856\n",
       "3   Male  71.730978  220.042470\n",
       "4   Male  69.881796  206.349801"
      ]
     },
     "execution_count": 32,
     "metadata": {},
     "output_type": "execute_result"
    }
   ],
   "source": [
    "dfh = fs.datasets.load_height_weight()\n",
    "dfh.head()"
   ]
  },
  {
   "cell_type": "markdown",
   "metadata": {
    "ExecuteTime": {
     "end_time": "2020-01-17T21:14:10.883191Z",
     "start_time": "2020-01-17T21:14:10.881053Z"
    }
   },
   "source": [
    "## Z-Scores"
   ]
  },
  {
   "cell_type": "code",
   "execution_count": 33,
   "metadata": {
    "ExecuteTime": {
     "end_time": "2020-08-07T16:54:19.708813Z",
     "start_time": "2020-08-07T16:54:19.140140Z"
    }
   },
   "outputs": [
    {
     "data": {
      "text/plain": [
       "array([[<AxesSubplot:title={'center':'Height'}>,\n",
       "        <AxesSubplot:title={'center':'Weight'}>]], dtype=object)"
      ]
     },
     "execution_count": 33,
     "metadata": {},
     "output_type": "execute_result"
    },
    {
     "data": {
      "image/png": "[encoded data removed]",
      "text/plain": [
       "<Figure size 720x360 with 2 Axes>"
      ]
     },
     "metadata": {},
     "output_type": "display_data"
    }
   ],
   "source": [
    "dfh.hist(bins='auto',figsize=(10,5))"
   ]
  },
  {
   "cell_type": "markdown",
   "metadata": {},
   "source": [
    "#### Z-score\n",
    "\n",
    "The standard score (more commonly referred to as a $z$-score) is a very useful statistic because it allows us to:\n",
    "1. Calculate the probability of a certain score occurring within a given normal distribution and \n",
    "2. Compare two scores that are from different normal distributions.\n",
    "\n",
    "Any normal distribution can be converted to a standard normal distribution and vice versa using this\n",
    "equation:\n",
    "\n",
    "$$\\Large z=\\frac{x-\\mu}{\\sigma}$$\n",
    "\n",
    "- where $x$ is an individual data point\n",
    "- $\\mu$ is the mean\n",
    "- $\\sigma$ is the standard deviation"
   ]
  },
  {
   "cell_type": "code",
   "execution_count": 34,
   "metadata": {
    "ExecuteTime": {
     "end_time": "2020-08-07T16:54:20.704548Z",
     "start_time": "2020-08-07T16:54:20.644030Z"
    }
   },
   "outputs": [],
   "source": [
    "dfh['HeightZ'] = (dfh[\"Height\"] - dfh['Height'].mean())/ dfh['Height'].std()\n",
    "dfh['WeightZ'] = (dfh[\"Weight\"] - dfh['Weight'].mean()) /dfh['Weight'].std()"
   ]
  },
  {
   "cell_type": "code",
   "execution_count": 35,
   "metadata": {
    "ExecuteTime": {
     "end_time": "2020-08-07T16:54:32.435883Z",
     "start_time": "2020-08-07T16:54:31.246171Z"
    }
   },
   "outputs": [
    {
     "data": {
      "text/plain": [
       "array([[<AxesSubplot:title={'center':'Height'}>,\n",
       "        <AxesSubplot:title={'center':'HeightZ'}>],\n",
       "       [<AxesSubplot:title={'center':'Weight'}>,\n",
       "        <AxesSubplot:title={'center':'WeightZ'}>]], dtype=object)"
      ]
     },
     "execution_count": 35,
     "metadata": {},
     "output_type": "execute_result"
    },
    {
     "data": {
      "image/png": "[encoded data removed]",
      "text/plain": [
       "<Figure size 864x720 with 4 Axes>"
      ]
     },
     "metadata": {},
     "output_type": "display_data"
    }
   ],
   "source": [
    "dfh.hist(figsize=(12,10),bins='auto')"
   ]
  },
  {
   "cell_type": "markdown",
   "metadata": {},
   "source": [
    "## Z-Scoring does not affect the data distribution, just standardizes units"
   ]
  },
  {
   "cell_type": "code",
   "execution_count": null,
   "metadata": {
    "ExecuteTime": {
     "end_time": "2020-01-17T21:13:23.273615Z",
     "start_time": "2020-01-17T21:13:22.915258Z"
    }
   },
   "outputs": [],
   "source": []
  },
  {
   "cell_type": "markdown",
   "metadata": {
    "colab_type": "text",
    "id": "-ryhenIMk2bH"
   },
   "source": [
    "# Statistical Testing with Z-scores and p-values"
   ]
  },
  {
   "cell_type": "markdown",
   "metadata": {},
   "source": [
    "- Once data is standardized, can start answering questions about population membership usint $Z$-Tests"
   ]
  },
  {
   "cell_type": "markdown",
   "metadata": {
    "colab_type": "text",
    "id": "tTSol_nkk5LW"
   },
   "source": [
    "### Population vs Sample\n",
    "<img src=\"https://raw.githubusercontent.com/jirvingphd/dsc-z-score-p-value-online-ds-ft-100719/master/images/sample.png\" width=40%>\n",
    "\n",
    "\n",
    ">A **population** is the collection of **all the items of interest in a study**. The numbers you obtain when using a population are called **parameters**.\n",
    "\n",
    "> A **sample** is a **subset of the population**. The numbers you obtain when working with a sample are called **statistics**.\n",
    "\n"
   ]
  },
  {
   "cell_type": "markdown",
   "metadata": {
    "colab_type": "text",
    "id": "SkL-KNS2rPGd"
   },
   "source": [
    "## What Are Hypotheses ?\n",
    "\n",
    "- Null Hypothesis: $H_0$ there is no relationship / the samples come from the same population.\n",
    "\n",
    "- Alternative: $H_A$/$H_1$ there is a relationship / the samples DO NOT come from same distribution\n"
   ]
  },
  {
   "cell_type": "markdown",
   "metadata": {
    "colab_type": "text",
    "id": "TCgnbI1hrRIz"
   },
   "source": [
    " ### $\\large \\alpha$= 0.05\n",
    "\n",
    "\n",
    "- What does it mean?\n",
    "    - cutoff for judging whether our sample is \"significantly\" different than the population.\n",
    "    - % chance that you would observe this sample from your population dataset\n",
    "\n",
    "\n",
    "\n"
   ]
  },
  {
   "cell_type": "code",
   "execution_count": null,
   "metadata": {
    "ExecuteTime": {
     "end_time": "2020-08-07T16:57:04.161521Z",
     "start_time": "2020-08-07T16:57:03.812853Z"
    }
   },
   "outputs": [],
   "source": [
    "ax = dfh['Height'].hist(bins='auto',figsize=(10,5))\n",
    "meanH = dfh['Height'].mean()\n",
    "stdH = dfh[\"Height\"].std()\n",
    "\n",
    "ax.axvline(meanH,c='k')\n",
    "fig =ax.get_figure()"
   ]
  },
  {
   "cell_type": "code",
   "execution_count": null,
   "metadata": {
    "ExecuteTime": {
     "end_time": "2020-08-07T16:57:18.044622Z",
     "start_time": "2020-08-07T16:57:17.747724Z"
    }
   },
   "outputs": [],
   "source": [
    "potential_alien_lifeform = 77#height\n",
    "ax.axvline(potential_alien_lifeform,color='red')\n",
    "fig"
   ]
  },
  {
   "cell_type": "markdown",
   "metadata": {},
   "source": [
    "H0 =  The lifeform's height comes from the human population. \n",
    "\n",
    "H1 = The lifesform's height is significantly different than humans. (its from another population)."
   ]
  },
  {
   "cell_type": "code",
   "execution_count": null,
   "metadata": {
    "ExecuteTime": {
     "end_time": "2020-08-07T16:58:15.531626Z",
     "start_time": "2020-08-07T16:58:15.479533Z"
    }
   },
   "outputs": [],
   "source": [
    "dfh['HeightZ'] = (dfh[\"Height\"] - dfh['Height'].mean())/ dfh['Height'].std()\n",
    "z_alien = (potential_alien_lifeform - meanH) /stdH\n",
    "z_alien"
   ]
  },
  {
   "cell_type": "markdown",
   "metadata": {
    "colab_type": "text",
    "id": "kWuQRi1xlBH8"
   },
   "source": [
    "### One-Sample $z$-test\n",
    "\n",
    "> **The one-sample $z$-test is used only for tests related to the sample mean.** \n",
    "<img src=\"https://raw.githubusercontent.com/learn-co-students/dsc-z-score-p-value-online-ds-pt-100719/master/images/pvalue.png\" width=70%>\n",
    "\n",
    "\n",
    "<!---<img src=\"https://raw.githubusercontent.com/jirvingphd/dsc-z-score-p-value-online-ds-ft-100719/master/images/cumprob2.png\" width=400--->"
   ]
  },
  {
   "cell_type": "code",
   "execution_count": null,
   "metadata": {
    "ExecuteTime": {
     "end_time": "2020-08-07T16:58:15.862939Z",
     "start_time": "2020-08-07T16:58:15.803766Z"
    }
   },
   "outputs": [],
   "source": [
    "alpha=0.05\n",
    "1 - stats.norm.cdf(z_alien)"
   ]
  },
  {
   "cell_type": "markdown",
   "metadata": {},
   "source": [
    "# Additional Resources"
   ]
  },
  {
   "cell_type": "markdown",
   "metadata": {},
   "source": [
    "THERE ARE SO MANY.\n",
    "\n",
    "- [This YouTube explainer from ZedStatistics, on Probability Distribution Functions](https://www.youtube.com/watch?v=YXLVjCKVP7U)\n",
    "- [This DataCamp tutorial walks through many more distribution examples in Python](https://www.datacamp.com/community/tutorials/probability-distributions-python)"
   ]
  },
  {
   "cell_type": "markdown",
   "metadata": {},
   "source": [
    "# END OF 08/07 STUDY GROUP"
   ]
  },
  {
   "cell_type": "markdown",
   "metadata": {
    "colab_type": "text",
    "id": "yS5r2H5ZrRGf"
   },
   "source": [
    "\n",
    "\n",
    "| Set     | $H_0   $    | $H_a$ | Tails |\n",
    "|---------|-------|-------|-------|\n",
    "|<img width=30/>|<img width=100/>|<img width=100/>|<img width=50/>|\n",
    "| 1  | $\\mu= M $ |$\\mu \\neq M $ | 2  | \n",
    "| 2  | $\\mu \\geq M $ |$\\mu < M $ | 1  | \n",
    "| 3  | $\\mu \\leq M $ |$\\mu > M $ | 1  | \n"
   ]
  },
  {
   "cell_type": "markdown",
   "metadata": {
    "colab_type": "text",
    "id": "SYIeSr6qKrZL"
   },
   "source": [
    "## Distribution Characteristics\n"
   ]
  },
  {
   "cell_type": "markdown",
   "metadata": {
    "colab_type": "text",
    "id": "IwdzyXccLSr5"
   },
   "source": [
    "#### Skewness"
   ]
  },
  {
   "cell_type": "markdown",
   "metadata": {
    "colab_type": "text",
    "id": "hdzJUmM7w3Id"
   },
   "source": [
    "- Symmetrical distribution: skewness = 0\n",
    "- **Fisher-Pearson Coefficient of skewess:**\n",
    "\n",
    "$$∑ N_{i=1} \\frac{{(Yi−\\bar{Y})}^3}{N} / {\\sigma^3}$$\n",
    "\n",
    "- Rules of thumb\n",
    "    - Symmetrical-ish: -0.5 to +.05\n",
    "    - Moderate Skew:\n",
    "        - Negative skew: -1 to -0.5\n",
    "        - Positive skew: +0.5 to +1\n",
    "    - Highly skewed:\n",
    "        - Less than -1\n",
    "        - Greater than +1\n",
    "    \n",
    "\n",
    "<img src=\"https://www.dropbox.com/s/mqr3kux0caa64nk/skew1.jpeg?raw=1\">\n",
    "\n"
   ]
  },
  {
   "cell_type": "markdown",
   "metadata": {
    "colab_type": "text",
    "id": "Xu0dG_lUGbqH"
   },
   "source": [
    "#### Kurtosis \n"
   ]
  },
  {
   "cell_type": "markdown",
   "metadata": {
    "colab_type": "text",
    "id": "n0AmvnjFGabL"
   },
   "source": [
    "\n",
    "\n",
    "- Lengths of tails of distribution to describe extreme values (outliers)\n",
    "- Univariate kurtosis:\n",
    "$$\\Sigma N_{i=1} \\frac{{(Yi−\\bar{Y})}^4}{N} / {\\sigma^4}$$\n",
    "\n",
    "- **Mesokurtic:**\n",
    "    - Kurtosis similar to standard normal distribution\n",
    "- **Leptokurtic (Kurtosis >3)**\n",
    "    - Tails are fatter, peak is higher sharper\n",
    "    - Data are heavy-tailed or many outliers\n",
    "- **Platykurtic: (Kurtosis < 3)**\n",
    "    - Shorter peak, tails are thinner than the normal distribution. \n",
    "    - Data are light-tailed or lack of outliers vs normal dist\n",
    "<img src=\"https://www.dropbox.com/s/5ynsy7vkb196ilb/kurt2.jpg?raw=1\" width=300>"
   ]
  },
  {
   "cell_type": "markdown",
   "metadata": {},
   "source": [
    "# APPENDIX "
   ]
  },
  {
   "cell_type": "markdown",
   "metadata": {
    "colab_type": "text",
    "id": "7FJR0eVD5To5"
   },
   "source": [
    "## Continuous Distributions\n"
   ]
  },
  {
   "cell_type": "markdown",
   "metadata": {
    "colab_type": "text",
    "id": "my6nq08UHQgH"
   },
   "source": [
    "#### Normal Distribution"
   ]
  },
  {
   "cell_type": "markdown",
   "metadata": {
    "colab_type": "text",
    "id": "0nqjN81iHS0C"
   },
   "source": [
    "\n",
    "- Key characteristics of the normal distribution:\n",
    "    * Normal distributions are symmetric around their mean.\n",
    "    * mean = median = and mode of a normal \n",
    "    * area under curve is equal to 1.0\n",
    "    * denser in the center and less dense in the tails\n",
    "    * defined by two parameters, the mean ($\\mu$) and the standard deviation ($\\sigma$).\n",
    "    \n",
    "\n",
    "<center><img src=\"https://raw.githubusercontent.com/jirvingphd/dsc-normal-distribution-online-ds-ft-100719/master/images/normal_sd_new.png\" width=600></center>\n",
    "\n",
    "\n",
    "* Around 68% of the area of a normal distribution is within _one standard deviation_ of the mean \n",
    "($(\\mu-\\sigma)$ to $(\\mu + \\sigma)$)\n",
    "* Approximately 95% of the area of a normal distribution is within two standard deviations of the mean ($(\\mu-2\\sigma)$ to $(\\mu + 2\\sigma)$).\n",
    "\n",
    "\n",
    "\n",
    "\n",
    "##### Normal Density Function\n",
    "- Density of normal distribution for given value of x\n",
    "- Can describe from its center and spread\n",
    "$$y = \\frac{1}{\\sigma \\sqrt{2}{2\\pi}}e^{\\frac{{(x -\\mu)}{^2}}{2 \\sigma ^{2}}}$$\n",
    "- $\\mu$ = mean\n",
    "- $\\sigma$ = standard deviation\n",
    "- $\\pi \\approx 3.14159$\n",
    "- $e \\approx 2.71828$\n"
   ]
  },
  {
   "cell_type": "code",
   "execution_count": 16,
   "metadata": {
    "ExecuteTime": {
     "end_time": "2020-08-07T15:55:12.798287Z",
     "start_time": "2020-08-07T15:55:12.536320Z"
    },
    "colab": {
     "base_uri": "https://localhost:8080/",
     "height": 350
    },
    "colab_type": "code",
    "id": "nbUIZDiLIRaC",
    "outputId": "dcb94576-6039-42fe-a3e3-b32330f48b3f"
   },
   "outputs": [
    {
     "name": "stderr",
     "output_type": "stream",
     "text": [
      "/opt/anaconda3/envs/learn-env/lib/python3.6/site-packages/seaborn/distributions.py:2551: FutureWarning:\n",
      "\n",
      "`distplot` is a deprecated function and will be removed in a future version. Please adapt your code to use either `displot` (a figure-level function with similar flexibility) or `histplot` (an axes-level function for histograms).\n",
      "\n"
     ]
    },
    {
     "data": {
      "image/png": "[encoded data removed]",
      "text/plain": [
       "<Figure size 432x288 with 1 Axes>"
      ]
     },
     "metadata": {},
     "output_type": "display_data"
    }
   ],
   "source": [
    "import numpy as np\n",
    "import seaborn as sns\n",
    "\n",
    "mu, sigma = 0.5, 0.1\n",
    "n = 1000\n",
    "s = np.random.normal(mu, sigma, n)\n",
    "sns.distplot(s);"
   ]
  },
  {
   "cell_type": "markdown",
   "metadata": {
    "colab_type": "text",
    "id": "E7L6Gj7MIgWX"
   },
   "source": [
    "#### Standardized Normal Distribution"
   ]
  },
  {
   "cell_type": "markdown",
   "metadata": {
    "colab_type": "text",
    "id": "QeixDqsqIuRZ"
   },
   "source": [
    "\n",
    "#### Z-score\n",
    "\n",
    "The standard score (more commonly referred to as a $z$-score) is a very useful statistic because it allows us to:\n",
    "1. Calculate the probability of a certain score occurring within a given normal distribution and \n",
    "2. Compare two scores that are from different normal distributions.\n",
    "\n",
    "Any normal distribution can be converted to a standard normal distribution and vice versa using this\n",
    "equation:\n",
    "\n",
    "$$\\Large z=\\dfrac{x-\\mu}{\\sigma}$$\n",
    "\n",
    "- where $x$ is an individual data point\n",
    "- $\\mu$ is the mean\n",
    "- $\\sigma$ is the standard deviation\n",
    "\n",
    "\n",
    "\n",
    "<center><img src=\"https://raw.githubusercontent.com/jirvingphd/dsc-standard-normal-distribution-online-ds-ft-100719/master/images/snorm.png\" width=500></center>\n",
    "\n",
    "<center><img src=\"https://raw.githubusercontent.com/jirvingphd/dsc-standard-normal-distribution-online-ds-ft-100719/master/images/cdf_stnormal.png\" width=500></center>"
   ]
  },
  {
   "cell_type": "code",
   "execution_count": 36,
   "metadata": {
    "ExecuteTime": {
     "end_time": "2020-08-07T15:55:13.407139Z",
     "start_time": "2020-08-07T15:55:12.799684Z"
    },
    "colab": {
     "base_uri": "https://localhost:8080/",
     "height": 286
    },
    "colab_type": "code",
    "id": "UHwuRJFZIRXL",
    "outputId": "e297aaeb-1399-4386-94a6-90ba53e618f8",
    "scrolled": true
   },
   "outputs": [
    {
     "name": "stderr",
     "output_type": "stream",
     "text": [
      "/opt/anaconda3/envs/learn-env/lib/python3.6/site-packages/seaborn/distributions.py:2551: FutureWarning:\n",
      "\n",
      "`distplot` is a deprecated function and will be removed in a future version. Please adapt your code to use either `displot` (a figure-level function with similar flexibility) or `histplot` (an axes-level function for histograms).\n",
      "\n",
      "/opt/anaconda3/envs/learn-env/lib/python3.6/site-packages/seaborn/distributions.py:2551: FutureWarning:\n",
      "\n",
      "`distplot` is a deprecated function and will be removed in a future version. Please adapt your code to use either `displot` (a figure-level function with similar flexibility) or `histplot` (an axes-level function for histograms).\n",
      "\n",
      "/opt/anaconda3/envs/learn-env/lib/python3.6/site-packages/seaborn/distributions.py:2551: FutureWarning:\n",
      "\n",
      "`distplot` is a deprecated function and will be removed in a future version. Please adapt your code to use either `displot` (a figure-level function with similar flexibility) or `histplot` (an axes-level function for histograms).\n",
      "\n",
      "/opt/anaconda3/envs/learn-env/lib/python3.6/site-packages/seaborn/distributions.py:2551: FutureWarning:\n",
      "\n",
      "`distplot` is a deprecated function and will be removed in a future version. Please adapt your code to use either `displot` (a figure-level function with similar flexibility) or `histplot` (an axes-level function for histograms).\n",
      "\n"
     ]
    },
    {
     "data": {
      "image/png": "[encoded data removed]",
      "text/plain": [
       "<Figure size 720x288 with 2 Axes>"
      ]
     },
     "metadata": {},
     "output_type": "display_data"
    }
   ],
   "source": [
    "import numpy as np\n",
    "import seaborn as sns\n",
    "\n",
    "fig,ax= plt.subplots(ncols=2, figsize=(10,4))\n",
    "mean1, sd1 = 5, 3 # dist 1 \n",
    "mean2, sd2 = 10, 2 # dist 2 \n",
    "d1 = np.random.normal(mean1, sd1, 1000)\n",
    "d2 = np.random.normal(mean2, sd2, 1000)\n",
    "\n",
    "ax[0].set_title('Raw')\n",
    "sns.distplot(d1,ax=ax[0]);\n",
    "sns.distplot(d2,ax=ax[0]);\n",
    "\n",
    "ax[1].set_title('Standardized')\n",
    "sns.distplot([(x - d1.mean())/d1.std() for x in d1],ax=ax[1]);\n",
    "sns.distplot([(x - d2.mean())/d2.std() for x in d2], ax=ax[1]);"
   ]
  },
  {
   "cell_type": "code",
   "execution_count": null,
   "metadata": {},
   "outputs": [],
   "source": []
  }
 ],
 "metadata": {
  "colab": {
   "collapsed_sections": [
    "PC2iFgJs_72o",
    "g32tGx6D7LrQ",
    "vVeQeIwmAsxc",
    "t4afuY15w3Ia",
    "SYIeSr6qKrZL",
    "Xu0dG_lUGbqH",
    "cJFvHhbFLX57",
    "AwWWOENu4ewY",
    "AFjho9kM4etn",
    "BUQmDaBO8Zun",
    "lF_Nm7GL8nY8",
    "YyPLU2fow3Ie",
    "rNLT8dc0w3If",
    "I8np5K5-w3Ik",
    "rhPYaRHLw3Il",
    "k64fB1ERw3Il",
    "dqBG210rw3Iq",
    "CnuN9U_Dw3Iw",
    "XtsXDMrHw3Iw",
    "NbrX3dQtw3Ix",
    "NulmOmJoaIBB",
    "p8Hkw-0YQuR1"
   ],
   "name": "Flatiron Bootcamp V2 Notes - Mod 3.ipynb",
   "provenance": []
  },
  "kernelspec": {
   "display_name": "learn-env",
   "language": "python",
   "name": "learn-env"
  },
  "language_info": {
   "codemirror_mode": {
    "name": "ipython",
    "version": 3
   },
   "file_extension": ".py",
   "mimetype": "text/x-python",
   "name": "python",
   "nbconvert_exporter": "python",
   "pygments_lexer": "ipython3",
   "version": "3.6.11"
  },
  "toc": {
   "base_numbering": 1,
   "nav_menu": {},
   "number_sections": false,
   "sideBar": true,
   "skip_h1_title": false,
   "title_cell": "Table of Contents",
   "title_sidebar": "Contents",
   "toc_cell": false,
   "toc_position": {
    "height": "calc(100% - 180px)",
    "left": "10px",
    "top": "150px",
    "width": "255.994px"
   },
   "toc_section_display": true,
   "toc_window_display": true
  },
  "varInspector": {
   "cols": {
    "lenName": 16,
    "lenType": 16,
    "lenVar": 40
   },
   "kernels_config": {
    "python": {
     "delete_cmd_postfix": "",
     "delete_cmd_prefix": "del ",
     "library": "var_list.py",
     "varRefreshCmd": "print(var_dic_list())"
    },
    "r": {
     "delete_cmd_postfix": ") ",
     "delete_cmd_prefix": "rm(",
     "library": "var_list.r",
     "varRefreshCmd": "cat(var_dic_list()) "
    }
   },
   "types_to_exclude": [
    "module",
    "function",
    "builtin_function_or_method",
    "instance",
    "_Feature"
   ],
   "window_display": false
  }
 },
 "nbformat": 4,
 "nbformat_minor": 1
}
