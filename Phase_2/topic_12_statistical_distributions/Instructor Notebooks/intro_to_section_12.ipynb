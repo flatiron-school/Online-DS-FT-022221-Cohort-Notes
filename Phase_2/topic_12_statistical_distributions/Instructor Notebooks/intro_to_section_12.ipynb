{
 "cells": [
  {
   "cell_type": "markdown",
   "metadata": {},
   "source": [
    "# Intro to Section 12 - Statistical Distributions "
   ]
  },
  {
   "cell_type": "markdown",
   "metadata": {},
   "source": [
    "- Final 10 mins of 08/06/20 study group"
   ]
  },
  {
   "cell_type": "markdown",
   "metadata": {},
   "source": [
    "\n",
    "> #### Law of relative frequency\n",
    "- Limit of large infinite outcomes produce fixed numbers .\n",
    "$$ \\large P(E) = \\lim_{n\\to\\infty}\\frac{S(n)}{n}$$\n",
    "    - Probability of Event E having Successful(S) outcomes for $n$ trials\n",
    "    "
   ]
  },
  {
   "cell_type": "markdown",
   "metadata": {},
   "source": [
    "- Statistical Distributions are directly related to probability, as repeated probability experiments results will form a distribution with repeated trials."
   ]
  },
  {
   "cell_type": "code",
   "execution_count": 18,
   "metadata": {
    "ExecuteTime": {
     "end_time": "2020-08-06T16:53:02.576647Z",
     "start_time": "2020-08-06T16:53:02.574055Z"
    }
   },
   "outputs": [],
   "source": [
    "from fsds.imports import *"
   ]
  },
  {
   "cell_type": "markdown",
   "metadata": {
    "ExecuteTime": {
     "end_time": "2020-01-09T22:23:40.299352Z",
     "start_time": "2020-01-09T22:23:40.296088Z"
    }
   },
   "source": [
    "# Experiment - Flipping a coin"
   ]
  },
  {
   "cell_type": "code",
   "execution_count": 19,
   "metadata": {
    "ExecuteTime": {
     "end_time": "2020-08-06T16:53:16.998369Z",
     "start_time": "2020-08-06T16:53:16.994924Z"
    }
   },
   "outputs": [
    {
     "data": {
      "text/plain": [
       "0.5"
      ]
     },
     "execution_count": 19,
     "metadata": {},
     "output_type": "execute_result"
    }
   ],
   "source": [
    "from collections import Counter\n",
    "np.random.seed(3210)\n",
    "\n",
    "p_heads = 0.5\n",
    "p_heads"
   ]
  },
  {
   "cell_type": "code",
   "execution_count": 20,
   "metadata": {
    "ExecuteTime": {
     "end_time": "2020-08-06T16:53:29.693843Z",
     "start_time": "2020-08-06T16:53:29.689208Z"
    }
   },
   "outputs": [
    {
     "name": "stdout",
     "output_type": "stream",
     "text": [
      "0.4486989410504155\n"
     ]
    },
    {
     "data": {
      "text/plain": [
       "'T'"
      ]
     },
     "execution_count": 20,
     "metadata": {},
     "output_type": "execute_result"
    }
   ],
   "source": [
    "i = np.random.rand()\n",
    "print(i)\n",
    "\n",
    "res = 'H' if i >=  p_heads else 'T'\n",
    "res"
   ]
  },
  {
   "cell_type": "code",
   "execution_count": 21,
   "metadata": {
    "ExecuteTime": {
     "end_time": "2020-08-06T16:53:44.650639Z",
     "start_time": "2020-08-06T16:53:44.646154Z"
    }
   },
   "outputs": [],
   "source": [
    "def coin_toss(n_flips = 2,results=None,verbose=True,p=0.5):\n",
    "    \n",
    "    if results is None:\n",
    "        coin_flips=[]\n",
    "    else:\n",
    "        coin_flips = results.copy()\n",
    "        \n",
    "    for n in range(n_flips):\n",
    "        i = np.random.rand()\n",
    "        res = 'H' if i >= p else 'T'\n",
    "        coin_flips.append(res)\n",
    "\n",
    "        if verbose: \n",
    "            print(f\"Toss {n+1}:   {res}\")\n",
    "    \n",
    "    return coin_flips"
   ]
  },
  {
   "cell_type": "code",
   "execution_count": 22,
   "metadata": {
    "ExecuteTime": {
     "end_time": "2020-08-06T16:53:45.238157Z",
     "start_time": "2020-08-06T16:53:45.232916Z"
    }
   },
   "outputs": [
    {
     "data": {
      "text/plain": [
       "['T', 'T', 'H', 'H', 'T', 'T', 'H']"
      ]
     },
     "execution_count": 22,
     "metadata": {},
     "output_type": "execute_result"
    }
   ],
   "source": [
    "results = coin_toss(n_flips=7,verbose=False)#,results=None)\n",
    "results"
   ]
  },
  {
   "cell_type": "code",
   "execution_count": 23,
   "metadata": {
    "ExecuteTime": {
     "end_time": "2020-08-06T16:53:49.643145Z",
     "start_time": "2020-08-06T16:53:49.639265Z"
    }
   },
   "outputs": [],
   "source": [
    "def plot_counts(results):\n",
    "    counter = Counter(results)\n",
    "    x = list(counter.keys())\n",
    "    y = list(counter.values()) \n",
    "    plt.ylabel('# of Outcomes')\n",
    "    plt.xlabel('Outcome')\n",
    "    plt.bar(x,y)\n",
    "    plt.title(f\"Results of {np.sum(y)} Trials\")"
   ]
  },
  {
   "cell_type": "code",
   "execution_count": 24,
   "metadata": {
    "ExecuteTime": {
     "end_time": "2020-08-06T16:53:50.079576Z",
     "start_time": "2020-08-06T16:53:49.907189Z"
    }
   },
   "outputs": [
    {
     "data": {
      "image/png": "[encoded data removed]",
      "text/plain": [
       "<Figure size 432x288 with 1 Axes>"
      ]
     },
     "metadata": {
      "needs_background": "light"
     },
     "output_type": "display_data"
    }
   ],
   "source": [
    "plot_counts(results)"
   ]
  },
  {
   "cell_type": "code",
   "execution_count": 25,
   "metadata": {
    "ExecuteTime": {
     "end_time": "2020-08-06T16:54:04.568944Z",
     "start_time": "2020-08-06T16:54:04.397653Z"
    }
   },
   "outputs": [
    {
     "data": {
      "image/png": "[encoded data removed]",
      "text/plain": [
       "<Figure size 432x288 with 1 Axes>"
      ]
     },
     "metadata": {
      "needs_background": "light"
     },
     "output_type": "display_data"
    }
   ],
   "source": [
    "results = coin_toss(n_flips=11,verbose=False)#,results=None)\n",
    "plot_counts(results)\n"
   ]
  },
  {
   "cell_type": "code",
   "execution_count": 30,
   "metadata": {
    "ExecuteTime": {
     "end_time": "2020-08-06T16:54:57.121960Z",
     "start_time": "2020-08-06T16:54:57.114885Z"
    }
   },
   "outputs": [
    {
     "data": {
      "text/plain": [
       "['T',\n",
       " 'H',\n",
       " 'T',\n",
       " 'T',\n",
       " 'T',\n",
       " 'T',\n",
       " 'T',\n",
       " 'H',\n",
       " 'H',\n",
       " 'T',\n",
       " 'H',\n",
       " 'H',\n",
       " 'T',\n",
       " 'T',\n",
       " 'H',\n",
       " 'T',\n",
       " 'T',\n",
       " 'T',\n",
       " 'H',\n",
       " 'H',\n",
       " 'H',\n",
       " 'T',\n",
       " 'H',\n",
       " 'H',\n",
       " 'T',\n",
       " 'H',\n",
       " 'T',\n",
       " 'H',\n",
       " 'T',\n",
       " 'T',\n",
       " 'H',\n",
       " 'H',\n",
       " 'H',\n",
       " 'T',\n",
       " 'T',\n",
       " 'H',\n",
       " 'H',\n",
       " 'H',\n",
       " 'T',\n",
       " 'H',\n",
       " 'H',\n",
       " 'H',\n",
       " 'T',\n",
       " 'H',\n",
       " 'T',\n",
       " 'T',\n",
       " 'T',\n",
       " 'H',\n",
       " 'T',\n",
       " 'H',\n",
       " 'T',\n",
       " 'T',\n",
       " 'T',\n",
       " 'H',\n",
       " 'T',\n",
       " 'H',\n",
       " 'H',\n",
       " 'H',\n",
       " 'H',\n",
       " 'T',\n",
       " 'H',\n",
       " 'H',\n",
       " 'T',\n",
       " 'H',\n",
       " 'H',\n",
       " 'T',\n",
       " 'T',\n",
       " 'T',\n",
       " 'T',\n",
       " 'T',\n",
       " 'T',\n",
       " 'T',\n",
       " 'H',\n",
       " 'T',\n",
       " 'T',\n",
       " 'T',\n",
       " 'H',\n",
       " 'H',\n",
       " 'T',\n",
       " 'T',\n",
       " 'H',\n",
       " 'T',\n",
       " 'T',\n",
       " 'H',\n",
       " 'H',\n",
       " 'T',\n",
       " 'H',\n",
       " 'H',\n",
       " 'T',\n",
       " 'T',\n",
       " 'H',\n",
       " 'H',\n",
       " 'H',\n",
       " 'H',\n",
       " 'H',\n",
       " 'H',\n",
       " 'H',\n",
       " 'T',\n",
       " 'T',\n",
       " 'T',\n",
       " 'T',\n",
       " 'T',\n",
       " 'H',\n",
       " 'H',\n",
       " 'T',\n",
       " 'T',\n",
       " 'T',\n",
       " 'T',\n",
       " 'T',\n",
       " 'T',\n",
       " 'T',\n",
       " 'H',\n",
       " 'H',\n",
       " 'T',\n",
       " 'H',\n",
       " 'T',\n",
       " 'H',\n",
       " 'H',\n",
       " 'T',\n",
       " 'H',\n",
       " 'H',\n",
       " 'T',\n",
       " 'H',\n",
       " 'H',\n",
       " 'T',\n",
       " 'H',\n",
       " 'T',\n",
       " 'H',\n",
       " 'T',\n",
       " 'T',\n",
       " 'T',\n",
       " 'T',\n",
       " 'H',\n",
       " 'T',\n",
       " 'H',\n",
       " 'H',\n",
       " 'T',\n",
       " 'H',\n",
       " 'T',\n",
       " 'H',\n",
       " 'T',\n",
       " 'T',\n",
       " 'H',\n",
       " 'T',\n",
       " 'T',\n",
       " 'T',\n",
       " 'T',\n",
       " 'H',\n",
       " 'H',\n",
       " 'H',\n",
       " 'H',\n",
       " 'T',\n",
       " 'T',\n",
       " 'H',\n",
       " 'T',\n",
       " 'T',\n",
       " 'T',\n",
       " 'T',\n",
       " 'T',\n",
       " 'T',\n",
       " 'H',\n",
       " 'H',\n",
       " 'T',\n",
       " 'T',\n",
       " 'H',\n",
       " 'T',\n",
       " 'T',\n",
       " 'H',\n",
       " 'H',\n",
       " 'H',\n",
       " 'H',\n",
       " 'H',\n",
       " 'T',\n",
       " 'H',\n",
       " 'T',\n",
       " 'H',\n",
       " 'H',\n",
       " 'H',\n",
       " 'H',\n",
       " 'T',\n",
       " 'H',\n",
       " 'T',\n",
       " 'H',\n",
       " 'H',\n",
       " 'T',\n",
       " 'T',\n",
       " 'T',\n",
       " 'T',\n",
       " 'T',\n",
       " 'H',\n",
       " 'H',\n",
       " 'T',\n",
       " 'T',\n",
       " 'H',\n",
       " 'H',\n",
       " 'T',\n",
       " 'T',\n",
       " 'H',\n",
       " 'T',\n",
       " 'H']"
      ]
     },
     "execution_count": 30,
     "metadata": {},
     "output_type": "execute_result"
    }
   ],
   "source": [
    "res = coin_toss(n_flips=200,verbose=False)\n",
    "res"
   ]
  },
  {
   "cell_type": "code",
   "execution_count": 32,
   "metadata": {
    "ExecuteTime": {
     "end_time": "2020-08-06T16:55:18.915509Z",
     "start_time": "2020-08-06T16:55:18.911906Z"
    }
   },
   "outputs": [
    {
     "data": {
      "text/plain": [
       "Counter({'T': 105, 'H': 95})"
      ]
     },
     "execution_count": 32,
     "metadata": {},
     "output_type": "execute_result"
    }
   ],
   "source": [
    "from collections import Counter\n",
    "counter = Counter(res)\n",
    "counter"
   ]
  },
  {
   "cell_type": "markdown",
   "metadata": {},
   "source": [
    "## Probability Mass Function (AKA Probability Distribution Function)"
   ]
  },
  {
   "cell_type": "markdown",
   "metadata": {},
   "source": [
    "<img src=\"https://raw.githubusercontent.com/jirvingphd/fsds_100719_cohort_notes/master/Flashcards/Probability_Mass_Function_web.png\">"
   ]
  },
  {
   "cell_type": "code",
   "execution_count": 34,
   "metadata": {
    "ExecuteTime": {
     "end_time": "2020-08-06T16:57:10.043913Z",
     "start_time": "2020-08-06T16:57:09.867228Z"
    }
   },
   "outputs": [
    {
     "data": {
      "text/plain": [
       "[Text(0, 0.5, 'Count'), Text(0.5, 1.0, 'Histogram')]"
      ]
     },
     "execution_count": 34,
     "metadata": {},
     "output_type": "execute_result"
    },
    {
     "data": {
      "image/png": "[encoded data removed]",
      "text/plain": [
       "<Figure size 432x288 with 1 Axes>"
      ]
     },
     "metadata": {
      "needs_background": "light"
     },
     "output_type": "display_data"
    }
   ],
   "source": [
    "results_df = pd.DataFrame({'results':results,'trial #':range(1,len(results)+1)})\n",
    "\n",
    "\n",
    "ax  = results_df['results'].value_counts().plot(kind='bar',rot=0)\n",
    "ax.set(ylabel='Count',title='Histogram')"
   ]
  },
  {
   "cell_type": "code",
   "execution_count": 35,
   "metadata": {
    "ExecuteTime": {
     "end_time": "2020-08-06T16:57:15.620816Z",
     "start_time": "2020-08-06T16:57:15.448483Z"
    }
   },
   "outputs": [
    {
     "data": {
      "text/plain": [
       "[Text(0, 0.5, 'Probability'),\n",
       " Text(0.5, 1.0, 'Probability Mass Function (PMF)')]"
      ]
     },
     "execution_count": 35,
     "metadata": {},
     "output_type": "execute_result"
    },
    {
     "data": {
      "image/png": "[encoded data removed]",
      "text/plain": [
       "<Figure size 432x288 with 1 Axes>"
      ]
     },
     "metadata": {
      "needs_background": "light"
     },
     "output_type": "display_data"
    }
   ],
   "source": [
    "ax = results_df['results'].value_counts(normalize=True).plot(kind='bar')\n",
    "ax.set(ylabel='Probability',title='Probability Mass Function (PMF)')"
   ]
  },
  {
   "cell_type": "code",
   "execution_count": 36,
   "metadata": {
    "ExecuteTime": {
     "end_time": "2020-08-06T16:57:59.107365Z",
     "start_time": "2020-08-06T16:57:59.100236Z"
    }
   },
   "outputs": [],
   "source": [
    "def compare_results(results):\n",
    "    fig,ax = plt.subplots(ncols=2,figsize=(8,4))\n",
    "    results_df = pd.DataFrame({'results':results,\n",
    "                               'trial #':range(1,len(results)+1)})\n",
    "    \n",
    "    results_df['results'].value_counts().plot(kind='bar',rot=0,ax=ax[0])\n",
    "    ax[0].set(ylabel='Count',title='Histogram')\n",
    "    \n",
    "    results_df['results'].value_counts(normalize=True).plot(kind='bar',\n",
    "                                                            rot=0,\n",
    "                                                            ax=ax[1],\n",
    "                                                           color='g')\n",
    "    ax[1].set(ylabel='Probability',title='Probability Mass Function (PMF)')\n",
    "    plt.suptitle(f'Histogram vs PMF for {len(results_df)} trials')\n",
    "    fig.tight_layout()\n",
    "    return fig, ax"
   ]
  },
  {
   "cell_type": "code",
   "execution_count": 37,
   "metadata": {
    "ExecuteTime": {
     "end_time": "2020-08-06T16:58:01.776291Z",
     "start_time": "2020-08-06T16:58:01.444300Z"
    }
   },
   "outputs": [
    {
     "data": {
      "text/plain": [
       "(<Figure size 576x288 with 2 Axes>,\n",
       " array([<AxesSubplot:title={'center':'Histogram'}, ylabel='Count'>,\n",
       "        <AxesSubplot:title={'center':'Probability Mass Function (PMF)'}, ylabel='Probability'>],\n",
       "       dtype=object))"
      ]
     },
     "execution_count": 37,
     "metadata": {},
     "output_type": "execute_result"
    },
    {
     "data": {
      "image/png": "[encoded data removed]",
      "text/plain": [
       "<Figure size 576x288 with 2 Axes>"
      ]
     },
     "metadata": {
      "needs_background": "light"
     },
     "output_type": "display_data"
    }
   ],
   "source": [
    "compare_results(results)"
   ]
  },
  {
   "cell_type": "code",
   "execution_count": 13,
   "metadata": {
    "ExecuteTime": {
     "end_time": "2020-08-06T15:49:16.066182Z",
     "start_time": "2020-08-06T15:49:16.064394Z"
    }
   },
   "outputs": [],
   "source": [
    "# def calc_pmf(outcomes):\n",
    "    \n",
    "#     pmf = [] \n",
    "#     counter= Counter(outcomes)\n",
    "    \n",
    "#     for k,v in counter.items():\n",
    "#         pmf.append(round(v/len(outcomes),2))\n",
    "#     return pmf\n",
    "\n",
    "# def plot_pmf(counter,pmf):\n",
    "#     plt.bar(counter.keys(), pmf);\n",
    "#     plt.title(\"A Probability Mass Function\");"
   ]
  },
  {
   "cell_type": "code",
   "execution_count": 14,
   "metadata": {
    "ExecuteTime": {
     "end_time": "2020-08-06T15:49:16.317080Z",
     "start_time": "2020-08-06T15:49:16.067714Z"
    }
   },
   "outputs": [
    {
     "name": "stdout",
     "output_type": "stream",
     "text": [
      "Toss 1:   T\n",
      "Toss 2:   T\n",
      "Toss 3:   H\n",
      "Toss 4:   H\n",
      "Toss 5:   T\n",
      "Toss 6:   H\n",
      "Toss 7:   H\n",
      "Toss 8:   T\n",
      "Toss 9:   H\n"
     ]
    },
    {
     "data": {
      "text/plain": [
       "(<Figure size 576x288 with 2 Axes>,\n",
       " array([<AxesSubplot:title={'center':'Histogram'}, ylabel='Count'>,\n",
       "        <AxesSubplot:title={'center':'Probability Mass Function (PMF)'}, ylabel='Probability'>],\n",
       "       dtype=object))"
      ]
     },
     "execution_count": 14,
     "metadata": {},
     "output_type": "execute_result"
    },
    {
     "data": {
      "image/png": "[encoded data removed]",
      "text/plain": [
       "<Figure size 576x288 with 2 Axes>"
      ]
     },
     "metadata": {
      "needs_background": "light"
     },
     "output_type": "display_data"
    }
   ],
   "source": [
    "outcomes = coin_toss(n_flips=9)\n",
    "compare_results(outcomes)"
   ]
  },
  {
   "cell_type": "code",
   "execution_count": 15,
   "metadata": {
    "ExecuteTime": {
     "end_time": "2020-08-06T15:49:16.563999Z",
     "start_time": "2020-08-06T15:49:16.318336Z"
    }
   },
   "outputs": [
    {
     "name": "stdout",
     "output_type": "stream",
     "text": [
      "Toss 1:   T\n",
      "Toss 2:   T\n",
      "Toss 3:   H\n",
      "Toss 4:   T\n",
      "Toss 5:   H\n",
      "Toss 6:   T\n",
      "Toss 7:   H\n",
      "Toss 8:   T\n",
      "Toss 9:   T\n",
      "Toss 10:   H\n",
      "Toss 11:   T\n",
      "Toss 12:   H\n",
      "Toss 13:   T\n",
      "Toss 14:   T\n",
      "Toss 15:   H\n",
      "Toss 16:   H\n",
      "Toss 17:   T\n",
      "Toss 18:   H\n",
      "Toss 19:   T\n",
      "Toss 20:   T\n",
      "Toss 21:   H\n"
     ]
    },
    {
     "data": {
      "text/plain": [
       "(<Figure size 576x288 with 2 Axes>,\n",
       " array([<AxesSubplot:title={'center':'Histogram'}, ylabel='Count'>,\n",
       "        <AxesSubplot:title={'center':'Probability Mass Function (PMF)'}, ylabel='Probability'>],\n",
       "       dtype=object))"
      ]
     },
     "execution_count": 15,
     "metadata": {},
     "output_type": "execute_result"
    },
    {
     "data": {
      "image/png": "[encoded data removed]",
      "text/plain": [
       "<Figure size 576x288 with 2 Axes>"
      ]
     },
     "metadata": {
      "needs_background": "light"
     },
     "output_type": "display_data"
    }
   ],
   "source": [
    "outcomes = coin_toss(n_flips=21,results=outcomes)\n",
    "compare_results(outcomes)"
   ]
  },
  {
   "cell_type": "code",
   "execution_count": 16,
   "metadata": {
    "ExecuteTime": {
     "end_time": "2020-08-06T15:49:16.802003Z",
     "start_time": "2020-08-06T15:49:16.565251Z"
    }
   },
   "outputs": [
    {
     "data": {
      "text/plain": [
       "(<Figure size 576x288 with 2 Axes>,\n",
       " array([<AxesSubplot:title={'center':'Histogram'}, ylabel='Count'>,\n",
       "        <AxesSubplot:title={'center':'Probability Mass Function (PMF)'}, ylabel='Probability'>],\n",
       "       dtype=object))"
      ]
     },
     "execution_count": 16,
     "metadata": {},
     "output_type": "execute_result"
    },
    {
     "data": {
      "image/png": "[encoded data removed]",
      "text/plain": [
       "<Figure size 576x288 with 2 Axes>"
      ]
     },
     "metadata": {
      "needs_background": "light"
     },
     "output_type": "display_data"
    }
   ],
   "source": [
    "outcomes = coin_toss(n_flips=20,results=outcomes,verbose=False)\n",
    "compare_results(outcomes)"
   ]
  },
  {
   "cell_type": "code",
   "execution_count": 17,
   "metadata": {
    "ExecuteTime": {
     "end_time": "2020-08-06T15:49:17.118832Z",
     "start_time": "2020-08-06T15:49:16.803444Z"
    },
    "scrolled": false
   },
   "outputs": [
    {
     "data": {
      "text/plain": [
       "(<Figure size 576x288 with 2 Axes>,\n",
       " array([<AxesSubplot:title={'center':'Histogram'}, ylabel='Count'>,\n",
       "        <AxesSubplot:title={'center':'Probability Mass Function (PMF)'}, ylabel='Probability'>],\n",
       "       dtype=object))"
      ]
     },
     "execution_count": 17,
     "metadata": {},
     "output_type": "execute_result"
    },
    {
     "data": {
      "image/png": "[encoded data removed]",
      "text/plain": [
       "<Figure size 576x288 with 2 Axes>"
      ]
     },
     "metadata": {
      "needs_background": "light"
     },
     "output_type": "display_data"
    }
   ],
   "source": [
    "outcomes = coin_toss(n_flips=200,verbose=False)\n",
    "compare_results(outcomes)"
   ]
  },
  {
   "cell_type": "markdown",
   "metadata": {},
   "source": [
    "#### Bernoulli Distribution/Trials\n",
    "- Probability of $x$ successes in $n$ trials for Bernoulli/binomial variable (binary outcome)\n",
    "    - Described by only one parameter $p$\n",
    "\n",
    "\n",
    "- For binomial *trial*: \n",
    "$$Y = Bernoulli(p)$$ and $p=P(Y=1)=0.8$"
   ]
  },
  {
   "cell_type": "markdown",
   "metadata": {},
   "source": [
    "> RUN NINO"
   ]
  },
  {
   "cell_type": "code",
   "execution_count": null,
   "metadata": {},
   "outputs": [],
   "source": []
  }
 ],
 "metadata": {
  "kernelspec": {
   "display_name": "learn-env",
   "language": "python",
   "name": "learn-env"
  },
  "language_info": {
   "codemirror_mode": {
    "name": "ipython",
    "version": 3
   },
   "file_extension": ".py",
   "mimetype": "text/x-python",
   "name": "python",
   "nbconvert_exporter": "python",
   "pygments_lexer": "ipython3",
   "version": "3.6.11"
  },
  "toc": {
   "base_numbering": 1,
   "nav_menu": {},
   "number_sections": false,
   "sideBar": true,
   "skip_h1_title": false,
   "title_cell": "Table of Contents",
   "title_sidebar": "Contents",
   "toc_cell": false,
   "toc_position": {},
   "toc_section_display": true,
   "toc_window_display": false
  }
 },
 "nbformat": 4,
 "nbformat_minor": 4
}
